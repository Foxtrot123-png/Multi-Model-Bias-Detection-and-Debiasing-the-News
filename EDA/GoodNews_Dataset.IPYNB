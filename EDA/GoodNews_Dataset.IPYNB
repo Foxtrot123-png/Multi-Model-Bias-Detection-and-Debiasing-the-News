{
 "cells": [
  {
   "cell_type": "code",
   "execution_count": null,
   "id": "be12f452",
   "metadata": {},
   "outputs": [],
   "source": [
    "#Loading the data "
   ]
  },
  {
   "cell_type": "code",
   "execution_count": null,
   "id": "02f946f2",
   "metadata": {},
   "outputs": [],
   "source": []
  }
 ],
 "metadata": {
  "kernelspec": {
   "display_name": "base",
   "language": "python",
   "name": "python3"
  },
  "language_info": {
   "name": "python",
   "version": "3.12.7"
  }
 },
 "nbformat": 4,
 "nbformat_minor": 5
}
