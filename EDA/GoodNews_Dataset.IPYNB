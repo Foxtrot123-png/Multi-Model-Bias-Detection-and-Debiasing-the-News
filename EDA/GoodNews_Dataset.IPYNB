{
 "cells": [
  {
   "cell_type": "code",
   "execution_count": 1,
   "id": "be12f452",
   "metadata": {},
   "outputs": [],
   "source": [
    "#Loading the data "
   ]
  },
  {
   "cell_type": "code",
   "execution_count": 2,
   "id": "02f946f2",
   "metadata": {},
   "outputs": [],
   "source": [
    "import pandas as pd \n",
    "import numpy as np"
   ]
  },
  {
   "cell_type": "code",
   "execution_count": 3,
   "id": "f6728954",
   "metadata": {},
   "outputs": [],
   "source": [
    "GND = pd.read_csv('C:\\\\Users\\\\ritik\\\\OneDrive\\\\Documents\\\\GitHub\\\\Multi-Model-Bias-Detection-and-Debiasing-the-News\\\\Good_News_Dataset\\\\combined_dataset.csv',delimiter=',')"
   ]
  },
  {
   "cell_type": "code",
   "execution_count": 4,
   "id": "0717a1da",
   "metadata": {},
   "outputs": [
    {
     "data": {
      "text/plain": [
       "2427576"
      ]
     },
     "execution_count": 4,
     "metadata": {},
     "output_type": "execute_result"
    }
   ],
   "source": [
    "GND.size"
   ]
  },
  {
   "cell_type": "code",
   "execution_count": 5,
   "id": "7838bc1b",
   "metadata": {},
   "outputs": [
    {
     "data": {
      "text/plain": [
       "404596"
      ]
     },
     "execution_count": 5,
     "metadata": {},
     "output_type": "execute_result"
    }
   ],
   "source": [
    "GND.shape[0]"
   ]
  },
  {
   "cell_type": "code",
   "execution_count": 6,
   "id": "6b2e70b1",
   "metadata": {},
   "outputs": [
    {
     "data": {
      "application/vnd.microsoft.datawrangler.viewer.v0+json": {
       "columns": [
        {
         "name": "index",
         "rawType": "object",
         "type": "string"
        },
        {
         "name": "0",
         "rawType": "int64",
         "type": "integer"
        }
       ],
       "ref": "e9fe09ec-bcd2-4416-a4bd-82af1e92a152",
       "rows": [
        [
         "image_path",
         "0"
        ],
        [
         "caption",
         "34813"
        ],
        [
         "article",
         "0"
        ],
        [
         "headline",
         "2"
        ],
        [
         "article_id",
         "0"
        ],
        [
         "image_index",
         "0"
        ]
       ],
       "shape": {
        "columns": 1,
        "rows": 6
       }
      },
      "text/plain": [
       "image_path         0\n",
       "caption        34813\n",
       "article            0\n",
       "headline           2\n",
       "article_id         0\n",
       "image_index        0\n",
       "dtype: int64"
      ]
     },
     "execution_count": 6,
     "metadata": {},
     "output_type": "execute_result"
    }
   ],
   "source": [
    "GND.isna().sum()"
   ]
  },
  {
   "cell_type": "code",
   "execution_count": 7,
   "id": "ed5faf76",
   "metadata": {},
   "outputs": [],
   "source": [
    "gnd_nona = GND.dropna()"
   ]
  },
  {
   "cell_type": "code",
   "execution_count": 8,
   "id": "ffd94dc7",
   "metadata": {},
   "outputs": [
    {
     "data": {
      "application/vnd.microsoft.datawrangler.viewer.v0+json": {
       "columns": [
        {
         "name": "index",
         "rawType": "object",
         "type": "string"
        },
        {
         "name": "0",
         "rawType": "int64",
         "type": "integer"
        }
       ],
       "ref": "765c121a-1221-4777-b7dd-c2f1563216d7",
       "rows": [
        [
         "image_path",
         "0"
        ],
        [
         "caption",
         "0"
        ],
        [
         "article",
         "0"
        ],
        [
         "headline",
         "0"
        ],
        [
         "article_id",
         "0"
        ],
        [
         "image_index",
         "0"
        ]
       ],
       "shape": {
        "columns": 1,
        "rows": 6
       }
      },
      "text/plain": [
       "image_path     0\n",
       "caption        0\n",
       "article        0\n",
       "headline       0\n",
       "article_id     0\n",
       "image_index    0\n",
       "dtype: int64"
      ]
     },
     "execution_count": 8,
     "metadata": {},
     "output_type": "execute_result"
    }
   ],
   "source": [
    "gnd_nona.isna().sum()"
   ]
  },
  {
   "cell_type": "markdown",
   "id": "ae06dd11",
   "metadata": {},
   "source": [
    "Lower Casing the whole dataset "
   ]
  },
  {
   "cell_type": "code",
   "execution_count": 9,
   "id": "d88e159c",
   "metadata": {},
   "outputs": [
    {
     "name": "stderr",
     "output_type": "stream",
     "text": [
      "C:\\Users\\ritik\\AppData\\Local\\Temp\\ipykernel_3896\\1671697315.py:1: FutureWarning: DataFrame.applymap has been deprecated. Use DataFrame.map instead.\n",
      "  gnd_nona = gnd_nona.applymap(lambda x: x.lower() if isinstance(x, str) else x)\n"
     ]
    }
   ],
   "source": [
    "gnd_nona = gnd_nona.applymap(lambda x: x.lower() if isinstance(x, str) else x)\n"
   ]
  },
  {
   "cell_type": "code",
   "execution_count": 10,
   "id": "b0574bae",
   "metadata": {},
   "outputs": [],
   "source": [
    "gnd_nona['caption'] = gnd_nona['caption'].replace(to_replace=r'[^\\w\\s]', value='', regex=True)\n",
    "gnd_nona['article'] = gnd_nona['article'].replace(to_replace=r'[^\\w\\s]', value='', regex=True)\n",
    "gnd_nona['headline'] = gnd_nona['headline'].replace(to_replace=r'[^\\w\\s]', value='', regex=True)\n"
   ]
  },
  {
   "cell_type": "code",
   "execution_count": 11,
   "id": "e7179546",
   "metadata": {},
   "outputs": [
    {
     "name": "stdout",
     "output_type": "stream",
     "text": [
      "Requirement already satisfied: transformers in c:\\users\\ritik\\anaconda3\\lib\\site-packages (4.52.4)\n",
      "Requirement already satisfied: filelock in c:\\users\\ritik\\anaconda3\\lib\\site-packages (from transformers) (3.13.1)\n",
      "Requirement already satisfied: huggingface-hub<1.0,>=0.30.0 in c:\\users\\ritik\\anaconda3\\lib\\site-packages (from transformers) (0.32.3)\n",
      "Requirement already satisfied: numpy>=1.17 in c:\\users\\ritik\\anaconda3\\lib\\site-packages (from transformers) (1.26.4)\n",
      "Requirement already satisfied: packaging>=20.0 in c:\\users\\ritik\\anaconda3\\lib\\site-packages (from transformers) (24.1)\n",
      "Requirement already satisfied: pyyaml>=5.1 in c:\\users\\ritik\\anaconda3\\lib\\site-packages (from transformers) (6.0.1)\n",
      "Requirement already satisfied: regex!=2019.12.17 in c:\\users\\ritik\\anaconda3\\lib\\site-packages (from transformers) (2024.9.11)\n",
      "Requirement already satisfied: requests in c:\\users\\ritik\\anaconda3\\lib\\site-packages (from transformers) (2.32.3)\n",
      "Requirement already satisfied: tokenizers<0.22,>=0.21 in c:\\users\\ritik\\anaconda3\\lib\\site-packages (from transformers) (0.21.1)\n",
      "Requirement already satisfied: safetensors>=0.4.3 in c:\\users\\ritik\\anaconda3\\lib\\site-packages (from transformers) (0.5.3)\n",
      "Requirement already satisfied: tqdm>=4.27 in c:\\users\\ritik\\anaconda3\\lib\\site-packages (from transformers) (4.66.5)\n",
      "Requirement already satisfied: fsspec>=2023.5.0 in c:\\users\\ritik\\anaconda3\\lib\\site-packages (from huggingface-hub<1.0,>=0.30.0->transformers) (2024.6.1)\n",
      "Requirement already satisfied: typing-extensions>=3.7.4.3 in c:\\users\\ritik\\anaconda3\\lib\\site-packages (from huggingface-hub<1.0,>=0.30.0->transformers) (4.11.0)\n",
      "Requirement already satisfied: colorama in c:\\users\\ritik\\anaconda3\\lib\\site-packages (from tqdm>=4.27->transformers) (0.4.6)\n",
      "Requirement already satisfied: charset-normalizer<4,>=2 in c:\\users\\ritik\\anaconda3\\lib\\site-packages (from requests->transformers) (3.3.2)\n",
      "Requirement already satisfied: idna<4,>=2.5 in c:\\users\\ritik\\anaconda3\\lib\\site-packages (from requests->transformers) (3.7)\n",
      "Requirement already satisfied: urllib3<3,>=1.21.1 in c:\\users\\ritik\\anaconda3\\lib\\site-packages (from requests->transformers) (2.2.3)\n",
      "Requirement already satisfied: certifi>=2017.4.17 in c:\\users\\ritik\\anaconda3\\lib\\site-packages (from requests->transformers) (2025.4.26)\n"
     ]
    },
    {
     "name": "stderr",
     "output_type": "stream",
     "text": [
      "\n",
      "[notice] A new release of pip is available: 25.0.1 -> 25.1.1\n",
      "[notice] To update, run: python.exe -m pip install --upgrade pip\n"
     ]
    }
   ],
   "source": [
    "!pip install transformers"
   ]
  },
  {
   "cell_type": "code",
   "execution_count": 19,
   "id": "8483c32c",
   "metadata": {},
   "outputs": [
    {
     "data": {
      "text/plain": [
       "369781"
      ]
     },
     "execution_count": 19,
     "metadata": {},
     "output_type": "execute_result"
    }
   ],
   "source": [
    "gnd_nona.shape[0]"
   ]
  },
  {
   "cell_type": "markdown",
   "id": "69493ca3",
   "metadata": {},
   "source": [
    "The dataset is quite big and I would need more computing power to just tokenize it . So it is better I take random sample of data from it "
   ]
  },
  {
   "cell_type": "code",
   "execution_count": 37,
   "id": "041ae803",
   "metadata": {},
   "outputs": [],
   "source": [
    "gnd_sampled = gnd_nona.sample(n=100000,random_state=42)"
   ]
  },
  {
   "cell_type": "code",
   "execution_count": 38,
   "id": "37fcee56",
   "metadata": {},
   "outputs": [
    {
     "data": {
      "text/plain": [
       "100000"
      ]
     },
     "execution_count": 38,
     "metadata": {},
     "output_type": "execute_result"
    }
   ],
   "source": [
    "gnd_sampled.shape[0]"
   ]
  },
  {
   "cell_type": "code",
   "execution_count": 39,
   "id": "c213ab3d",
   "metadata": {},
   "outputs": [
    {
     "data": {
      "application/vnd.microsoft.datawrangler.viewer.v0+json": {
       "columns": [
        {
         "name": "index",
         "rawType": "int64",
         "type": "integer"
        },
        {
         "name": "image_path",
         "rawType": "object",
         "type": "string"
        },
        {
         "name": "caption",
         "rawType": "object",
         "type": "string"
        },
        {
         "name": "article",
         "rawType": "object",
         "type": "string"
        },
        {
         "name": "headline",
         "rawType": "object",
         "type": "string"
        },
        {
         "name": "article_id",
         "rawType": "object",
         "type": "string"
        },
        {
         "name": "image_index",
         "rawType": "int64",
         "type": "integer"
        }
       ],
       "ref": "da07157e-06be-42ac-a3cb-8fd44ebf53ee",
       "rows": [
        [
         "35099",
         "c:\\users\\ritik\\goodnews\\images\\5650a72838f0d82713feb4ea_1.jpg",
         "iraqi security forces training on mosuls outskirts in january to take on isis militants",
         "the attacks in paris last week were a deadly demonstration that the islamic state once a group of militants focused on seizing territory in iraq and syria has broadened its focus to attack the west the electronic files seized in the pentagon investigation tell the story of the groups rise as seen through the eyes of centcom which oversees military operations across the middle east\n\nthe exact content of those documents is unclear and may not become public because so much of the information is classified but military officials have told congress that some of those emails and documents may have been deleted before they had to be turned over to investigators according to a senior congressional official who requested anonymity to speak about the ongoing inquiry current and former officials have separately made similar claims on condition of anonymity to the new york times although lawmakers are demanding answers about those claims it is not clear that the inspector general has been able to verify them a spokeswoman for the inspector general declined to comment\n\nstaff members at the house permanent select committee on intelligence are also poring over years of centcom intelligence reports and comparing them to assessments from the central intelligence agency the defense intelligence agency and others the committee is not just examining reports about iraq syria and the islamic state but also about afghanistan and other areas under centcoms purview the insurrection inside centcom is an important chapter in the story of how the united states responded to the growing threat from the islamic state this past summer a group of centcom analysts took concerns about their superiors to the inspector general saying they had evidence that senior officials had changed intelligence assessments to overstate the progress of american airstrikes against the islamic state also known as isis",
         "pentagon expands inquiry into intelligence on isis surge",
         "5650a72838f0d82713feb4ea",
         "1"
        ],
        [
         "309071",
         "c:\\users\\ritik\\goodnews\\images\\55b18b2d38f0d820636df774_0.jpg",
         "deputy secretary of defense bob work what happened was the procedures were the primary culprit he said about the army laboratory",
         "washington  the pentagon said on thursday that its initial review of how an army laboratory sent dozens of samples of live anthrax to facilities across the united states and around the world found that the lab had conducted insufficient testing and irradiation of samples\n\nthe review found no criminal or malicious intent behind the shipments from the dugway proving ground in utah\n\ndugway followed the procedures that were in place as far as we know deputy defense secretary bob work told reporters what happened was the procedures were the primary culprit\n\naccording to a pentagon report the main problem at dugway was that only about 5 percent of the anthrax samples that the lab irradiated were reviewed to ensure that the bacteria had been inactivated a rate far lower than that of similar facilities",
         "procedures faulted in army lab8217s shipment of anthrax ",
         "55b18b2d38f0d820636df774",
         "0"
        ],
        [
         "45261",
         "c:\\users\\ritik\\goodnews\\images\\515dadbfcf28d0219d002c71_1.jpg",
         "\nafter scrambling on this play brady threw an interception that linebacker chase blackburn caught deep in giants territory\n\n",
         "guard logan mankins said ive lost a lot of games but nothing like this and it might have felt that way because the patriots had overcome so much this season  a maligned defense several injuries the death of myra kraft the wife of the teams owner robert k kraft  and yet had won 10 in a row cruising since losing to the giants at gillette stadium on nov 6\n\nin guiding new england to its fifth super bowl appearance in 11 years brady leaned on welker he also leaned on his other constant rob gronkowski who all week deflected queries about his left ankle gronkowski spent significant time on the sideline sunday night and when he did play he was more effective as a decoy than a receiving option\n\ngronkowski caught only two passes for 26 yards one throw intended for him ended up in the hands of chase blackburn for bradys lone interception asked how his ankle felt gronkowski said im good asked if it limited him at all gronkowski dismissed the question with a slight head shake saying i was 100 percent out there doing everything they asked me to do\n\nmaybe so but it was not enough as gronkowskis teammates shuffled around the area almost all of them uttered some variation of what deion branch said i thought we all could have done something to help him in the game he said of brady i dont think anyone had the best game on the offensive side of the ball\n\ndanny woodhead came closest scoring the patriots first touchdown and accounting for 60 yards hernandez added 67 receiving yards and a touchdown but he also dropped a pass on the patriots final drive new england reached as far as its own 49 before bradys heave fell into the end zone the patriots failed to score over the final 26 minutes\n\nits not just about one play hernandez said its a whole bunch throughout the whole game\n\nuntil ahmad bradshaws touchdown with 57 seconds remaining the patriots had led the giants on the strength of two epic drives ruthless in their efficiency that bookended halftime the first which covered 96 yards showcased woodheads shiftiness and speed the second which stretched 79 yards revealed the matchup problems that hernandez  a receiver masquerading as a tight end  can create\n\nbrady dissected the giants defense completing 27 of 41 passes for 276 yards with mostly dinks and dunks but was undermined by welkers drop of that play brady said welker went up to try to make it as he always does and we just couldnt connect he added ill keep throwing the ball to him for as long as i possibly can\n\nthat is how brady has felt about gronkowski whose huge hands and sheer size  6 feet 6 and 265 pounds  make him all but impossible to cover but his mobility and quickness and thus his potential effectiveness sunday were called into question as soon as he sustained a high ankle sprain two weeks ago in the afc championship game\n\non sunday gronkowski lined up detached from the line early on away from his regular tight end spot that eased the demands on his ankle but it negated one of his underappreciated strengths run blocking by the time brady looked gronkowskis way for the first time only 301 remained in the first half gronkowski grabbed that pass a 20yarder over the middle\n\nright then woodhead and hernandez started emerging as a problem for the giants linebackers michael boley the giants stalwart up the middle could not contain woodhead neither could jacquian williams the fastest of the bunch woodhead zipped across the middle to punctuate what tied for the longest drive in super bowl history hauling in a 4yard touchdown with 8 seconds remaining left in the half\n\nafterward brady directed a drive that culminated with hernandez faking out blackburn shedding him as he caught a nifty pass over the middle for a 12yard touchdown that extended new englands lead to 179 and with bradys offensive threats coalescing  and with brady himself in the midst of a string of 16 consecutive completions  it seemed as if the patriots had found their footing with that elusive championship in sight and then welker dropped the ball",
         "drop by welker bradys most reliable receiver hurts patriots",
         "515dadbfcf28d0219d002c71",
         "1"
        ],
        [
         "44344",
         "c:\\users\\ritik\\goodnews\\images\\57f7c5ff95d0e021d798aafe_1.jpg",
         "work by mark rothko at the portland art museum in 2012",
         "under the heading of localboymakesgood the painter mark rothko and portland ore have never really been paired in the public imagination rothko whose family emigrated to portland when he was 10 from what is now latvia left for yale and then new york and returned only infrequently to his hometown during his lifetime\n\nbut now the city which gave rothko his first solo exhibition and in 2012 a wellreceived retrospective is linking its art reputation more closely to his work the portland art museum has announced that it will undertake an expansion to unite its two existing freestanding buildings the addition to be called the rothko pavilion comes with a partnership with rothkos children christopher rothko and kate rothko prizel that will provide loans of major rothko paintings from their private collection the works will be lent individually in rotation over the course of the next two decades",
         "mark rothko son of oregon to be honored with museum wing",
         "57f7c5ff95d0e021d798aafe",
         "1"
        ],
        [
         "70416",
         "c:\\users\\ritik\\goodnews\\images\\5245e3e638f0d8198973d908_5.jpg",
         "\npeople wait in line at the anne frank house\n\n",
         "the train station used to be at the other end of this street the leader of the communist movement disembarked and headed this way and lodged in my mind are the reports of the policemen who were assigned to follow his movements\n\nnot all the ghosts who populate my travels in amsterdam are famous ones though most seem to have done fairly consequential things in life walking down a narrow dark alley called the nes which extends from the harbor toward the city center can be a vacant experience  there are some interesting restaurants and bars but few tourist sites and almost nothing seems of historical note\n\nbut when im on the nes i feel im about to run into a tall handsome wily man who in his day favored lace collars and a twisty little mustache his name was dirck van os and while history has forgotten him his house on this street which alas no longer exists could be considered the birthplace of capitalism\n\nfor four months in 1602 amsterdammers streamed into his parlor to buy pieces of a new kind of corporation one that allowed backers to sell their portion at a later date at a higher or lower value the dutch east india company transformed the world and it made amsterdam briefly and improbably the most powerful city in the world\n\nbut its biggest contribution to history may be in the fact that in this little alley van os and his merchant colleagues gave birth to the concept of shares of stock a few years later a little farther down the street came the first stock exchange things would never be the same\n\nsome ghosts are not attached to a particular street or neighborhood but are coaxed into being by a mood that settles over the city in the 1870s a mercurial 24yearold dutchman from the southern part of the country spent a year here\n\nhe came intending to train for the ministry but discovered that he wasnt suited for it instead he roamed amsterdams quays and harborfront seething fuming confused occasionally erupting with joy at things he observed these old narrow rather somber streets a canal lined with elm trees a stormy sky with big clouds reflecting in puddles on the ground gnarled undergrowth and the trees with their strange shapes\n\nhe didnt realize it but  though not yet an artist was already painting with words for me today a heavy cloud reflected in a canal or a set of twisted tree trunks will summon if not the artist himself a manic flash akin to his\n\nanother vanished van gogh meanwhile retains a spectral presence over the linnaeusstraat a broad avenue that runs along the oosterpark vincent wrote the above observations to his brother theo his closest confidante a descendant of theos also  was a famous and in many ways infamous amsterdam filmmaker and societal gadfly of recent memory he was murdered here on the street in front of his house in 2004 in reaction to an antiislamic film he made the event shocked the city and touched off waves of angst in europe over  which have yet to settle\n\nof all the ghosts of amsterdam though two stand far above the rest i encounter one or the other almost daily somehow their lives were lived in this city with such an intensity that they seem to have become part of it\n\nin the heart of amsterdam a little iron drawbridge crosses the kloveniersburgwal canal standing in the middle of it gives a panorama of views up and down the canal through a tiny cafecluttered street down yet another street through an ancient gateway into a courtyard and to a place where the waters that flow through and around the city execute a complicated branching maneuver as gary schwartz an americanborn rembrandt scholar once pointed out to me from this spot you take in the amsterdam that the greatestever dutch master experienced\n\nrembrandt van rijn was born in leiden 30 miles away but came to amsterdam in his 20s drawn by the citys rapid rise and the many upwardly mobile merchants who would be likely customers and once he arrived he seems not only never to have left but by and large to have restricted himself to this little zone virtually everything important rembrandt did he did within a few minutes walk of this bridge\n\nrembrandt figures so thoroughly in amsterdam i think because he is intimately associated with the citys greatest achievement in his era pioneered many of the concepts embedded in the term liberal which i mean not in the sexanddrugs permissive sense though that would come too but more deeply and broadly as a philosophy based on the individual and individual freedom the essence of what makes us modern\n\namsterdam led the rest of away from the dogma that all authority came from monarch and church rather this new philosophy held truth was based on reason  in the words of the frenchman rene descartes who also lived in amsterdam  on the mind and its good sense central to this was a new awareness of oneself as an individual distinct from the group and an outgrowth of this awareness was a sudden fascination with the human face  with portraits\n\nrembrandt fed the portrait craze we remember him for his dizzying output and his dexterity with so many styles of painting\n\nbut his fame among his contemporaries came from his way with faces his ability not just to paint what people looked like on the outside but also to give a sense which was shockingly and exhilaratingly new at the time of the person within in one twoyear period he churned out 42 portraits many of people who lived in the houses in this neighborhood\n\nrembrandt was a man on the rise and he felt it appropriate that he live in this same area he married saskia van uylenburgh the cousin of his art dealer and the two moved into a rental house just around the corner from the little iron bridge the site of their house is now a big modern airy cafe called de jaren where i spent a good portion of time writing my history of the city and it was impossible while doing such work in this spot not to imagine the ambitious arrogant artist barreling in and out of the place\n\nfrom his house it was a moments walk around the corner and over the bridge to a building on the left side of the street that housed of all things the board responsible for maintaining quality control on textiles that the city shipped out not a very exciting occupation but even these men wanted their likenesses captured and rembrandt managed to give these seemingly quashingly bland officials an air of brooding mystery the staalmeesters staal being dutch for sample while considered a masterpiece eventually achieved a second kind of immortality when it was adopted as the logo for dutch masters cigars\n\njust behind the bridge meanwhile a corner building now a hotel was the headquarters of one of the civic guard companies that were given the task of patrolling the city streets they too were mad for images of themselves they commissioned to paint their group portrait and love it or hate it the result the night watch is considered one of the worlds great art treasures\n\nthe ghosts of rembrandts friends populate this neighborhood as well and they too have associations with the citys liberal heritage the focus on the individual and the secular put amsterdam at the cutting edge of science\n\nthe square called the nieuwmarkt a short distance away from the bridge is dominated by a squat medieval building called de waag or weigh house which has had many functions through the centuries\n\ntoday its ground floor accommodates a restaurant in the 17th century its upper chamber was the citys anatomical theater dr nicolaes tulp the citys chief physician and one of its most revered residents performed public dissections here and in the winter of 16312 dissections took place in winter because the cold kept the stench down the young rembrandt tramped up here to make studies for what would be his first great painting the anatomy lesson of dr nicolaes tulp in highlighting science the human body and the distinctive personality of the physician is a kind of trifecta of dutch liberalism\n\nas rembrandt reached the height of his fame he bought a house a few streets away the building is now the rembrandt house museum that cost more than he could afford that plus the arrogance that eventually caused his patrons to flee set off his slide into eventual bankruptcy\n\nin this house his wife died in childbirth here too he began a tempestuous affair with geertje dircx the nurse he hired to care for the child he tried to end the affair but geertje refused to be cast aside he solved the problem by using his influence to have her committed to a workhouse\n\nfor all the worldhistoric insight into humanity that his portraits show he revealed himself at the sad end of his life to be adept at quite inhuman behavior\n\ntwo years ago my daughter and i took a walk together across amsterdam following in the footsteps of the historical figure who has become so to speak the citys most famous export eva was 14 at the time the same age as when she set out on her much more somber walk\n\nprobably every visitor to the city knows the anne frank house where the girl and her family along with a few other people hid from the nazis and where anne wrote her diary that building on the prinsengracht one of the grand central canals was not the familys normal residence but her fathers place of business\n\nthey lived in the rivierenbuurt then a newly built area to the south of the central canal zone in her diary anne describes the day she her father and her mother left their apartment for good and walked to her fathers company where a secret space had been built to house them her sister margot went separately by bicycle anne didnt give the exact route they took so eva and i made a guess\n\nwe started at merwedeplein the little plein or square that the franks apartment looked out on the apartment is today owned by the city which honors the memory of its former inhabitants by making it available to foreign writers who have fled persecution\n\nwe sat on a bench in the square and at my urging eva read aloud the passage about the familys departure how they wore layers of clothing because carrying suitcases would tip off the nazis that they were going into hiding then we set off the neighborhood which used to be the heart of jewish amsterdam is a peaceful one the buildings dating from the period just before the franks moved in are surprisingly modernlooking\n\ncrossing a canal we entered de pijp and things livened up de pijp is a ragged busy neighborhood of falafel stands artists lofts yoga studios surinamese restaurants and coffee shops with reggae and pot smoke coming out their windows it was a warm spring day and the sun gave the city an uncharacteristically drowsy feel\n\nthe city the franks walked through had been surprisingly calm for a time after the nazi invasion but then came the grayandgreen military vehicles of the occupiers the razzias roundups of jews began the franks were on foot that morning because jews had been barred from public transportation and from parks libraries and restaurants the great gift of the age of rembrandt  the ennobling of the individual human being  was about to be ruthlessly stripped away\n\nworse still amsterdammers themselves assisted in this violent betrayal of their liberal tradition the citys efficient administrators made it easier for nazis to identify and remove jews as a result a much greater percentage of jews were murdered during the war than those of any other country amsterdam before the holocaust had 80000 jews today there are about 15000\n\nanne and her parents made it safely to the placid district of the central canals the main tourist zone today which had been built in the citys golden age heyday they slipped into the building where otto frank annes father worked and remained there until two years later they were caught and shipped off to concentration camps\n\neva and i walked past the anne frank house which wed visited several times before and found a canalside cafe of course our walk had been in part a typical parental ploy to instill something meaningful in a child i asked eva what she thought about it she answered by saying have you read  hes amazing\n\ni instantly recognized the non sequitur as a classic teenage gambit to thwart parental pedagogy but it still worked i was disoriented surely it hadnt been that long ago that she was enthralled by since when had she grown up to become a reader of neuroscientific case studies who was this person\n\nthen i recalled something that otto frank had written he was the only member of the family to survive the war hed been stunned when he read the diary that his teenage daughter had left behind and said it made him feel that he had never really known her\n\nwhat surprised him was i think the very thing that made the diary an international sensation it vividly displays both what amsterdams history has always been about and what the nazi occupation so vibrantly threatened the mysterious complexity that is the individual human being\n\nthis girl who would soon have the life crushed out of her represents not just the others who died without leaving words behind but all of us she showed us what human individuality is and she did it surprisingly enough in the same way rembrandt did by painting a portrait\n\nas her father was shocked and embarrassed to discover her diary reveals a full deep complicated person who insists on continuing with her adolescents journey of selfdiscovery even as the swastikas paraded by outside its funny but i can sometimes see myself as others see me i take a leisurely look at the person called anne frank and browse through the pages of her life as though she were a stranger\n\nif ghosts who represent stages in the rise of individual freedom still haunt the streets of amsterdam making the city itself far greater than the sum of its museums and tourist sites for me the spirit of this girl stands out above all the others because in addition she showed how fragile that freedom is",
         "the ghosts of amsterdam",
         "5245e3e638f0d8198973d908",
         "5"
        ]
       ],
       "shape": {
        "columns": 6,
        "rows": 5
       }
      },
      "text/html": [
       "<div>\n",
       "<style scoped>\n",
       "    .dataframe tbody tr th:only-of-type {\n",
       "        vertical-align: middle;\n",
       "    }\n",
       "\n",
       "    .dataframe tbody tr th {\n",
       "        vertical-align: top;\n",
       "    }\n",
       "\n",
       "    .dataframe thead th {\n",
       "        text-align: right;\n",
       "    }\n",
       "</style>\n",
       "<table border=\"1\" class=\"dataframe\">\n",
       "  <thead>\n",
       "    <tr style=\"text-align: right;\">\n",
       "      <th></th>\n",
       "      <th>image_path</th>\n",
       "      <th>caption</th>\n",
       "      <th>article</th>\n",
       "      <th>headline</th>\n",
       "      <th>article_id</th>\n",
       "      <th>image_index</th>\n",
       "    </tr>\n",
       "  </thead>\n",
       "  <tbody>\n",
       "    <tr>\n",
       "      <th>35099</th>\n",
       "      <td>c:\\users\\ritik\\goodnews\\images\\5650a72838f0d82...</td>\n",
       "      <td>iraqi security forces training on mosuls outsk...</td>\n",
       "      <td>the attacks in paris last week were a deadly d...</td>\n",
       "      <td>pentagon expands inquiry into intelligence on ...</td>\n",
       "      <td>5650a72838f0d82713feb4ea</td>\n",
       "      <td>1</td>\n",
       "    </tr>\n",
       "    <tr>\n",
       "      <th>309071</th>\n",
       "      <td>c:\\users\\ritik\\goodnews\\images\\55b18b2d38f0d82...</td>\n",
       "      <td>deputy secretary of defense bob work what happ...</td>\n",
       "      <td>washington  the pentagon said on thursday that...</td>\n",
       "      <td>procedures faulted in army lab8217s shipment o...</td>\n",
       "      <td>55b18b2d38f0d820636df774</td>\n",
       "      <td>0</td>\n",
       "    </tr>\n",
       "    <tr>\n",
       "      <th>45261</th>\n",
       "      <td>c:\\users\\ritik\\goodnews\\images\\515dadbfcf28d02...</td>\n",
       "      <td>\\nafter scrambling on this play brady threw an...</td>\n",
       "      <td>guard logan mankins said ive lost a lot of gam...</td>\n",
       "      <td>drop by welker bradys most reliable receiver h...</td>\n",
       "      <td>515dadbfcf28d0219d002c71</td>\n",
       "      <td>1</td>\n",
       "    </tr>\n",
       "    <tr>\n",
       "      <th>44344</th>\n",
       "      <td>c:\\users\\ritik\\goodnews\\images\\57f7c5ff95d0e02...</td>\n",
       "      <td>work by mark rothko at the portland art museum...</td>\n",
       "      <td>under the heading of localboymakesgood the pai...</td>\n",
       "      <td>mark rothko son of oregon to be honored with m...</td>\n",
       "      <td>57f7c5ff95d0e021d798aafe</td>\n",
       "      <td>1</td>\n",
       "    </tr>\n",
       "    <tr>\n",
       "      <th>70416</th>\n",
       "      <td>c:\\users\\ritik\\goodnews\\images\\5245e3e638f0d81...</td>\n",
       "      <td>\\npeople wait in line at the anne frank house\\n\\n</td>\n",
       "      <td>the train station used to be at the other end ...</td>\n",
       "      <td>the ghosts of amsterdam</td>\n",
       "      <td>5245e3e638f0d8198973d908</td>\n",
       "      <td>5</td>\n",
       "    </tr>\n",
       "  </tbody>\n",
       "</table>\n",
       "</div>"
      ],
      "text/plain": [
       "                                               image_path  \\\n",
       "35099   c:\\users\\ritik\\goodnews\\images\\5650a72838f0d82...   \n",
       "309071  c:\\users\\ritik\\goodnews\\images\\55b18b2d38f0d82...   \n",
       "45261   c:\\users\\ritik\\goodnews\\images\\515dadbfcf28d02...   \n",
       "44344   c:\\users\\ritik\\goodnews\\images\\57f7c5ff95d0e02...   \n",
       "70416   c:\\users\\ritik\\goodnews\\images\\5245e3e638f0d81...   \n",
       "\n",
       "                                                  caption  \\\n",
       "35099   iraqi security forces training on mosuls outsk...   \n",
       "309071  deputy secretary of defense bob work what happ...   \n",
       "45261   \\nafter scrambling on this play brady threw an...   \n",
       "44344   work by mark rothko at the portland art museum...   \n",
       "70416   \\npeople wait in line at the anne frank house\\n\\n   \n",
       "\n",
       "                                                  article  \\\n",
       "35099   the attacks in paris last week were a deadly d...   \n",
       "309071  washington  the pentagon said on thursday that...   \n",
       "45261   guard logan mankins said ive lost a lot of gam...   \n",
       "44344   under the heading of localboymakesgood the pai...   \n",
       "70416   the train station used to be at the other end ...   \n",
       "\n",
       "                                                 headline  \\\n",
       "35099   pentagon expands inquiry into intelligence on ...   \n",
       "309071  procedures faulted in army lab8217s shipment o...   \n",
       "45261   drop by welker bradys most reliable receiver h...   \n",
       "44344   mark rothko son of oregon to be honored with m...   \n",
       "70416                             the ghosts of amsterdam   \n",
       "\n",
       "                      article_id  image_index  \n",
       "35099   5650a72838f0d82713feb4ea            1  \n",
       "309071  55b18b2d38f0d820636df774            0  \n",
       "45261   515dadbfcf28d0219d002c71            1  \n",
       "44344   57f7c5ff95d0e021d798aafe            1  \n",
       "70416   5245e3e638f0d8198973d908            5  "
      ]
     },
     "execution_count": 39,
     "metadata": {},
     "output_type": "execute_result"
    }
   ],
   "source": [
    "gnd_sampled.head()"
   ]
  },
  {
   "cell_type": "code",
   "execution_count": 40,
   "id": "ff398d82",
   "metadata": {},
   "outputs": [],
   "source": [
    "from transformers import AutoTokenizer"
   ]
  },
  {
   "cell_type": "code",
   "execution_count": 41,
   "id": "56adf1a1",
   "metadata": {},
   "outputs": [],
   "source": [
    "tokenizer = AutoTokenizer.from_pretrained(\"bert-base-cased\")"
   ]
  },
  {
   "cell_type": "code",
   "execution_count": 42,
   "id": "8e68d601",
   "metadata": {},
   "outputs": [],
   "source": [
    "for col in ['article','caption','headline']:\n",
    "    gnd_sampled[col+'_tokenized']= gnd_sampled[col].apply(lambda x :tokenizer.tokenize(x, max_length=512,truncation=True,padding=True) )\n",
    "    gnd_sampled[col+'_tokenized_id']= gnd_sampled[col].apply(lambda x :tokenizer.encode(x, max_length=512,truncation=True,padding=True) )\n",
    "\n",
    "\n"
   ]
  },
  {
   "cell_type": "code",
   "execution_count": 43,
   "id": "6f3f3b96",
   "metadata": {},
   "outputs": [
    {
     "data": {
      "application/vnd.microsoft.datawrangler.viewer.v0+json": {
       "columns": [
        {
         "name": "index",
         "rawType": "int64",
         "type": "integer"
        },
        {
         "name": "image_path",
         "rawType": "object",
         "type": "string"
        },
        {
         "name": "caption",
         "rawType": "object",
         "type": "string"
        },
        {
         "name": "article",
         "rawType": "object",
         "type": "string"
        },
        {
         "name": "headline",
         "rawType": "object",
         "type": "string"
        },
        {
         "name": "article_id",
         "rawType": "object",
         "type": "string"
        },
        {
         "name": "image_index",
         "rawType": "int64",
         "type": "integer"
        },
        {
         "name": "article_tokenized",
         "rawType": "object",
         "type": "unknown"
        },
        {
         "name": "article_tokenized_id",
         "rawType": "object",
         "type": "unknown"
        },
        {
         "name": "caption_tokenized",
         "rawType": "object",
         "type": "unknown"
        },
        {
         "name": "caption_tokenized_id",
         "rawType": "object",
         "type": "unknown"
        },
        {
         "name": "headline_tokenized",
         "rawType": "object",
         "type": "unknown"
        },
        {
         "name": "headline_tokenized_id",
         "rawType": "object",
         "type": "unknown"
        }
       ],
       "ref": "6c0b1bfd-8884-4a87-83e9-b6310c513683",
       "rows": [
        [
         "35099",
         "c:\\users\\ritik\\goodnews\\images\\5650a72838f0d82713feb4ea_1.jpg",
         "iraqi security forces training on mosuls outskirts in january to take on isis militants",
         "the attacks in paris last week were a deadly demonstration that the islamic state once a group of militants focused on seizing territory in iraq and syria has broadened its focus to attack the west the electronic files seized in the pentagon investigation tell the story of the groups rise as seen through the eyes of centcom which oversees military operations across the middle east\n\nthe exact content of those documents is unclear and may not become public because so much of the information is classified but military officials have told congress that some of those emails and documents may have been deleted before they had to be turned over to investigators according to a senior congressional official who requested anonymity to speak about the ongoing inquiry current and former officials have separately made similar claims on condition of anonymity to the new york times although lawmakers are demanding answers about those claims it is not clear that the inspector general has been able to verify them a spokeswoman for the inspector general declined to comment\n\nstaff members at the house permanent select committee on intelligence are also poring over years of centcom intelligence reports and comparing them to assessments from the central intelligence agency the defense intelligence agency and others the committee is not just examining reports about iraq syria and the islamic state but also about afghanistan and other areas under centcoms purview the insurrection inside centcom is an important chapter in the story of how the united states responded to the growing threat from the islamic state this past summer a group of centcom analysts took concerns about their superiors to the inspector general saying they had evidence that senior officials had changed intelligence assessments to overstate the progress of american airstrikes against the islamic state also known as isis",
         "pentagon expands inquiry into intelligence on isis surge",
         "5650a72838f0d82713feb4ea",
         "1",
         "['the', 'attacks', 'in', 'par', '##is', 'last', 'week', 'were', 'a', 'deadly', 'demonstration', 'that', 'the', 'is', '##lam', '##ic', 'state', 'once', 'a', 'group', 'of', 'militants', 'focused', 'on', 'se', '##izing', 'territory', 'in', 'i', '##ra', '##q', 'and', 's', '##yr', '##ia', 'has', 'broad', '##ened', 'its', 'focus', 'to', 'attack', 'the', 'west', 'the', 'electronic', 'files', 'seized', 'in', 'the', 'pen', '##tag', '##on', 'investigation', 'tell', 'the', 'story', 'of', 'the', 'groups', 'rise', 'as', 'seen', 'through', 'the', 'eyes', 'of', 'cent', '##com', 'which', 'oversees', 'military', 'operations', 'across', 'the', 'middle', 'east', 'the', 'exact', 'content', 'of', 'those', 'documents', 'is', 'unclear', 'and', 'may', 'not', 'become', 'public', 'because', 'so', 'much', 'of', 'the', 'information', 'is', 'classified', 'but', 'military', 'officials', 'have', 'told', 'congress', 'that', 'some', 'of', 'those', 'emails', 'and', 'documents', 'may', 'have', 'been', 'deleted', 'before', 'they', 'had', 'to', 'be', 'turned', 'over', 'to', 'investigators', 'according', 'to', 'a', 'senior', 'congressional', 'official', 'who', 'requested', 'an', '##ony', '##mity', 'to', 'speak', 'about', 'the', 'ongoing', 'inquiry', 'current', 'and', 'former', 'officials', 'have', 'separately', 'made', 'similar', 'claims', 'on', 'condition', 'of', 'an', '##ony', '##mity', 'to', 'the', 'new', 'yo', '##rk', 'times', 'although', 'law', '##makers', 'are', 'demanding', 'answers', 'about', 'those', 'claims', 'it', 'is', 'not', 'clear', 'that', 'the', 'inspector', 'general', 'has', 'been', 'able', 'to', 'verify', 'them', 'a', 'spoke', '##s', '##woman', 'for', 'the', 'inspector', 'general', 'declined', 'to', 'comment', 'staff', 'members', 'at', 'the', 'house', 'permanent', 'select', 'committee', 'on', 'intelligence', 'are', 'also', 'p', '##oring', 'over', 'years', 'of', 'cent', '##com', 'intelligence', 'reports', 'and', 'comparing', 'them', 'to', 'assessments', 'from', 'the', 'central', 'intelligence', 'agency', 'the', 'defense', 'intelligence', 'agency', 'and', 'others', 'the', 'committee', 'is', 'not', 'just', 'examining', 'reports', 'about', 'i', '##ra', '##q', 's', '##yr', '##ia', 'and', 'the', 'is', '##lam', '##ic', 'state', 'but', 'also', 'about', 'a', '##f', '##ghan', '##istan', 'and', 'other', 'areas', 'under', 'cent', '##com', '##s', 'pu', '##r', '##view', 'the', 'ins', '##ur', '##re', '##ction', 'inside', 'cent', '##com', 'is', 'an', 'important', 'chapter', 'in', 'the', 'story', 'of', 'how', 'the', 'united', 'states', 'responded', 'to', 'the', 'growing', 'threat', 'from', 'the', 'is', '##lam', '##ic', 'state', 'this', 'past', 'summer', 'a', 'group', 'of', 'cent', '##com', 'analysts', 'took', 'concerns', 'about', 'their', 'superiors', 'to', 'the', 'inspector', 'general', 'saying', 'they', 'had', 'evidence', 'that', 'senior', 'officials', 'had', 'changed', 'intelligence', 'assessments', 'to', 'overs', '##tate', 'the', 'progress', 'of', 'am', '##eric', '##an', 'airs', '##tri', '##kes', 'against', 'the', 'is', '##lam', '##ic', 'state', 'also', 'known', 'as', 'is', '##is']",
         "[101, 1103, 3690, 1107, 14247, 1548, 1314, 1989, 1127, 170, 10310, 11104, 1115, 1103, 1110, 7609, 1596, 1352, 1517, 170, 1372, 1104, 19342, 3378, 1113, 14516, 4404, 3441, 1107, 178, 1611, 4426, 1105, 188, 12577, 1465, 1144, 4728, 4772, 1157, 2817, 1106, 2035, 1103, 1745, 1103, 4828, 7004, 7842, 1107, 1103, 8228, 21365, 1320, 4449, 1587, 1103, 1642, 1104, 1103, 2114, 3606, 1112, 1562, 1194, 1103, 1257, 1104, 9848, 8178, 1134, 25312, 1764, 2500, 1506, 1103, 2243, 1746, 1103, 6129, 3438, 1104, 1343, 4961, 1110, 10527, 1105, 1336, 1136, 1561, 1470, 1272, 1177, 1277, 1104, 1103, 1869, 1110, 5667, 1133, 1764, 3878, 1138, 1500, 16821, 1115, 1199, 1104, 1343, 24853, 1105, 4961, 1336, 1138, 1151, 18931, 1196, 1152, 1125, 1106, 1129, 1454, 1166, 1106, 17718, 2452, 1106, 170, 2682, 10974, 2078, 1150, 6792, 1126, 10031, 15455, 1106, 2936, 1164, 1103, 7173, 12064, 1954, 1105, 1393, 3878, 1138, 10380, 1189, 1861, 3711, 1113, 3879, 1104, 1126, 10031, 15455, 1106, 1103, 1207, 26063, 4661, 1551, 1780, 1644, 11877, 1132, 9504, 6615, 1164, 1343, 3711, 1122, 1110, 1136, 2330, 1115, 1103, 17672, 1704, 1144, 1151, 1682, 1106, 23073, 1172, 170, 2910, 1116, 9462, 1111, 1103, 17672, 1704, 5799, 1106, 7368, 2546, 1484, 1120, 1103, 1402, 4088, 8247, 3914, 1113, 4810, 1132, 1145, 185, 17089, 1166, 1201, 1104, 9848, 8178, 4810, 3756, 1105, 15089, 1172, 1106, 25451, 1121, 1103, 2129, 4810, 4792, 1103, 3948, 4810, 4792, 1105, 1639, 1103, 3914, 1110, 1136, 1198, 13766, 3756, 1164, 178, 1611, 4426, 188, 12577, 1465, 1105, 1103, 1110, 7609, 1596, 1352, 1133, 1145, 1164, 170, 2087, 23136, 20300, 1105, 1168, 1877, 1223, 9848, 8178, 1116, 23609, 1197, 7334, 1103, 22233, 2149, 1874, 5796, 1656, 9848, 8178, 1110, 1126, 1696, 6073, 1107, 1103, 1642, 1104, 1293, 1103, 10280, 2231, 5133, 1106, 1103, 2898, 4433, 1121, 1103, 1110, 7609, 1596, 1352, 1142, 1763, 2247, 170, 1372, 1104, 9848, 8178, 22018, 1261, 5365, 1164, 1147, 26917, 1106, 1103, 17672, 1704, 2157, 1152, 1125, 2554, 1115, 2682, 3878, 1125, 2014, 4810, 25451, 1106, 17074, 10237, 1103, 5070, 1104, 1821, 26237, 1389, 15692, 19091, 9029, 1222, 1103, 1110, 7609, 1596, 1352, 1145, 1227, 1112, 1110, 1548, 102]",
         "['i', '##ra', '##qi', 'security', 'forces', 'training', 'on', 'm', '##os', '##ul', '##s', 'outskirts', 'in', 'j', '##anu', '##ary', 'to', 'take', 'on', 'is', '##is', 'militants']",
         "[101, 178, 1611, 17276, 2699, 2088, 2013, 1113, 182, 2155, 4654, 1116, 13100, 1107, 179, 19762, 3113, 1106, 1321, 1113, 1110, 1548, 19342, 102]",
         "['pen', '##tag', '##on', 'expands', 'inquiry', 'into', 'intelligence', 'on', 'is', '##is', 'surge']",
         "[101, 8228, 21365, 1320, 27903, 12064, 1154, 4810, 1113, 1110, 1548, 12814, 102]"
        ],
        [
         "309071",
         "c:\\users\\ritik\\goodnews\\images\\55b18b2d38f0d820636df774_0.jpg",
         "deputy secretary of defense bob work what happened was the procedures were the primary culprit he said about the army laboratory",
         "washington  the pentagon said on thursday that its initial review of how an army laboratory sent dozens of samples of live anthrax to facilities across the united states and around the world found that the lab had conducted insufficient testing and irradiation of samples\n\nthe review found no criminal or malicious intent behind the shipments from the dugway proving ground in utah\n\ndugway followed the procedures that were in place as far as we know deputy defense secretary bob work told reporters what happened was the procedures were the primary culprit\n\naccording to a pentagon report the main problem at dugway was that only about 5 percent of the anthrax samples that the lab irradiated were reviewed to ensure that the bacteria had been inactivated a rate far lower than that of similar facilities",
         "procedures faulted in army lab8217s shipment of anthrax ",
         "55b18b2d38f0d820636df774",
         "0",
         "['washing', '##ton', 'the', 'pen', '##tag', '##on', 'said', 'on', 'th', '##urs', '##day', 'that', 'its', 'initial', 'review', 'of', 'how', 'an', 'army', 'laboratory', 'sent', 'dozens', 'of', 'samples', 'of', 'live', 'ant', '##hra', '##x', 'to', 'facilities', 'across', 'the', 'united', 'states', 'and', 'around', 'the', 'world', 'found', 'that', 'the', 'lab', 'had', 'conducted', 'insufficient', 'testing', 'and', 'i', '##rra', '##diation', 'of', 'samples', 'the', 'review', 'found', 'no', 'criminal', 'or', 'ma', '##lic', '##ious', 'intent', 'behind', 'the', 'shipment', '##s', 'from', 'the', 'dug', '##way', 'proving', 'ground', 'in', 'u', '##tah', 'dug', '##way', 'followed', 'the', 'procedures', 'that', 'were', 'in', 'place', 'as', 'far', 'as', 'we', 'know', 'deputy', 'defense', 'secretary', 'b', '##ob', 'work', 'told', 'reporters', 'what', 'happened', 'was', 'the', 'procedures', 'were', 'the', 'primary', 'cu', '##l', '##p', '##rit', 'according', 'to', 'a', 'pen', '##tag', '##on', 'report', 'the', 'main', 'problem', 'at', 'dug', '##way', 'was', 'that', 'only', 'about', '5', 'percent', 'of', 'the', 'ant', '##hra', '##x', 'samples', 'that', 'the', 'lab', 'i', '##rra', '##dia', '##ted', 'were', 'reviewed', 'to', 'ensure', 'that', 'the', 'bacteria', 'had', 'been', 'inactivated', 'a', 'rate', 'far', 'lower', 'than', 'that', 'of', 'similar', 'facilities']",
         "[101, 13445, 1633, 1103, 8228, 21365, 1320, 1163, 1113, 24438, 7719, 6194, 1115, 1157, 3288, 3189, 1104, 1293, 1126, 2306, 8087, 1850, 10366, 1104, 8025, 1104, 1686, 22904, 20955, 1775, 1106, 3380, 1506, 1103, 10280, 2231, 1105, 1213, 1103, 1362, 1276, 1115, 1103, 8074, 1125, 3303, 14733, 5193, 1105, 178, 10582, 25971, 1104, 8025, 1103, 3189, 1276, 1185, 4771, 1137, 12477, 8031, 4179, 7676, 1481, 1103, 25464, 1116, 1121, 1103, 8423, 2787, 15975, 1747, 1107, 190, 24401, 8423, 2787, 1723, 1103, 8826, 1115, 1127, 1107, 1282, 1112, 1677, 1112, 1195, 1221, 5874, 3948, 4848, 171, 12809, 1250, 1500, 13509, 1184, 2171, 1108, 1103, 8826, 1127, 1103, 2425, 16408, 1233, 1643, 7729, 2452, 1106, 170, 8228, 21365, 1320, 2592, 1103, 1514, 2463, 1120, 8423, 2787, 1108, 1115, 1178, 1164, 126, 3029, 1104, 1103, 22904, 20955, 1775, 8025, 1115, 1103, 8074, 178, 10582, 7168, 1906, 1127, 7815, 1106, 4989, 1115, 1103, 10548, 1125, 1151, 22951, 170, 2603, 1677, 2211, 1190, 1115, 1104, 1861, 3380, 102]",
         "['deputy', 'secretary', 'of', 'defense', 'b', '##ob', 'work', 'what', 'happened', 'was', 'the', 'procedures', 'were', 'the', 'primary', 'cu', '##l', '##p', '##rit', 'he', 'said', 'about', 'the', 'army', 'laboratory']",
         "[101, 5874, 4848, 1104, 3948, 171, 12809, 1250, 1184, 2171, 1108, 1103, 8826, 1127, 1103, 2425, 16408, 1233, 1643, 7729, 1119, 1163, 1164, 1103, 2306, 8087, 102]",
         "['procedures', 'fault', '##ed', 'in', 'army', 'lab', '##8', '##21', '##7', '##s', 'shipment', 'of', 'ant', '##hra', '##x']",
         "[101, 8826, 6088, 1174, 1107, 2306, 8074, 1604, 18202, 1559, 1116, 25464, 1104, 22904, 20955, 1775, 102]"
        ],
        [
         "45261",
         "c:\\users\\ritik\\goodnews\\images\\515dadbfcf28d0219d002c71_1.jpg",
         "\nafter scrambling on this play brady threw an interception that linebacker chase blackburn caught deep in giants territory\n\n",
         "guard logan mankins said ive lost a lot of games but nothing like this and it might have felt that way because the patriots had overcome so much this season  a maligned defense several injuries the death of myra kraft the wife of the teams owner robert k kraft  and yet had won 10 in a row cruising since losing to the giants at gillette stadium on nov 6\n\nin guiding new england to its fifth super bowl appearance in 11 years brady leaned on welker he also leaned on his other constant rob gronkowski who all week deflected queries about his left ankle gronkowski spent significant time on the sideline sunday night and when he did play he was more effective as a decoy than a receiving option\n\ngronkowski caught only two passes for 26 yards one throw intended for him ended up in the hands of chase blackburn for bradys lone interception asked how his ankle felt gronkowski said im good asked if it limited him at all gronkowski dismissed the question with a slight head shake saying i was 100 percent out there doing everything they asked me to do\n\nmaybe so but it was not enough as gronkowskis teammates shuffled around the area almost all of them uttered some variation of what deion branch said i thought we all could have done something to help him in the game he said of brady i dont think anyone had the best game on the offensive side of the ball\n\ndanny woodhead came closest scoring the patriots first touchdown and accounting for 60 yards hernandez added 67 receiving yards and a touchdown but he also dropped a pass on the patriots final drive new england reached as far as its own 49 before bradys heave fell into the end zone the patriots failed to score over the final 26 minutes\n\nits not just about one play hernandez said its a whole bunch throughout the whole game\n\nuntil ahmad bradshaws touchdown with 57 seconds remaining the patriots had led the giants on the strength of two epic drives ruthless in their efficiency that bookended halftime the first which covered 96 yards showcased woodheads shiftiness and speed the second which stretched 79 yards revealed the matchup problems that hernandez  a receiver masquerading as a tight end  can create\n\nbrady dissected the giants defense completing 27 of 41 passes for 276 yards with mostly dinks and dunks but was undermined by welkers drop of that play brady said welker went up to try to make it as he always does and we just couldnt connect he added ill keep throwing the ball to him for as long as i possibly can\n\nthat is how brady has felt about gronkowski whose huge hands and sheer size  6 feet 6 and 265 pounds  make him all but impossible to cover but his mobility and quickness and thus his potential effectiveness sunday were called into question as soon as he sustained a high ankle sprain two weeks ago in the afc championship game\n\non sunday gronkowski lined up detached from the line early on away from his regular tight end spot that eased the demands on his ankle but it negated one of his underappreciated strengths run blocking by the time brady looked gronkowskis way for the first time only 301 remained in the first half gronkowski grabbed that pass a 20yarder over the middle\n\nright then woodhead and hernandez started emerging as a problem for the giants linebackers michael boley the giants stalwart up the middle could not contain woodhead neither could jacquian williams the fastest of the bunch woodhead zipped across the middle to punctuate what tied for the longest drive in super bowl history hauling in a 4yard touchdown with 8 seconds remaining left in the half\n\nafterward brady directed a drive that culminated with hernandez faking out blackburn shedding him as he caught a nifty pass over the middle for a 12yard touchdown that extended new englands lead to 179 and with bradys offensive threats coalescing  and with brady himself in the midst of a string of 16 consecutive completions  it seemed as if the patriots had found their footing with that elusive championship in sight and then welker dropped the ball",
         "drop by welker bradys most reliable receiver hurts patriots",
         "515dadbfcf28d0219d002c71",
         "1",
         "['guard', 'log', '##an', 'man', '##kins', 'said', 'i', '##ve', 'lost', 'a', 'lot', 'of', 'games', 'but', 'nothing', 'like', 'this', 'and', 'it', 'might', 'have', 'felt', 'that', 'way', 'because', 'the', 'pat', '##riot', '##s', 'had', 'overcome', 'so', 'much', 'this', 'season', 'a', 'ma', '##li', '##gned', 'defense', 'several', 'injuries', 'the', 'death', 'of', 'my', '##ra', 'k', '##raft', 'the', 'wife', 'of', 'the', 'teams', 'owner', 'robe', '##rt', 'k', 'k', '##raft', 'and', 'yet', 'had', 'won', '10', 'in', 'a', 'row', 'c', '##ruising', 'since', 'losing', 'to', 'the', 'giants', 'at', 'g', '##ille', '##tte', 'stadium', 'on', 'no', '##v', '6', 'in', 'guiding', 'new', 'en', '##g', '##land', 'to', 'its', 'fifth', 'super', 'bowl', 'appearance', 'in', '11', 'years', 'bra', '##dy', 'leaned', 'on', 'we', '##lk', '##er', 'he', 'also', 'leaned', 'on', 'his', 'other', 'constant', 'r', '##ob', 'g', '##ron', '##kowski', 'who', 'all', 'week', 'def', '##lected', 'que', '##ries', 'about', 'his', 'left', 'ankle', 'g', '##ron', '##kowski', 'spent', 'significant', 'time', 'on', 'the', 'side', '##line', 'sun', '##day', 'night', 'and', 'when', 'he', 'did', 'play', 'he', 'was', 'more', 'effective', 'as', 'a', 'de', '##co', '##y', 'than', 'a', 'receiving', 'option', 'g', '##ron', '##kowski', 'caught', 'only', 'two', 'passes', 'for', '26', 'yards', 'one', 'throw', 'intended', 'for', 'him', 'ended', 'up', 'in', 'the', 'hands', 'of', 'chase', 'black', '##burn', 'for', 'bra', '##dy', '##s', 'lone', 'interception', 'asked', 'how', 'his', 'ankle', 'felt', 'g', '##ron', '##kowski', 'said', 'im', 'good', 'asked', 'if', 'it', 'limited', 'him', 'at', 'all', 'g', '##ron', '##kowski', 'dismissed', 'the', 'question', 'with', 'a', 'slight', 'head', 'shake', 'saying', 'i', 'was', '100', 'percent', 'out', 'there', 'doing', 'everything', 'they', 'asked', 'me', 'to', 'do', 'maybe', 'so', 'but', 'it', 'was', 'not', 'enough', 'as', 'g', '##ron', '##kowski', '##s', 'teammates', 'shuffled', 'around', 'the', 'area', 'almost', 'all', 'of', 'them', 'uttered', 'some', 'variation', 'of', 'what', 'dei', '##on', 'branch', 'said', 'i', 'thought', 'we', 'all', 'could', 'have', 'done', 'something', 'to', 'help', 'him', 'in', 'the', 'game', 'he', 'said', 'of', 'bra', '##dy', 'i', 'don', '##t', 'think', 'anyone', 'had', 'the', 'best', 'game', 'on', 'the', 'offensive', 'side', 'of', 'the', 'ball', 'da', '##nny', 'wood', '##head', 'came', 'closest', 'scoring', 'the', 'pat', '##riot', '##s', 'first', 'touchdown', 'and', 'accounting', 'for', '60', 'yards', 'her', '##nan', '##dez', 'added', '67', 'receiving', 'yards', 'and', 'a', 'touchdown', 'but', 'he', 'also', 'dropped', 'a', 'pass', 'on', 'the', 'pat', '##riot', '##s', 'final', 'drive', 'new', 'en', '##g', '##land', 'reached', 'as', 'far', 'as', 'its', 'own', '49', 'before', 'bra', '##dy', '##s', 'he', '##ave', 'fell', 'into', 'the', 'end', 'zone', 'the', 'pat', '##riot', '##s', 'failed', 'to', 'score', 'over', 'the', 'final', '26', 'minutes', 'its', 'not', 'just', 'about', 'one', 'play', 'her', '##nan', '##dez', 'said', 'its', 'a', 'whole', 'bunch', 'throughout', 'the', 'whole', 'game', 'until', 'ah', '##mad', 'bra', '##ds', '##haw', '##s', 'touchdown', 'with', '57', 'seconds', 'remaining', 'the', 'pat', '##riot', '##s', 'had', 'led', 'the', 'giants', 'on', 'the', 'strength', 'of', 'two', 'epic', 'drives', 'ruthless', 'in', 'their', 'efficiency', 'that', 'book', '##ended', 'halftime', 'the', 'first', 'which', 'covered', '96', 'yards', 'showcased', 'wood', '##heads', 'shift', '##iness', 'and', 'speed', 'the', 'second', 'which', 'stretched', '79', 'yards', 'revealed', 'the', 'match', '##up', 'problems', 'that', 'her', '##nan', '##dez', 'a', 'receiver', 'ma', '##sque', '##rading', 'as', 'a', 'tight', 'end', 'can', 'create', 'bra', '##dy', 'di', '##sse', '##cted', 'the', 'giants', 'defense', 'completing', '27', 'of', '41', 'passes', 'for', '27', '##6', 'yards', 'with', 'mostly', 'din', '##ks', 'and', 'du', '##nks', 'but', 'was', 'under', '##mined', 'by', 'we', '##lk', '##ers', 'drop', 'of', 'that', 'play', 'bra', '##dy', 'said', 'we', '##lk', '##er', 'went', 'up', 'to', 'try', 'to']",
         "[101, 3542, 9366, 1389, 1299, 9615, 1163, 178, 2707, 1575, 170, 1974, 1104, 1638, 1133, 1720, 1176, 1142, 1105, 1122, 1547, 1138, 1464, 1115, 1236, 1272, 1103, 26227, 23326, 1116, 1125, 9414, 1177, 1277, 1142, 1265, 170, 12477, 2646, 26884, 3948, 1317, 5917, 1103, 1473, 1104, 1139, 1611, 180, 15371, 1103, 1676, 1104, 1103, 1929, 3172, 11580, 3740, 180, 180, 15371, 1105, 1870, 1125, 1281, 1275, 1107, 170, 5105, 172, 24310, 1290, 3196, 1106, 1103, 21170, 1120, 176, 8683, 3786, 4706, 1113, 1185, 1964, 127, 1107, 18111, 1207, 4035, 1403, 1931, 1106, 1157, 3049, 7688, 7329, 2468, 1107, 1429, 1201, 12418, 3810, 3149, 1113, 1195, 10493, 1200, 1119, 1145, 3149, 1113, 1117, 1168, 4836, 187, 12809, 176, 3484, 17445, 1150, 1155, 1989, 19353, 19037, 15027, 3377, 1164, 1117, 1286, 10845, 176, 3484, 17445, 2097, 2418, 1159, 1113, 1103, 1334, 2568, 3336, 6194, 1480, 1105, 1165, 1119, 1225, 1505, 1119, 1108, 1167, 3903, 1112, 170, 1260, 2528, 1183, 1190, 170, 4172, 5146, 176, 3484, 17445, 2347, 1178, 1160, 4488, 1111, 1744, 3422, 1141, 4932, 3005, 1111, 1140, 2207, 1146, 1107, 1103, 1493, 1104, 9839, 1602, 6715, 1111, 12418, 3810, 1116, 14936, 19231, 1455, 1293, 1117, 10845, 1464, 176, 3484, 17445, 1163, 13280, 1363, 1455, 1191, 1122, 2609, 1140, 1120, 1155, 176, 3484, 17445, 6714, 1103, 2304, 1114, 170, 6812, 1246, 5854, 2157, 178, 1108, 1620, 3029, 1149, 1175, 1833, 1917, 1152, 1455, 1143, 1106, 1202, 2654, 1177, 1133, 1122, 1108, 1136, 1536, 1112, 176, 3484, 17445, 1116, 13646, 20390, 1213, 1103, 1298, 1593, 1155, 1104, 1172, 23056, 1199, 8516, 1104, 1184, 21357, 1320, 3392, 1163, 178, 1354, 1195, 1155, 1180, 1138, 1694, 1380, 1106, 1494, 1140, 1107, 1103, 1342, 1119, 1163, 1104, 12418, 3810, 178, 1274, 1204, 1341, 2256, 1125, 1103, 1436, 1342, 1113, 1103, 5810, 1334, 1104, 1103, 3240, 5358, 15863, 3591, 3925, 1338, 7064, 3859, 1103, 26227, 23326, 1116, 1148, 7575, 1105, 11438, 1111, 2539, 3422, 1123, 6509, 15125, 1896, 5486, 4172, 3422, 1105, 170, 7575, 1133, 1119, 1145, 2434, 170, 2789, 1113, 1103, 26227, 23326, 1116, 1509, 2797, 1207, 4035, 1403, 1931, 1680, 1112, 1677, 1112, 1157, 1319, 3927, 1196, 12418, 3810, 1116, 1119, 8308, 2204, 1154, 1103, 1322, 4834, 1103, 26227, 23326, 1116, 2604, 1106, 2794, 1166, 1103, 1509, 1744, 1904, 1157, 1136, 1198, 1164, 1141, 1505, 1123, 6509, 15125, 1163, 1157, 170, 2006, 9670, 2032, 1103, 2006, 1342, 1235, 18257, 22678, 12418, 3680, 14431, 1116, 7575, 1114, 4667, 3071, 2735, 1103, 26227, 23326, 1116, 1125, 1521, 1103, 21170, 1113, 1103, 3220, 1104, 1160, 11431, 9307, 20871, 1107, 1147, 8096, 1115, 1520, 15399, 26077, 1103, 1148, 1134, 2262, 5306, 3422, 24980, 3591, 12970, 5212, 8405, 1105, 2420, 1103, 1248, 1134, 6572, 5899, 3422, 3090, 1103, 1801, 4455, 2645, 1115, 1123, 6509, 15125, 170, 8352, 12477, 16803, 23857, 1112, 170, 3600, 1322, 1169, 2561, 12418, 3810, 4267, 11553, 8436, 1103, 21170, 3948, 7332, 1765, 1104, 3746, 4488, 1111, 1765, 1545, 3422, 1114, 2426, 28028, 4616, 1105, 3840, 18683, 1133, 1108, 1223, 15842, 1118, 1195, 10493, 1468, 3968, 1104, 1115, 1505, 12418, 3810, 1163, 1195, 10493, 1200, 1355, 1146, 1106, 102]",
         "['after', 's', '##c', '##ram', '##bling', 'on', 'this', 'play', 'bra', '##dy', 'threw', 'an', 'interception', 'that', 'linebacker', 'chase', 'black', '##burn', 'caught', 'deep', 'in', 'giants', 'territory']",
         "[101, 1170, 188, 1665, 4515, 6647, 1113, 1142, 1505, 12418, 3810, 3885, 1126, 19231, 1115, 17625, 9839, 1602, 6715, 2347, 1996, 1107, 21170, 3441, 102]",
         "['drop', 'by', 'we', '##lk', '##er', 'bra', '##dy', '##s', 'most', 'reliable', 'receiver', 'hurts', 'pat', '##riot', '##s']",
         "[101, 3968, 1118, 1195, 10493, 1200, 12418, 3810, 1116, 1211, 10682, 8352, 15483, 26227, 23326, 1116, 102]"
        ],
        [
         "44344",
         "c:\\users\\ritik\\goodnews\\images\\57f7c5ff95d0e021d798aafe_1.jpg",
         "work by mark rothko at the portland art museum in 2012",
         "under the heading of localboymakesgood the painter mark rothko and portland ore have never really been paired in the public imagination rothko whose family emigrated to portland when he was 10 from what is now latvia left for yale and then new york and returned only infrequently to his hometown during his lifetime\n\nbut now the city which gave rothko his first solo exhibition and in 2012 a wellreceived retrospective is linking its art reputation more closely to his work the portland art museum has announced that it will undertake an expansion to unite its two existing freestanding buildings the addition to be called the rothko pavilion comes with a partnership with rothkos children christopher rothko and kate rothko prizel that will provide loans of major rothko paintings from their private collection the works will be lent individually in rotation over the course of the next two decades",
         "mark rothko son of oregon to be honored with museum wing",
         "57f7c5ff95d0e021d798aafe",
         "1",
         "['under', 'the', 'heading', 'of', 'local', '##boy', '##ma', '##kes', '##good', 'the', 'painter', 'mark', 'rot', '##h', '##ko', 'and', 'port', '##land', 'ore', 'have', 'never', 'really', 'been', 'paired', 'in', 'the', 'public', 'imagination', 'rot', '##h', '##ko', 'whose', 'family', 'emigrated', 'to', 'port', '##land', 'when', 'he', 'was', '10', 'from', 'what', 'is', 'now', 'la', '##t', '##via', 'left', 'for', 'ya', '##le', 'and', 'then', 'new', 'yo', '##rk', 'and', 'returned', 'only', 'in', '##f', '##re', '##quent', '##ly', 'to', 'his', 'hometown', 'during', 'his', 'lifetime', 'but', 'now', 'the', 'city', 'which', 'gave', 'rot', '##h', '##ko', 'his', 'first', 'solo', 'exhibition', 'and', 'in', '2012', 'a', 'well', '##re', '##ceived', 'retrospective', 'is', 'linking', 'its', 'art', 'reputation', 'more', 'closely', 'to', 'his', 'work', 'the', 'port', '##land', 'art', 'museum', 'has', 'announced', 'that', 'it', 'will', 'undertake', 'an', 'expansion', 'to', 'unite', 'its', 'two', 'existing', 'free', '##standing', 'buildings', 'the', 'addition', 'to', 'be', 'called', 'the', 'rot', '##h', '##ko', 'pavilion', 'comes', 'with', 'a', 'partnership', 'with', 'rot', '##h', '##kos', 'children', 'ch', '##risto', '##pher', 'rot', '##h', '##ko', 'and', 'ka', '##te', 'rot', '##h', '##ko', 'prize', '##l', 'that', 'will', 'provide', 'loans', 'of', 'major', 'rot', '##h', '##ko', 'paintings', 'from', 'their', 'private', 'collection', 'the', 'works', 'will', 'be', 'lent', 'individually', 'in', 'rotation', 'over', 'the', 'course', 'of', 'the', 'next', 'two', 'decades']",
         "[101, 1223, 1103, 5312, 1104, 1469, 9858, 1918, 9029, 23684, 1103, 5125, 4551, 24692, 1324, 2718, 1105, 4104, 1931, 12327, 1138, 1309, 1541, 1151, 13185, 1107, 1103, 1470, 10405, 24692, 1324, 2718, 2133, 1266, 11384, 1106, 4104, 1931, 1165, 1119, 1108, 1275, 1121, 1184, 1110, 1208, 2495, 1204, 7137, 1286, 1111, 11078, 1513, 1105, 1173, 1207, 26063, 4661, 1105, 1608, 1178, 1107, 2087, 1874, 14855, 1193, 1106, 1117, 9694, 1219, 1117, 7218, 1133, 1208, 1103, 1331, 1134, 1522, 24692, 1324, 2718, 1117, 1148, 3444, 4627, 1105, 1107, 1368, 170, 1218, 1874, 21437, 18675, 1110, 11723, 1157, 1893, 5244, 1167, 4099, 1106, 1117, 1250, 1103, 4104, 1931, 1893, 3480, 1144, 1717, 1115, 1122, 1209, 17778, 1126, 4298, 1106, 20301, 1157, 1160, 3685, 1714, 17277, 2275, 1103, 1901, 1106, 1129, 1270, 1103, 24692, 1324, 2718, 17152, 2502, 1114, 170, 5210, 1114, 24692, 1324, 22068, 1482, 22572, 26691, 15940, 24692, 1324, 2718, 1105, 24181, 1566, 24692, 1324, 2718, 4716, 1233, 1115, 1209, 2194, 11453, 1104, 1558, 24692, 1324, 2718, 4694, 1121, 1147, 2029, 2436, 1103, 1759, 1209, 1129, 20283, 15473, 1107, 9967, 1166, 1103, 1736, 1104, 1103, 1397, 1160, 4397, 102]",
         "['work', 'by', 'mark', 'rot', '##h', '##ko', 'at', 'the', 'port', '##land', 'art', 'museum', 'in', '2012']",
         "[101, 1250, 1118, 4551, 24692, 1324, 2718, 1120, 1103, 4104, 1931, 1893, 3480, 1107, 1368, 102]",
         "['mark', 'rot', '##h', '##ko', 'son', 'of', 'ore', '##gon', 'to', 'be', 'honored', 'with', 'museum', 'wing']",
         "[101, 4551, 24692, 1324, 2718, 1488, 1104, 12327, 7528, 1106, 1129, 8817, 1114, 3480, 3092, 102]"
        ],
        [
         "70416",
         "c:\\users\\ritik\\goodnews\\images\\5245e3e638f0d8198973d908_5.jpg",
         "\npeople wait in line at the anne frank house\n\n",
         "the train station used to be at the other end of this street the leader of the communist movement disembarked and headed this way and lodged in my mind are the reports of the policemen who were assigned to follow his movements\n\nnot all the ghosts who populate my travels in amsterdam are famous ones though most seem to have done fairly consequential things in life walking down a narrow dark alley called the nes which extends from the harbor toward the city center can be a vacant experience  there are some interesting restaurants and bars but few tourist sites and almost nothing seems of historical note\n\nbut when im on the nes i feel im about to run into a tall handsome wily man who in his day favored lace collars and a twisty little mustache his name was dirck van os and while history has forgotten him his house on this street which alas no longer exists could be considered the birthplace of capitalism\n\nfor four months in 1602 amsterdammers streamed into his parlor to buy pieces of a new kind of corporation one that allowed backers to sell their portion at a later date at a higher or lower value the dutch east india company transformed the world and it made amsterdam briefly and improbably the most powerful city in the world\n\nbut its biggest contribution to history may be in the fact that in this little alley van os and his merchant colleagues gave birth to the concept of shares of stock a few years later a little farther down the street came the first stock exchange things would never be the same\n\nsome ghosts are not attached to a particular street or neighborhood but are coaxed into being by a mood that settles over the city in the 1870s a mercurial 24yearold dutchman from the southern part of the country spent a year here\n\nhe came intending to train for the ministry but discovered that he wasnt suited for it instead he roamed amsterdams quays and harborfront seething fuming confused occasionally erupting with joy at things he observed these old narrow rather somber streets a canal lined with elm trees a stormy sky with big clouds reflecting in puddles on the ground gnarled undergrowth and the trees with their strange shapes\n\nhe didnt realize it but  though not yet an artist was already painting with words for me today a heavy cloud reflected in a canal or a set of twisted tree trunks will summon if not the artist himself a manic flash akin to his\n\nanother vanished van gogh meanwhile retains a spectral presence over the linnaeusstraat a broad avenue that runs along the oosterpark vincent wrote the above observations to his brother theo his closest confidante a descendant of theos also  was a famous and in many ways infamous amsterdam filmmaker and societal gadfly of recent memory he was murdered here on the street in front of his house in 2004 in reaction to an antiislamic film he made the event shocked the city and touched off waves of angst in europe over  which have yet to settle\n\nof all the ghosts of amsterdam though two stand far above the rest i encounter one or the other almost daily somehow their lives were lived in this city with such an intensity that they seem to have become part of it\n\nin the heart of amsterdam a little iron drawbridge crosses the kloveniersburgwal canal standing in the middle of it gives a panorama of views up and down the canal through a tiny cafecluttered street down yet another street through an ancient gateway into a courtyard and to a place where the waters that flow through and around the city execute a complicated branching maneuver as gary schwartz an americanborn rembrandt scholar once pointed out to me from this spot you take in the amsterdam that the greatestever dutch master experienced\n\nrembrandt van rijn was born in leiden 30 miles away but came to amsterdam in his 20s drawn by the citys rapid rise and the many upwardly mobile merchants who would be likely customers and once he arrived he seems not only never to have left but by and large to have restricted himself to this little zone virtually everything important rembrandt did he did within a few minutes walk of this bridge\n\nrembrandt figures so thoroughly in amsterdam i think because he is intimately associated with the citys greatest achievement in his era pioneered many of the concepts embedded in the term liberal which i mean not in the sexanddrugs permissive sense though that would come too but more deeply and broadly as a philosophy based on the individual and individual freedom the essence of what makes us modern\n\namsterdam led the rest of away from the dogma that all authority came from monarch and church rather this new philosophy held truth was based on reason  in the words of the frenchman rene descartes who also lived in amsterdam  on the mind and its good sense central to this was a new awareness of oneself as an individual distinct from the group and an outgrowth of this awareness was a sudden fascination with the human face  with portraits\n\nrembrandt fed the portrait craze we remember him for his dizzying output and his dexterity with so many styles of painting\n\nbut his fame among his contemporaries came from his way with faces his ability not just to paint what people looked like on the outside but also to give a sense which was shockingly and exhilaratingly new at the time of the person within in one twoyear period he churned out 42 portraits many of people who lived in the houses in this neighborhood\n\nrembrandt was a man on the rise and he felt it appropriate that he live in this same area he married saskia van uylenburgh the cousin of his art dealer and the two moved into a rental house just around the corner from the little iron bridge the site of their house is now a big modern airy cafe called de jaren where i spent a good portion of time writing my history of the city and it was impossible while doing such work in this spot not to imagine the ambitious arrogant artist barreling in and out of the place\n\nfrom his house it was a moments walk around the corner and over the bridge to a building on the left side of the street that housed of all things the board responsible for maintaining quality control on textiles that the city shipped out not a very exciting occupation but even these men wanted their likenesses captured and rembrandt managed to give these seemingly quashingly bland officials an air of brooding mystery the staalmeesters staal being dutch for sample while considered a masterpiece eventually achieved a second kind of immortality when it was adopted as the logo for dutch masters cigars\n\njust behind the bridge meanwhile a corner building now a hotel was the headquarters of one of the civic guard companies that were given the task of patrolling the city streets they too were mad for images of themselves they commissioned to paint their group portrait and love it or hate it the result the night watch is considered one of the worlds great art treasures\n\nthe ghosts of rembrandts friends populate this neighborhood as well and they too have associations with the citys liberal heritage the focus on the individual and the secular put amsterdam at the cutting edge of science\n\nthe square called the nieuwmarkt a short distance away from the bridge is dominated by a squat medieval building called de waag or weigh house which has had many functions through the centuries\n\ntoday its ground floor accommodates a restaurant in the 17th century its upper chamber was the citys anatomical theater dr nicolaes tulp the citys chief physician and one of its most revered residents performed public dissections here and in the winter of 16312 dissections took place in winter because the cold kept the stench down the young rembrandt tramped up here to make studies for what would be his first great painting the anatomy lesson of dr nicolaes tulp in highlighting science the human body and the distinctive personality of the physician is a kind of trifecta of dutch liberalism\n\nas rembrandt reached the height of his fame he bought a house a few streets away the building is now the rembrandt house museum that cost more than he could afford that plus the arrogance that eventually caused his patrons to flee set off his slide into eventual bankruptcy\n\nin this house his wife died in childbirth here too he began a tempestuous affair with geertje dircx the nurse he hired to care for the child he tried to end the affair but geertje refused to be cast aside he solved the problem by using his influence to have her committed to a workhouse\n\nfor all the worldhistoric insight into humanity that his portraits show he revealed himself at the sad end of his life to be adept at quite inhuman behavior\n\ntwo years ago my daughter and i took a walk together across amsterdam following in the footsteps of the historical figure who has become so to speak the citys most famous export eva was 14 at the time the same age as when she set out on her much more somber walk\n\nprobably every visitor to the city knows the anne frank house where the girl and her family along with a few other people hid from the nazis and where anne wrote her diary that building on the prinsengracht one of the grand central canals was not the familys normal residence but her fathers place of business\n\nthey lived in the rivierenbuurt then a newly built area to the south of the central canal zone in her diary anne describes the day she her father and her mother left their apartment for good and walked to her fathers company where a secret space had been built to house them her sister margot went separately by bicycle anne didnt give the exact route they took so eva and i made a guess\n\nwe started at merwedeplein the little plein or square that the franks apartment looked out on the apartment is today owned by the city which honors the memory of its former inhabitants by making it available to foreign writers who have fled persecution\n\nwe sat on a bench in the square and at my urging eva read aloud the passage about the familys departure how they wore layers of clothing because carrying suitcases would tip off the nazis that they were going into hiding then we set off the neighborhood which used to be the heart of jewish amsterdam is a peaceful one the buildings dating from the period just before the franks moved in are surprisingly modernlooking\n\ncrossing a canal we entered de pijp and things livened up de pijp is a ragged busy neighborhood of falafel stands artists lofts yoga studios surinamese restaurants and coffee shops with reggae and pot smoke coming out their windows it was a warm spring day and the sun gave the city an uncharacteristically drowsy feel\n\nthe city the franks walked through had been surprisingly calm for a time after the nazi invasion but then came the grayandgreen military vehicles of the occupiers the razzias roundups of jews began the franks were on foot that morning because jews had been barred from public transportation and from parks libraries and restaurants the great gift of the age of rembrandt  the ennobling of the individual human being  was about to be ruthlessly stripped away\n\nworse still amsterdammers themselves assisted in this violent betrayal of their liberal tradition the citys efficient administrators made it easier for nazis to identify and remove jews as a result a much greater percentage of jews were murdered during the war than those of any other country amsterdam before the holocaust had 80000 jews today there are about 15000\n\nanne and her parents made it safely to the placid district of the central canals the main tourist zone today which had been built in the citys golden age heyday they slipped into the building where otto frank annes father worked and remained there until two years later they were caught and shipped off to concentration camps\n\neva and i walked past the anne frank house which wed visited several times before and found a canalside cafe of course our walk had been in part a typical parental ploy to instill something meaningful in a child i asked eva what she thought about it she answered by saying have you read  hes amazing\n\ni instantly recognized the non sequitur as a classic teenage gambit to thwart parental pedagogy but it still worked i was disoriented surely it hadnt been that long ago that she was enthralled by since when had she grown up to become a reader of neuroscientific case studies who was this person\n\nthen i recalled something that otto frank had written he was the only member of the family to survive the war hed been stunned when he read the diary that his teenage daughter had left behind and said it made him feel that he had never really known her\n\nwhat surprised him was i think the very thing that made the diary an international sensation it vividly displays both what amsterdams history has always been about and what the nazi occupation so vibrantly threatened the mysterious complexity that is the individual human being\n\nthis girl who would soon have the life crushed out of her represents not just the others who died without leaving words behind but all of us she showed us what human individuality is and she did it surprisingly enough in the same way rembrandt did by painting a portrait\n\nas her father was shocked and embarrassed to discover her diary reveals a full deep complicated person who insists on continuing with her adolescents journey of selfdiscovery even as the swastikas paraded by outside its funny but i can sometimes see myself as others see me i take a leisurely look at the person called anne frank and browse through the pages of her life as though she were a stranger\n\nif ghosts who represent stages in the rise of individual freedom still haunt the streets of amsterdam making the city itself far greater than the sum of its museums and tourist sites for me the spirit of this girl stands out above all the others because in addition she showed how fragile that freedom is",
         "the ghosts of amsterdam",
         "5245e3e638f0d8198973d908",
         "5",
         "['the', 'train', 'station', 'used', 'to', 'be', 'at', 'the', 'other', 'end', 'of', 'this', 'street', 'the', 'leader', 'of', 'the', 'communist', 'movement', 'di', '##se', '##mba', '##rked', 'and', 'headed', 'this', 'way', 'and', 'lodged', 'in', 'my', 'mind', 'are', 'the', 'reports', 'of', 'the', 'policemen', 'who', 'were', 'assigned', 'to', 'follow', 'his', 'movements', 'not', 'all', 'the', 'ghosts', 'who', 'pop', '##ulate', 'my', 'travels', 'in', 'am', '##ster', '##dam', 'are', 'famous', 'ones', 'though', 'most', 'seem', 'to', 'have', 'done', 'fairly', 'con', '##se', '##quential', 'things', 'in', 'life', 'walking', 'down', 'a', 'narrow', 'dark', 'alley', 'called', 'the', 'ne', '##s', 'which', 'extends', 'from', 'the', 'harbor', 'toward', 'the', 'city', 'center', 'can', 'be', 'a', 'vacant', 'experience', 'there', 'are', 'some', 'interesting', 'restaurants', 'and', 'bars', 'but', 'few', 'tourist', 'sites', 'and', 'almost', 'nothing', 'seems', 'of', 'historical', 'note', 'but', 'when', 'im', 'on', 'the', 'ne', '##s', 'i', 'feel', 'im', 'about', 'to', 'run', 'into', 'a', 'tall', 'handsome', 'w', '##ily', 'man', 'who', 'in', 'his', 'day', 'favored', 'lace', 'collar', '##s', 'and', 'a', 'twist', '##y', 'little', 'must', '##ache', 'his', 'name', 'was', 'dir', '##ck', 'van', 'o', '##s', 'and', 'while', 'history', 'has', 'forgotten', 'him', 'his', 'house', 'on', 'this', 'street', 'which', 'al', '##as', 'no', 'longer', 'exists', 'could', 'be', 'considered', 'the', 'birthplace', 'of', 'capitalism', 'for', 'four', 'months', 'in', '160', '##2', 'am', '##ster', '##dam', '##mers', 'streamed', 'into', 'his', 'parlor', 'to', 'buy', 'pieces', 'of', 'a', 'new', 'kind', 'of', 'corporation', 'one', 'that', 'allowed', 'back', '##ers', 'to', 'sell', 'their', 'portion', 'at', 'a', 'later', 'date', 'at', 'a', 'higher', 'or', 'lower', 'value', 'the', 'du', '##tch', 'east', 'in', '##dia', 'company', 'transformed', 'the', 'world', 'and', 'it', 'made', 'am', '##ster', '##dam', 'briefly', 'and', 'imp', '##ro', '##ba', '##bly', 'the', 'most', 'powerful', 'city', 'in', 'the', 'world', 'but', 'its', 'biggest', 'contribution', 'to', 'history', 'may', 'be', 'in', 'the', 'fact', 'that', 'in', 'this', 'little', 'alley', 'van', 'o', '##s', 'and', 'his', 'merchant', 'colleagues', 'gave', 'birth', 'to', 'the', 'concept', 'of', 'shares', 'of', 'stock', 'a', 'few', 'years', 'later', 'a', 'little', 'farther', 'down', 'the', 'street', 'came', 'the', 'first', 'stock', 'exchange', 'things', 'would', 'never', 'be', 'the', 'same', 'some', 'ghosts', 'are', 'not', 'attached', 'to', 'a', 'particular', 'street', 'or', 'neighborhood', 'but', 'are', 'co', '##ax', '##ed', 'into', 'being', 'by', 'a', 'mood', 'that', 'settle', '##s', 'over', 'the', 'city', 'in', 'the', '1870s', 'a', 'me', '##rc', '##uria', '##l', '24', '##ye', '##aro', '##ld', 'du', '##tch', '##man', 'from', 'the', 'southern', 'part', 'of', 'the', 'country', 'spent', 'a', 'year', 'here', 'he', 'came', 'intending', 'to', 'train', 'for', 'the', 'ministry', 'but', 'discovered', 'that', 'he', 'wasn', '##t', 'suited', 'for', 'it', 'instead', 'he', 'r', '##oam', '##ed', 'am', '##ster', '##dam', '##s', 'q', '##uay', '##s', 'and', 'harbor', '##front', 'see', '##thing', 'f', '##umi', '##ng', 'confused', 'occasionally', 'er', '##up', '##ting', 'with', 'joy', 'at', 'things', 'he', 'observed', 'these', 'old', 'narrow', 'rather', 'so', '##mber', 'streets', 'a', 'canal', 'lined', 'with', 'el', '##m', 'trees', 'a', 'storm', '##y', 'sky', 'with', 'big', 'clouds', 'reflecting', 'in', 'pu', '##ddle', '##s', 'on', 'the', 'ground', 'g', '##narl', '##ed', 'under', '##gro', '##wth', 'and', 'the', 'trees', 'with', 'their', 'strange', 'shapes', 'he', 'didn', '##t', 'realize', 'it', 'but', 'though', 'not', 'yet', 'an', 'artist', 'was', 'already', 'painting', 'with', 'words', 'for', 'me', 'today', 'a', 'heavy', 'cloud', 'reflected', 'in', 'a', 'canal', 'or', 'a', 'set', 'of', 'twisted', 'tree', 'trunks', 'will', 'summon', 'if', 'not', 'the', 'artist', 'himself', 'a', 'man', '##ic', 'flash', 'akin', 'to', 'his', 'another', 'vanished', 'van', 'go', '##gh', 'meanwhile', 'retains', 'a', 'spectral', 'presence', 'over', 'the', 'l', '##inn', '##ae']",
         "[101, 1103, 2669, 1466, 1215, 1106, 1129, 1120, 1103, 1168, 1322, 1104, 1142, 2472, 1103, 2301, 1104, 1103, 8356, 2230, 4267, 2217, 10806, 23499, 1105, 2917, 1142, 1236, 1105, 22422, 1107, 1139, 1713, 1132, 1103, 3756, 1104, 1103, 22452, 1150, 1127, 3346, 1106, 2812, 1117, 5172, 1136, 1155, 1103, 14586, 1150, 3618, 9732, 1139, 8024, 1107, 1821, 4648, 10775, 1132, 2505, 3200, 1463, 1211, 3166, 1106, 1138, 1694, 6751, 14255, 2217, 21967, 1614, 1107, 1297, 3179, 1205, 170, 4142, 1843, 10959, 1270, 1103, 24928, 1116, 1134, 8559, 1121, 1103, 12397, 1755, 1103, 1331, 2057, 1169, 1129, 170, 10218, 2541, 1175, 1132, 1199, 5426, 7724, 1105, 6668, 1133, 1374, 7798, 3911, 1105, 1593, 1720, 3093, 1104, 3009, 3805, 1133, 1165, 13280, 1113, 1103, 24928, 1116, 178, 1631, 13280, 1164, 1106, 1576, 1154, 170, 3543, 8542, 192, 5264, 1299, 1150, 1107, 1117, 1285, 12578, 15170, 9704, 1116, 1105, 170, 11079, 1183, 1376, 1538, 12804, 1117, 1271, 1108, 23155, 2158, 3498, 184, 1116, 1105, 1229, 1607, 1144, 6278, 1140, 1117, 1402, 1113, 1142, 2472, 1134, 2393, 2225, 1185, 2039, 5903, 1180, 1129, 1737, 1103, 15979, 1104, 20582, 1111, 1300, 1808, 1107, 7690, 1477, 1821, 4648, 10775, 19134, 20273, 1154, 1117, 21799, 1106, 4417, 3423, 1104, 170, 1207, 1912, 1104, 9715, 1141, 1115, 2148, 1171, 1468, 1106, 4582, 1147, 3849, 1120, 170, 1224, 2236, 1120, 170, 2299, 1137, 2211, 2860, 1103, 3840, 6943, 1746, 1107, 7168, 1419, 8272, 1103, 1362, 1105, 1122, 1189, 1821, 4648, 10775, 4016, 1105, 24034, 2180, 2822, 4999, 1103, 1211, 3110, 1331, 1107, 1103, 1362, 1133, 1157, 4583, 6436, 1106, 1607, 1336, 1129, 1107, 1103, 1864, 1115, 1107, 1142, 1376, 10959, 3498, 184, 1116, 1105, 1117, 6800, 8304, 1522, 3485, 1106, 1103, 3400, 1104, 6117, 1104, 4482, 170, 1374, 1201, 1224, 170, 1376, 8791, 1205, 1103, 2472, 1338, 1103, 1148, 4482, 3670, 1614, 1156, 1309, 1129, 1103, 1269, 1199, 14586, 1132, 1136, 4309, 1106, 170, 2440, 2472, 1137, 4532, 1133, 1132, 1884, 7897, 1174, 1154, 1217, 1118, 170, 6601, 1115, 7098, 1116, 1166, 1103, 1331, 1107, 1103, 15583, 170, 1143, 19878, 19700, 1233, 1572, 4980, 14452, 5253, 3840, 6943, 1399, 1121, 1103, 2359, 1226, 1104, 1103, 1583, 2097, 170, 1214, 1303, 1119, 1338, 18077, 1106, 2669, 1111, 1103, 8382, 1133, 2751, 1115, 1119, 1445, 1204, 10891, 1111, 1122, 1939, 1119, 187, 23270, 1174, 1821, 4648, 10775, 1116, 186, 19925, 1116, 1105, 12397, 11949, 1267, 25202, 175, 14088, 2118, 4853, 5411, 14044, 4455, 1916, 1114, 8730, 1120, 1614, 1119, 4379, 1292, 1385, 4142, 1897, 1177, 10615, 4324, 170, 7684, 7265, 1114, 8468, 1306, 2863, 170, 4162, 1183, 3901, 1114, 1992, 8435, 11636, 1107, 23609, 13002, 1116, 1113, 1103, 1747, 176, 27831, 1174, 1223, 21932, 27697, 1105, 1103, 2863, 1114, 1147, 4020, 10724, 1119, 1238, 1204, 4663, 1122, 1133, 1463, 1136, 1870, 1126, 2360, 1108, 1640, 3504, 1114, 1734, 1111, 1143, 2052, 170, 2302, 7180, 7226, 1107, 170, 7684, 1137, 170, 1383, 1104, 6061, 2780, 23752, 1209, 21147, 1191, 1136, 1103, 2360, 1471, 170, 1299, 1596, 6746, 21584, 1106, 1117, 1330, 9898, 3498, 1301, 5084, 17527, 15208, 170, 20277, 2915, 1166, 1103, 181, 102]",
         "['people', 'wait', 'in', 'line', 'at', 'the', 'an', '##ne', 'f', '##rank', 'house']",
         "[101, 1234, 3074, 1107, 1413, 1120, 1103, 1126, 1673, 175, 14687, 1402, 102]",
         "['the', 'ghosts', 'of', 'am', '##ster', '##dam']",
         "[101, 1103, 14586, 1104, 1821, 4648, 10775, 102]"
        ]
       ],
       "shape": {
        "columns": 12,
        "rows": 5
       }
      },
      "text/html": [
       "<div>\n",
       "<style scoped>\n",
       "    .dataframe tbody tr th:only-of-type {\n",
       "        vertical-align: middle;\n",
       "    }\n",
       "\n",
       "    .dataframe tbody tr th {\n",
       "        vertical-align: top;\n",
       "    }\n",
       "\n",
       "    .dataframe thead th {\n",
       "        text-align: right;\n",
       "    }\n",
       "</style>\n",
       "<table border=\"1\" class=\"dataframe\">\n",
       "  <thead>\n",
       "    <tr style=\"text-align: right;\">\n",
       "      <th></th>\n",
       "      <th>image_path</th>\n",
       "      <th>caption</th>\n",
       "      <th>article</th>\n",
       "      <th>headline</th>\n",
       "      <th>article_id</th>\n",
       "      <th>image_index</th>\n",
       "      <th>article_tokenized</th>\n",
       "      <th>article_tokenized_id</th>\n",
       "      <th>caption_tokenized</th>\n",
       "      <th>caption_tokenized_id</th>\n",
       "      <th>headline_tokenized</th>\n",
       "      <th>headline_tokenized_id</th>\n",
       "    </tr>\n",
       "  </thead>\n",
       "  <tbody>\n",
       "    <tr>\n",
       "      <th>35099</th>\n",
       "      <td>c:\\users\\ritik\\goodnews\\images\\5650a72838f0d82...</td>\n",
       "      <td>iraqi security forces training on mosuls outsk...</td>\n",
       "      <td>the attacks in paris last week were a deadly d...</td>\n",
       "      <td>pentagon expands inquiry into intelligence on ...</td>\n",
       "      <td>5650a72838f0d82713feb4ea</td>\n",
       "      <td>1</td>\n",
       "      <td>[the, attacks, in, par, ##is, last, week, were...</td>\n",
       "      <td>[101, 1103, 3690, 1107, 14247, 1548, 1314, 198...</td>\n",
       "      <td>[i, ##ra, ##qi, security, forces, training, on...</td>\n",
       "      <td>[101, 178, 1611, 17276, 2699, 2088, 2013, 1113...</td>\n",
       "      <td>[pen, ##tag, ##on, expands, inquiry, into, int...</td>\n",
       "      <td>[101, 8228, 21365, 1320, 27903, 12064, 1154, 4...</td>\n",
       "    </tr>\n",
       "    <tr>\n",
       "      <th>309071</th>\n",
       "      <td>c:\\users\\ritik\\goodnews\\images\\55b18b2d38f0d82...</td>\n",
       "      <td>deputy secretary of defense bob work what happ...</td>\n",
       "      <td>washington  the pentagon said on thursday that...</td>\n",
       "      <td>procedures faulted in army lab8217s shipment o...</td>\n",
       "      <td>55b18b2d38f0d820636df774</td>\n",
       "      <td>0</td>\n",
       "      <td>[washing, ##ton, the, pen, ##tag, ##on, said, ...</td>\n",
       "      <td>[101, 13445, 1633, 1103, 8228, 21365, 1320, 11...</td>\n",
       "      <td>[deputy, secretary, of, defense, b, ##ob, work...</td>\n",
       "      <td>[101, 5874, 4848, 1104, 3948, 171, 12809, 1250...</td>\n",
       "      <td>[procedures, fault, ##ed, in, army, lab, ##8, ...</td>\n",
       "      <td>[101, 8826, 6088, 1174, 1107, 2306, 8074, 1604...</td>\n",
       "    </tr>\n",
       "    <tr>\n",
       "      <th>45261</th>\n",
       "      <td>c:\\users\\ritik\\goodnews\\images\\515dadbfcf28d02...</td>\n",
       "      <td>\\nafter scrambling on this play brady threw an...</td>\n",
       "      <td>guard logan mankins said ive lost a lot of gam...</td>\n",
       "      <td>drop by welker bradys most reliable receiver h...</td>\n",
       "      <td>515dadbfcf28d0219d002c71</td>\n",
       "      <td>1</td>\n",
       "      <td>[guard, log, ##an, man, ##kins, said, i, ##ve,...</td>\n",
       "      <td>[101, 3542, 9366, 1389, 1299, 9615, 1163, 178,...</td>\n",
       "      <td>[after, s, ##c, ##ram, ##bling, on, this, play...</td>\n",
       "      <td>[101, 1170, 188, 1665, 4515, 6647, 1113, 1142,...</td>\n",
       "      <td>[drop, by, we, ##lk, ##er, bra, ##dy, ##s, mos...</td>\n",
       "      <td>[101, 3968, 1118, 1195, 10493, 1200, 12418, 38...</td>\n",
       "    </tr>\n",
       "    <tr>\n",
       "      <th>44344</th>\n",
       "      <td>c:\\users\\ritik\\goodnews\\images\\57f7c5ff95d0e02...</td>\n",
       "      <td>work by mark rothko at the portland art museum...</td>\n",
       "      <td>under the heading of localboymakesgood the pai...</td>\n",
       "      <td>mark rothko son of oregon to be honored with m...</td>\n",
       "      <td>57f7c5ff95d0e021d798aafe</td>\n",
       "      <td>1</td>\n",
       "      <td>[under, the, heading, of, local, ##boy, ##ma, ...</td>\n",
       "      <td>[101, 1223, 1103, 5312, 1104, 1469, 9858, 1918...</td>\n",
       "      <td>[work, by, mark, rot, ##h, ##ko, at, the, port...</td>\n",
       "      <td>[101, 1250, 1118, 4551, 24692, 1324, 2718, 112...</td>\n",
       "      <td>[mark, rot, ##h, ##ko, son, of, ore, ##gon, to...</td>\n",
       "      <td>[101, 4551, 24692, 1324, 2718, 1488, 1104, 123...</td>\n",
       "    </tr>\n",
       "    <tr>\n",
       "      <th>70416</th>\n",
       "      <td>c:\\users\\ritik\\goodnews\\images\\5245e3e638f0d81...</td>\n",
       "      <td>\\npeople wait in line at the anne frank house\\n\\n</td>\n",
       "      <td>the train station used to be at the other end ...</td>\n",
       "      <td>the ghosts of amsterdam</td>\n",
       "      <td>5245e3e638f0d8198973d908</td>\n",
       "      <td>5</td>\n",
       "      <td>[the, train, station, used, to, be, at, the, o...</td>\n",
       "      <td>[101, 1103, 2669, 1466, 1215, 1106, 1129, 1120...</td>\n",
       "      <td>[people, wait, in, line, at, the, an, ##ne, f,...</td>\n",
       "      <td>[101, 1234, 3074, 1107, 1413, 1120, 1103, 1126...</td>\n",
       "      <td>[the, ghosts, of, am, ##ster, ##dam]</td>\n",
       "      <td>[101, 1103, 14586, 1104, 1821, 4648, 10775, 102]</td>\n",
       "    </tr>\n",
       "  </tbody>\n",
       "</table>\n",
       "</div>"
      ],
      "text/plain": [
       "                                               image_path  \\\n",
       "35099   c:\\users\\ritik\\goodnews\\images\\5650a72838f0d82...   \n",
       "309071  c:\\users\\ritik\\goodnews\\images\\55b18b2d38f0d82...   \n",
       "45261   c:\\users\\ritik\\goodnews\\images\\515dadbfcf28d02...   \n",
       "44344   c:\\users\\ritik\\goodnews\\images\\57f7c5ff95d0e02...   \n",
       "70416   c:\\users\\ritik\\goodnews\\images\\5245e3e638f0d81...   \n",
       "\n",
       "                                                  caption  \\\n",
       "35099   iraqi security forces training on mosuls outsk...   \n",
       "309071  deputy secretary of defense bob work what happ...   \n",
       "45261   \\nafter scrambling on this play brady threw an...   \n",
       "44344   work by mark rothko at the portland art museum...   \n",
       "70416   \\npeople wait in line at the anne frank house\\n\\n   \n",
       "\n",
       "                                                  article  \\\n",
       "35099   the attacks in paris last week were a deadly d...   \n",
       "309071  washington  the pentagon said on thursday that...   \n",
       "45261   guard logan mankins said ive lost a lot of gam...   \n",
       "44344   under the heading of localboymakesgood the pai...   \n",
       "70416   the train station used to be at the other end ...   \n",
       "\n",
       "                                                 headline  \\\n",
       "35099   pentagon expands inquiry into intelligence on ...   \n",
       "309071  procedures faulted in army lab8217s shipment o...   \n",
       "45261   drop by welker bradys most reliable receiver h...   \n",
       "44344   mark rothko son of oregon to be honored with m...   \n",
       "70416                             the ghosts of amsterdam   \n",
       "\n",
       "                      article_id  image_index  \\\n",
       "35099   5650a72838f0d82713feb4ea            1   \n",
       "309071  55b18b2d38f0d820636df774            0   \n",
       "45261   515dadbfcf28d0219d002c71            1   \n",
       "44344   57f7c5ff95d0e021d798aafe            1   \n",
       "70416   5245e3e638f0d8198973d908            5   \n",
       "\n",
       "                                        article_tokenized  \\\n",
       "35099   [the, attacks, in, par, ##is, last, week, were...   \n",
       "309071  [washing, ##ton, the, pen, ##tag, ##on, said, ...   \n",
       "45261   [guard, log, ##an, man, ##kins, said, i, ##ve,...   \n",
       "44344   [under, the, heading, of, local, ##boy, ##ma, ...   \n",
       "70416   [the, train, station, used, to, be, at, the, o...   \n",
       "\n",
       "                                     article_tokenized_id  \\\n",
       "35099   [101, 1103, 3690, 1107, 14247, 1548, 1314, 198...   \n",
       "309071  [101, 13445, 1633, 1103, 8228, 21365, 1320, 11...   \n",
       "45261   [101, 3542, 9366, 1389, 1299, 9615, 1163, 178,...   \n",
       "44344   [101, 1223, 1103, 5312, 1104, 1469, 9858, 1918...   \n",
       "70416   [101, 1103, 2669, 1466, 1215, 1106, 1129, 1120...   \n",
       "\n",
       "                                        caption_tokenized  \\\n",
       "35099   [i, ##ra, ##qi, security, forces, training, on...   \n",
       "309071  [deputy, secretary, of, defense, b, ##ob, work...   \n",
       "45261   [after, s, ##c, ##ram, ##bling, on, this, play...   \n",
       "44344   [work, by, mark, rot, ##h, ##ko, at, the, port...   \n",
       "70416   [people, wait, in, line, at, the, an, ##ne, f,...   \n",
       "\n",
       "                                     caption_tokenized_id  \\\n",
       "35099   [101, 178, 1611, 17276, 2699, 2088, 2013, 1113...   \n",
       "309071  [101, 5874, 4848, 1104, 3948, 171, 12809, 1250...   \n",
       "45261   [101, 1170, 188, 1665, 4515, 6647, 1113, 1142,...   \n",
       "44344   [101, 1250, 1118, 4551, 24692, 1324, 2718, 112...   \n",
       "70416   [101, 1234, 3074, 1107, 1413, 1120, 1103, 1126...   \n",
       "\n",
       "                                       headline_tokenized  \\\n",
       "35099   [pen, ##tag, ##on, expands, inquiry, into, int...   \n",
       "309071  [procedures, fault, ##ed, in, army, lab, ##8, ...   \n",
       "45261   [drop, by, we, ##lk, ##er, bra, ##dy, ##s, mos...   \n",
       "44344   [mark, rot, ##h, ##ko, son, of, ore, ##gon, to...   \n",
       "70416                [the, ghosts, of, am, ##ster, ##dam]   \n",
       "\n",
       "                                    headline_tokenized_id  \n",
       "35099   [101, 8228, 21365, 1320, 27903, 12064, 1154, 4...  \n",
       "309071  [101, 8826, 6088, 1174, 1107, 2306, 8074, 1604...  \n",
       "45261   [101, 3968, 1118, 1195, 10493, 1200, 12418, 38...  \n",
       "44344   [101, 4551, 24692, 1324, 2718, 1488, 1104, 123...  \n",
       "70416    [101, 1103, 14586, 1104, 1821, 4648, 10775, 102]  "
      ]
     },
     "execution_count": 43,
     "metadata": {},
     "output_type": "execute_result"
    }
   ],
   "source": [
    "gnd_sampled.head()"
   ]
  },
  {
   "cell_type": "code",
   "execution_count": null,
   "id": "536141b6",
   "metadata": {},
   "outputs": [],
   "source": []
  },
  {
   "cell_type": "code",
   "execution_count": null,
   "id": "40429f29",
   "metadata": {},
   "outputs": [],
   "source": []
  }
 ],
 "metadata": {
  "kernelspec": {
   "display_name": "base",
   "language": "python",
   "name": "python3"
  },
  "language_info": {
   "codemirror_mode": {
    "name": "ipython",
    "version": 3
   },
   "file_extension": ".py",
   "mimetype": "text/x-python",
   "name": "python",
   "nbconvert_exporter": "python",
   "pygments_lexer": "ipython3",
   "version": "3.12.3"
  }
 },
 "nbformat": 4,
 "nbformat_minor": 5
}
