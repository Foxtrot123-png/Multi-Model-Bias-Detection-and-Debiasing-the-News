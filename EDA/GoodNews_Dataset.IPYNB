{
 "cells": [
  {
   "cell_type": "code",
   "execution_count": null,
   "id": "be12f452",
   "metadata": {},
   "outputs": [],
   "source": [
    "#Loading the data "
   ]
  },
  {
   "cell_type": "code",
   "execution_count": 1,
   "id": "02f946f2",
   "metadata": {},
   "outputs": [],
   "source": [
    "import pandas as pd \n",
    "import numpy as np"
   ]
  },
  {
   "cell_type": "code",
   "execution_count": 6,
   "id": "f6728954",
   "metadata": {},
   "outputs": [],
   "source": [
    "GND = pd.read_csv('C:\\\\Users\\\\ritik\\\\OneDrive\\\\Documents\\\\GitHub\\\\Multi-Model-Bias-Detection-and-Debiasing-the-News\\\\Good_News_Dataset\\\\combined_dataset.csv',delimiter=',')"
   ]
  },
  {
   "cell_type": "code",
   "execution_count": 8,
   "id": "0717a1da",
   "metadata": {},
   "outputs": [
    {
     "data": {
      "text/plain": [
       "2427576"
      ]
     },
     "execution_count": 8,
     "metadata": {},
     "output_type": "execute_result"
    }
   ],
   "source": [
    "GND.size"
   ]
  },
  {
   "cell_type": "code",
   "execution_count": 9,
   "id": "7838bc1b",
   "metadata": {},
   "outputs": [
    {
     "data": {
      "text/plain": [
       "404596"
      ]
     },
     "execution_count": 9,
     "metadata": {},
     "output_type": "execute_result"
    }
   ],
   "source": [
    "GND.shape[0]"
   ]
  },
  {
   "cell_type": "code",
   "execution_count": 10,
   "id": "6b2e70b1",
   "metadata": {},
   "outputs": [
    {
     "data": {
      "application/vnd.microsoft.datawrangler.viewer.v0+json": {
       "columns": [
        {
         "name": "index",
         "rawType": "object",
         "type": "string"
        },
        {
         "name": "0",
         "rawType": "int64",
         "type": "integer"
        }
       ],
       "ref": "c107dcd0-3896-4870-89a9-8c4d0e08ef4e",
       "rows": [
        [
         "image_path",
         "0"
        ],
        [
         "caption",
         "34813"
        ],
        [
         "article",
         "0"
        ],
        [
         "headline",
         "2"
        ],
        [
         "article_id",
         "0"
        ],
        [
         "image_index",
         "0"
        ]
       ],
       "shape": {
        "columns": 1,
        "rows": 6
       }
      },
      "text/plain": [
       "image_path         0\n",
       "caption        34813\n",
       "article            0\n",
       "headline           2\n",
       "article_id         0\n",
       "image_index        0\n",
       "dtype: int64"
      ]
     },
     "execution_count": 10,
     "metadata": {},
     "output_type": "execute_result"
    }
   ],
   "source": [
    "GND.isna().sum()"
   ]
  },
  {
   "cell_type": "code",
   "execution_count": 12,
   "id": "ed5faf76",
   "metadata": {},
   "outputs": [],
   "source": [
    "gnd_nona = GND.dropna()"
   ]
  },
  {
   "cell_type": "code",
   "execution_count": 13,
   "id": "ffd94dc7",
   "metadata": {},
   "outputs": [
    {
     "data": {
      "application/vnd.microsoft.datawrangler.viewer.v0+json": {
       "columns": [
        {
         "name": "index",
         "rawType": "object",
         "type": "string"
        },
        {
         "name": "0",
         "rawType": "int64",
         "type": "integer"
        }
       ],
       "ref": "1c651861-5ced-4511-bfa9-8711d4581d1c",
       "rows": [
        [
         "image_path",
         "0"
        ],
        [
         "caption",
         "0"
        ],
        [
         "article",
         "0"
        ],
        [
         "headline",
         "0"
        ],
        [
         "article_id",
         "0"
        ],
        [
         "image_index",
         "0"
        ]
       ],
       "shape": {
        "columns": 1,
        "rows": 6
       }
      },
      "text/plain": [
       "image_path     0\n",
       "caption        0\n",
       "article        0\n",
       "headline       0\n",
       "article_id     0\n",
       "image_index    0\n",
       "dtype: int64"
      ]
     },
     "execution_count": 13,
     "metadata": {},
     "output_type": "execute_result"
    }
   ],
   "source": [
    "gnd_nona.isna().sum()"
   ]
  },
  {
   "cell_type": "markdown",
   "id": "ae06dd11",
   "metadata": {},
   "source": [
    "Lower Casing the whole dataset "
   ]
  },
  {
   "cell_type": "code",
   "execution_count": 14,
   "id": "d88e159c",
   "metadata": {},
   "outputs": [
    {
     "name": "stderr",
     "output_type": "stream",
     "text": [
      "C:\\Users\\ritik\\AppData\\Local\\Temp\\ipykernel_43472\\1671697315.py:1: FutureWarning: DataFrame.applymap has been deprecated. Use DataFrame.map instead.\n",
      "  gnd_nona = gnd_nona.applymap(lambda x: x.lower() if isinstance(x, str) else x)\n"
     ]
    }
   ],
   "source": [
    "gnd_nona = gnd_nona.applymap(lambda x: x.lower() if isinstance(x, str) else x)\n"
   ]
  },
  {
   "cell_type": "code",
   "execution_count": null,
   "id": "b0574bae",
   "metadata": {},
   "outputs": [],
   "source": [
    "babe['text'] = babe['text'].replace(to_replace=r'[^\\w\\s]', value='', regex=True)\n"
   ]
  }
 ],
 "metadata": {
  "kernelspec": {
   "display_name": "base",
   "language": "python",
   "name": "python3"
  },
  "language_info": {
   "codemirror_mode": {
    "name": "ipython",
    "version": 3
   },
   "file_extension": ".py",
   "mimetype": "text/x-python",
   "name": "python",
   "nbconvert_exporter": "python",
   "pygments_lexer": "ipython3",
   "version": "3.12.3"
  }
 },
 "nbformat": 4,
 "nbformat_minor": 5
}
