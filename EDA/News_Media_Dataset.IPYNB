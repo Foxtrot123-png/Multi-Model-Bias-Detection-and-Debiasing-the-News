{
 "cells": [
  {
   "cell_type": "code",
   "execution_count": 12,
   "id": "be12f452",
   "metadata": {},
   "outputs": [],
   "source": [
    "import pandas as pd\n",
    "import numpy as np\n"
   ]
  },
  {
   "cell_type": "code",
   "execution_count": 13,
   "id": "02f946f2",
   "metadata": {},
   "outputs": [],
   "source": [
    "nbs = pd.read_csv('C:\\\\Users\\\\ritik\\\\OneDrive\\\\Documents\\\\GitHub\\\\Multi-Model-Bias-Detection-and-Debiasing-the-News\\\\NewBiasDataset\\\\newsmediabias_plus_combined.csv')"
   ]
  },
  {
   "cell_type": "code",
   "execution_count": 14,
   "id": "4f069f8d",
   "metadata": {},
   "outputs": [
    {
     "data": {
      "application/vnd.microsoft.datawrangler.viewer.v0+json": {
       "columns": [
        {
         "name": "index",
         "rawType": "int64",
         "type": "integer"
        },
        {
         "name": "unique_id",
         "rawType": "object",
         "type": "string"
        },
        {
         "name": "outlet_x",
         "rawType": "object",
         "type": "string"
        },
        {
         "name": "title",
         "rawType": "object",
         "type": "string"
        },
        {
         "name": "date_published_x",
         "rawType": "object",
         "type": "string"
        },
        {
         "name": "content",
         "rawType": "object",
         "type": "string"
        },
        {
         "name": "article_url",
         "rawType": "object",
         "type": "string"
        },
        {
         "name": "canonical_link_x",
         "rawType": "object",
         "type": "string"
        },
        {
         "name": "source_url_x",
         "rawType": "object",
         "type": "string"
        },
        {
         "name": "image_description_x",
         "rawType": "object",
         "type": "string"
        },
        {
         "name": "text_label_x",
         "rawType": "object",
         "type": "string"
        },
        {
         "name": "multimodal_label_x",
         "rawType": "object",
         "type": "string"
        },
        {
         "name": "outlet_y",
         "rawType": "object",
         "type": "string"
        },
        {
         "name": "headline",
         "rawType": "object",
         "type": "string"
        },
        {
         "name": "date_published_y",
         "rawType": "object",
         "type": "string"
        },
        {
         "name": "top_image",
         "rawType": "object",
         "type": "string"
        },
        {
         "name": "article_text",
         "rawType": "object",
         "type": "string"
        },
        {
         "name": "source_url_y",
         "rawType": "object",
         "type": "string"
        },
        {
         "name": "canonical_link_y",
         "rawType": "object",
         "type": "string"
        },
        {
         "name": "new_categories",
         "rawType": "object",
         "type": "string"
        },
        {
         "name": "news_categories_confidence_scores",
         "rawType": "object",
         "type": "string"
        },
        {
         "name": "text_label_y",
         "rawType": "object",
         "type": "string"
        },
        {
         "name": "multimodal_label_y",
         "rawType": "object",
         "type": "string"
        },
        {
         "name": "image_description_y",
         "rawType": "object",
         "type": "string"
        },
        {
         "name": "image_filename",
         "rawType": "object",
         "type": "string"
        },
        {
         "name": "image_path",
         "rawType": "object",
         "type": "string"
        }
       ],
       "ref": "2de36d3f-bb3d-4d37-9c3f-8bb83f02b176",
       "rows": [
        [
         "0",
         "39e6104d56",
         "CBC.ca",
         "Tij Iginla embraces family name, eager to follow his Hall of Fame dad's footsteps entering NHL draft - CBC.ca",
         "2024-06-24 14:48:00+00:00",
         "Tij Iginla doesn't shy away from his famous last name, instead embracing the expectations that come with being the son of a Hockey Hall of Famer.  The 17-year-old is so comfortable being Jarome Iginla's son, he welcomes the possibility of following his father's footsteps should he be selected by the Calgary Flames in the NHL draft this weekend in Las Vegas.  \"I think there might be a little extra attention and expectations and pressure. But for me, having my dad and having my family, the pros heavily outweigh the cons,\" Iginla said earlier this month.  \"Obviously, if I was to go to Calgary, that would be kind of magnified,\" he added. \"I mean, I'd be thrilled to go anywhere. But I think it would be cool to play in a Canadian market where the fans have as much passion as they do.\"  Jarome Iginla spent 15-plus of his 20 NHL seasons being the face of the Flames after being traded to Calgary by Dallas six months after the Stars selected him with the 11th pick in the 1995 draft.  2023 | Hall of Famer Jarome Iginla returns to Flames as special adviser to GM  2020 | Jarome Iginla inducted into Hockey Hall of Fame  The intrigue of another Iginla landing in Calgary has become a topic of discussion after the 6-foot, 182-pound forward significantly boosted his draft stock. His 47 goals in 64 games for the Kelowna Rockets ranked sixth among Western Hockey League players and he finished 22nd overall with 84 points; it was a 41-goal and 66-point improvement from his rookie season.  The Flames currently hold the ninth pick, and Iginla just happens to be NHL Central Scouting's ninth-ranked North American skater, though his overall ranking drops outside of the top 10 when adding in European skaters.  Jarome Iginla, now a Flames adviser recently told Sportsnet.com he has no input in the team's plans.  More family ties  Tij Iginla heads the list of prospects with direct NHL ties expected to be selected this weekend. Among the notables are Finland's Aatos Koivu, the son of former Canadiens captain Saku Koivu, who also played for Anaheim.  There's also Lukas Fischer, whose father Jiri won a Stanley Cup championship with Detroit, and Noah Lapointe, whose dad Martin won two titles with the Red Wings. Max Plante is the son of former NHL player Derek, and then there's Miroslav Satan Jr., whose father of the same name played more than 1,000 NHL games.  \"Maybe take a couple of advices from him, but just kind of do my own thing,\" the 18-year-old Koivu said, when asked about his father who is an adviser for his son's Finnish League team, TPS. \"Maybe sometimes it might actually motivate me a bit because he played. So I kind of just want to show people that I can play as well, and I can be a good player myself.\"  CBC Archives | When Jarome Iginla led the NHL in scoring  It's all about family for Iginla, who spent his first WHL season in Seattle before being traded last summer to Kelowna, where he got to stay with his younger brother, Joe, at one of his parent's offseason homes. The return to familiar surroundings benefited Iginla after he struggled as a rookie finding a niche on a veteran-laden Seattle team.  \"It was the first time in my life where I was getting healthy-scratched,\" said Iginla of being limited to playing just 48 regular-season and three playoff games for the eventual WHL champions.  \"I just tried to use it as fuel and motivation as much as I could,\" he added. \"Going through that adversity, I think it helped me to build a lot of grit.\"  Answering questions  Rockets coach Kris Mallette was impressed by how Iginla responded to adversity while being open to constructive criticism and improving his game. Mallette said he would often relay to Iginla conversations he had with NHL scouts on what they perceived being the player's deficiencies.  Some said he was too individualistic. Others questioned his lack of physical play. One by one, Iginla checked off lingering questions.  \"That showed the NHL scouts that, OK, here's a player that's very coachable,\" Mallette said. \"Did he like it? Probably not. But he took it upon himself to continue to work on it and trust the process and see the results because of it.\"  Central Scouting chief Dan Marr referred to Iginla as \"a complete package.\"  \"He's an exciting player. He's got speed, quickness and skills. And he can finish,\" Marr said. \"This is not a kid who plays off his name.\"  Iginla draws upon the experiences of growing up around the NHL. He recalled sitting at the \"kiddie table\" when his dad invited Avalanche teammate Nathan MacKinnon for Thanksgiving, and meeting Sidney Crosby, after his father was traded to Pittsburgh in 2013.  \"From an outside perspective, it might seem like there's more pressure, more expectations,\" Tij Iginla said. \"But for me, my motivation comes from within. I want to succeed because it's what I want to do, and my dream.\"",
         "https://www.cbc.ca/news/canada/calgary/tij-iginla-embraces-family-name-eager-to-follow-his-hall-of-fame-dad-s-footsteps-entering-nhl-draft-1.7244491",
         "https://www.cbc.ca/news/canada/calgary/tij-iginla-embraces-family-name-eager-to-follow-his-hall-of-fame-dad-s-footsteps-entering-nhl-draft-1.7244491",
         "https://www.cbc.ca",
         "A man with a bald head and a black suit is smiling, and a young man with curly hair is wearing a black jacket and a gold chain.",
         "Likely",
         "Unlikely",
         "CBC.ca",
         "Tij Iginla embraces family name, eager to follow his Hall of Fame dad's footsteps entering NHL draft - CBC.ca",
         "2024-06-24 14:48:00+00:00",
         "{'bytes': None, 'path': '/projects/NMB-Plus/raw-data/whitelist_may_june_2024/images/39e6104d56.jpeg'}",
         "Tij Iginla doesn't shy away from his famous last name, instead embracing the expectations that come with being the son of a Hockey Hall of Famer.\n\nThe 17-year-old is so comfortable being Jarome Iginla's son, he welcomes the possibility of following his father's footsteps should he be selected by the Calgary Flames in the NHL draft this weekend in Las Vegas.\n\n\"I think there might be a little extra attention and expectations and pressure. But for me, having my dad and having my family, the pros heavily outweigh the cons,\" Iginla said earlier this month.\n\n\"Obviously, if I was to go to Calgary, that would be kind of magnified,\" he added. \"I mean, I'd be thrilled to go anywhere. But I think it would be cool to play in a Canadian market where the fans have as much passion as they do.\"\n\nJarome Iginla spent 15-plus of his 20 NHL seasons being the face of the Flames after being traded to Calgary by Dallas six months after the Stars selected him with the 11th pick in the 1995 draft.\n\n2023 | Hall of Famer Jarome Iginla returns to Flames as special adviser to GM\n\n2020 | Jarome Iginla inducted into Hockey Hall of Fame\n\nThe intrigue of another Iginla landing in Calgary has become a topic of discussion after the 6-foot, 182-pound forward significantly boosted his draft stock. His 47 goals in 64 games for the Kelowna Rockets ranked sixth among Western Hockey League players and he finished 22nd overall with 84 points; it was a 41-goal and 66-point improvement from his rookie season.\n\nThe Flames currently hold the ninth pick, and Iginla just happens to be NHL Central Scouting's ninth-ranked North American skater, though his overall ranking drops outside of the top 10 when adding in European skaters.\n\nJarome Iginla, now a Flames adviser recently told Sportsnet.com he has no input in the team's plans.\n\nMore family ties\n\nTij Iginla heads the list of prospects with direct NHL ties expected to be selected this weekend. Among the notables are Finland's Aatos Koivu, the son of former Canadiens captain Saku Koivu, who also played for Anaheim.\n\nThere's also Lukas Fischer, whose father Jiri won a Stanley Cup championship with Detroit, and Noah Lapointe, whose dad Martin won two titles with the Red Wings. Max Plante is the son of former NHL player Derek, and then there's Miroslav Satan Jr., whose father of the same name played more than 1,000 NHL games.\n\n\"Maybe take a couple of advices from him, but just kind of do my own thing,\" the 18-year-old Koivu said, when asked about his father who is an adviser for his son's Finnish League team, TPS. \"Maybe sometimes it might actually motivate me a bit because he played. So I kind of just want to show people that I can play as well, and I can be a good player myself.\"\n\nCBC Archives | When Jarome Iginla led the NHL in scoring\n\nIt's all about family for Iginla, who spent his first WHL season in Seattle before being traded last summer to Kelowna, where he got to stay with his younger brother, Joe, at one of his parent's offseason homes. The return to familiar surroundings benefited Iginla after he struggled as a rookie finding a niche on a veteran-laden Seattle team.\n\n\"It was the first time in my life where I was getting healthy-scratched,\" said Iginla of being limited to playing just 48 regular-season and three playoff games for the eventual WHL champions.\n\n\"I just tried to use it as fuel and motivation as much as I could,\" he added. \"Going through that adversity, I think it helped me to build a lot of grit.\"\n\nAnswering questions\n\nRockets coach Kris Mallette was impressed by how Iginla responded to adversity while being open to constructive criticism and improving his game. Mallette said he would often relay to Iginla conversations he had with NHL scouts on what they perceived being the player's deficiencies.\n\nSome said he was too individualistic. Others questioned his lack of physical play. One by one, Iginla checked off lingering questions.\n\n\"That showed the NHL scouts that, OK, here's a player that's very coachable,\" Mallette said. \"Did he like it? Probably not. But he took it upon himself to continue to work on it and trust the process and see the results because of it.\"\n\nCentral Scouting chief Dan Marr referred to Iginla as \"a complete package.\"\n\n\"He's an exciting player. He's got speed, quickness and skills. And he can finish,\" Marr said. \"This is not a kid who plays off his name.\"\n\nIginla draws upon the experiences of growing up around the NHL. He recalled sitting at the \"kiddie table\" when his dad invited Avalanche teammate Nathan MacKinnon for Thanksgiving, and meeting Sidney Crosby, after his father was traded to Pittsburgh in 2013.\n\n\"From an outside perspective, it might seem like there's more pressure, more expectations,\" Tij Iginla said. \"But for me, my motivation comes from within. I want to succeed because it's what I want to do, and my dream.\"",
         "https://www.cbc.ca",
         "https://www.cbc.ca/news/canada/calgary/tij-iginla-embraces-family-name-eager-to-follow-his-hall-of-fame-dad-s-footsteps-entering-nhl-draft-1.7244491",
         "['Sports' 'National']",
         "[0.95 0.7 ]",
         "Likely",
         "Unlikely",
         "A man with a bald head and a black suit is smiling, and a young man with curly hair is wearing a black jacket and a gold chain.",
         "39e6104d56.jpeg",
         "C:\\Users\\ritik\\Downloads\\images\\images\\39e6104d56.jpeg"
        ],
        [
         "1",
         "8b320e107e",
         "CBC News",
         "Conservative MP shares inaccurate, ChatGPT-generated stats on capital gains tax rate - CBC News",
         "2024-06-24 18:01:00+00:00",
         "An Ontario Conservative MP's use of ChatGPT to share incorrect information online about Canada's capital gains tax rate offers a cautionary tale to politicians looking to use AI to generate messages, one expert says.  MP Ryan Williams posted last week on X (formerly known as Twitter) an AI-generated ranking of G7 countries and their capital gains tax rates.  The list appeared to have been generated by ChatGPT — an artificial intelligence-based virtual assistant — and falsely listed Canada's capital gains tax rate as 66.7 per cent. The ChatGPT logo was shown in the screenshot Williams posted. The post has since been deleted.  The Liberal government's increase to the capital gains inclusion rate — the amount of capital gains that are considered taxable income — has become a new point of attack for the Conservatives since the party voted against the change earlier this month. Conservative Leader Pierre Poilievre posted a nearly 16-minute online video about the change.  But the capital gains inclusion rate and tax rate are two different things. The inclusion rate is the portion of the capital gain subject to tax; capital gains tax rates themselves vary depending on income.  A capital gain is the difference between an asset's cost and its total sale price. That asset could be a cottage, an investment property, a stock or a mutual fund. In Canada, primary residences are not included under the capital gains tax.  The changes that take effect Tuesday will raise the inclusion rate for individuals from 50 per cent to 66.7 per cent for capital gains above $250,000. For the first $250,000 in capital gains, only $125,000 is taxable. Two-thirds of every dollar beyond $250,000 will be taxable. Federal income tax rates are then applied to those amounts.  For corporations, there will be no $250,000 threshold. Two-thirds of all capital gains earned by corporations and trusts will be taxable.  ChatGPT, a powerful chatbot that can generate information instantly and carry on human-like conversations, has revolutionized the way people use AI.  Users also have found that it makes factual mistakes and even struggles with simple math problems.  The capital gains tax rates for other G7 countries also appear to be slightly off in William's post.  It lists France's rate as 34 per cent. That country's rate is 30 per cent, with an additional four per cent for higher income earners, according to PricewaterhouseCoopers. William's post also lists the U.S. rate as 23.8 per cent, but it's actually 20 per cent federally.  CBC News reached out to the Conservative MP for comment but did not receive a response.  Fenwick McKelvey, a professor of information and communication technology at Concordia University, said William's post shows the pressure politicians are under to put out content that promotes their message.  \"You turn to ChatGPT to speed up some of your content production. The problem with ChatGPT, as we all know, is that you don't know the results, they don't know how accurate it is and there's no fact-checking,\" he told CBC News.  The impact of AI on politics and election campaigns is becoming a pressing topic of discussion in Canada and the U.S.  Caroline Xavier, head of the Communications Security Establishment (CSE) — Canada's cyber intelligence agency — has told CBC News that she's concerned the use of AI could amplify the spread of misinformation.  Earlier this year, a group of researchers at Columbia University tested how five large language models — including ChatGPT — responded to a set of prompts about primary contests in the U.S.  All five failed to varying degrees when asked to respond to basic questions about the American democratic process — such as where a voter could find the nearest polling place.  McKelvey said that while AI technology like ChatGPT could have some uses for politicians crafting messages, it needs to be better regulated.  \"We've really left all AI regulation to private companies like OpenAI, who are making up rules on the fly,\" he said.  OpenAI, the company that created ChatGPT, provides AI technology to tech companies like Apple and Microsoft. But in January, the company updated its policies and suggested it would restrict the use of its technology by political campaigns and lobbyists.  \"We're still working to understand how effective our tools might be for personalized persuasion. Until we know more, we don't allow people to build applications for political campaigning and lobbying,\" the company said in a media statement.  OpenAI said in May that it's updating ChatGPT to direct users to official sources for voter information.  Last year, federal and provincial privacy commissioners announced a joint investigation into whether ChatGPT was collecting and disclosing Canadians' personal information without consent.  McKelvey said discussions about AI technology need also to focus on its impact on the \"information ecosystem.\"  \"What it really is doing is contributing to a more systemic issue where Canada's had relatively high levels of trust comparatively in media systems and AI could be contributing to a decline in that trust,\" he said.  Without further regulation, McKelvey said, gaffes like Williams's post might be the only way to police AI-generated misinformation.  \"Politicians might think twice if their use of this technology gets them in hot water,\" he said.",
         "https://www.cbc.ca/news/politics/conservative-tweet-capital-gains-chatgpt-1.7244186",
         "https://www.cbc.ca/news/politics/conservative-tweet-capital-gains-chatgpt-1.7244186",
         "https://www.cbc.ca",
         "A man in a blue suit stands in a room with yellow curtains, gesturing with his right hand.",
         "Likely",
         "Likely",
         "CBC News",
         "Conservative MP shares inaccurate, ChatGPT-generated stats on capital gains tax rate - CBC News",
         "2024-06-24 18:01:00+00:00",
         "{'bytes': None, 'path': '/projects/NMB-Plus/raw-data/whitelist_may_june_2024/images/8b320e107e.jpeg'}",
         "An Ontario Conservative MP's use of ChatGPT to share incorrect information online about Canada's capital gains tax rate offers a cautionary tale to politicians looking to use AI to generate messages, one expert says.\n\nMP Ryan Williams posted last week on X (formerly known as Twitter) an AI-generated ranking of G7 countries and their capital gains tax rates.\n\nThe list appeared to have been generated by ChatGPT — an artificial intelligence-based virtual assistant — and falsely listed Canada's capital gains tax rate as 66.7 per cent. The ChatGPT logo was shown in the screenshot Williams posted. The post has since been deleted.\n\nThe Liberal government's increase to the capital gains inclusion rate — the amount of capital gains that are considered taxable income — has become a new point of attack for the Conservatives since the party voted against the change earlier this month. Conservative Leader Pierre Poilievre posted a nearly 16-minute online video about the change.\n\nBut the capital gains inclusion rate and tax rate are two different things. The inclusion rate is the portion of the capital gain subject to tax; capital gains tax rates themselves vary depending on income.\n\nA capital gain is the difference between an asset's cost and its total sale price. That asset could be a cottage, an investment property, a stock or a mutual fund. In Canada, primary residences are not included under the capital gains tax.\n\nThe changes that take effect Tuesday will raise the inclusion rate for individuals from 50 per cent to 66.7 per cent for capital gains above $250,000. For the first $250,000 in capital gains, only $125,000 is taxable. Two-thirds of every dollar beyond $250,000 will be taxable. Federal income tax rates are then applied to those amounts.\n\nFor corporations, there will be no $250,000 threshold. Two-thirds of all capital gains earned by corporations and trusts will be taxable.\n\nChatGPT, a powerful chatbot that can generate information instantly and carry on human-like conversations, has revolutionized the way people use AI.\n\nUsers also have found that it makes factual mistakes and even struggles with simple math problems.\n\nThe capital gains tax rates for other G7 countries also appear to be slightly off in William's post.\n\nIt lists France's rate as 34 per cent. That country's rate is 30 per cent, with an additional four per cent for higher income earners, according to PricewaterhouseCoopers. William's post also lists the U.S. rate as 23.8 per cent, but it's actually 20 per cent federally.\n\nCBC News reached out to the Conservative MP for comment but did not receive a response.\n\nFenwick McKelvey, a professor of information and communication technology at Concordia University, said William's post shows the pressure politicians are under to put out content that promotes their message.\n\n\"You turn to ChatGPT to speed up some of your content production. The problem with ChatGPT, as we all know, is that you don't know the results, they don't know how accurate it is and there's no fact-checking,\" he told CBC News.\n\nThe impact of AI on politics and election campaigns is becoming a pressing topic of discussion in Canada and the U.S.\n\nCaroline Xavier, head of the Communications Security Establishment (CSE) — Canada's cyber intelligence agency — has told CBC News that she's concerned the use of AI could amplify the spread of misinformation.\n\nEarlier this year, a group of researchers at Columbia University tested how five large language models — including ChatGPT — responded to a set of prompts about primary contests in the U.S.\n\nAll five failed to varying degrees when asked to respond to basic questions about the American democratic process — such as where a voter could find the nearest polling place.\n\nMcKelvey said that while AI technology like ChatGPT could have some uses for politicians crafting messages, it needs to be better regulated.\n\n\"We've really left all AI regulation to private companies like OpenAI, who are making up rules on the fly,\" he said.\n\nOpenAI, the company that created ChatGPT, provides AI technology to tech companies like Apple and Microsoft. But in January, the company updated its policies and suggested it would restrict the use of its technology by political campaigns and lobbyists.\n\n\"We're still working to understand how effective our tools might be for personalized persuasion. Until we know more, we don't allow people to build applications for political campaigning and lobbying,\" the company said in a media statement.\n\nOpenAI said in May that it's updating ChatGPT to direct users to official sources for voter information.\n\nLast year, federal and provincial privacy commissioners announced a joint investigation into whether ChatGPT was collecting and disclosing Canadians' personal information without consent.\n\nMcKelvey said discussions about AI technology need also to focus on its impact on the \"information ecosystem.\"\n\n\"What it really is doing is contributing to a more systemic issue where Canada's had relatively high levels of trust comparatively in media systems and AI could be contributing to a decline in that trust,\" he said.\n\nWithout further regulation, McKelvey said, gaffes like Williams's post might be the only way to police AI-generated misinformation.\n\n\"Politicians might think twice if their use of this technology gets them in hot water,\" he said.",
         "https://www.cbc.ca",
         "https://www.cbc.ca/news/politics/conservative-tweet-capital-gains-chatgpt-1.7244186",
         "['Politics' 'Business and Finance']",
         "[0.85 0.75]",
         "Likely",
         "Likely",
         "A man in a blue suit stands in a room with yellow curtains, gesturing with his right hand.",
         "8b320e107e.jpeg",
         "C:\\Users\\ritik\\Downloads\\images\\images\\8b320e107e.jpeg"
        ],
        [
         "2",
         "7536f87654",
         "CBC.ca",
         "Women's sports are more popular than ever, but study of female physiology is still catching up - CBC.ca",
         "2024-06-22 08:00:00+00:00",
         "When it comes to the study of sports, a man's body has long been considered the default. But a new resource aims to change that.  The Institut national du sport du Québec has published a new resource that focuses on the physiology, or study of how the body works, of female athletes. It hopes the resource will improve the experience of women in sport.  It was created in collaboration with sports advocacy group Égale Action. Sylvie Béliveau, the group's director of gender equity, says the document is the first of its kind in the province.  It's designed to help coaches, parents and athletes better understand the particular physiological challenges women face when competing.  \"All coach education programs that I was attending, it was neutral in terms of the information that was provided but based on men's physiology,\" Béliveau said.  Béliveau says as a coach she spent hours translating data collected about men into something that women can use. It was that struggle that led her to spearhead the publication of this new resource.  \"Growth and maturation is not happening at the same [rate] as boys. Because we often compare [boys and girls] and that's the problem. So if I'm the coach of a girl, I need to understand what happens at 10, 11, 12.\"  The 30-page brochure covers topics such as puberty, the menstrual cycle, pregnancy and contraception. It also has a section for transgender athletes.  Béliveau says studies by Égale Action have shown that girls quit playing sports around puberty at much higher rate than boys, a phenomenon she calls \"leaving in silence,\" because they don't give a reason.  She believes part of the reason why is a gap in understanding about women's physiology.  Working to catch up on women's sport research  François Bieuzen, the director of sports sciences at the institute, says it has been working on creating this resource for about three years.  He says women-specific sports science research has only started to be taken seriously around the world in the last decade. He points to parts of the United States, Norway and France as leaders on the subject and adds that Canada and Quebec are now on board.  \"There is a lot of things to do, to inform, to educate,\" he said.  Bieuzen says the brochure is as much for athletes as it is for coaches.  \"[Many women] don't know exactly how their physiology is,\" said Bieuzen. \"So if they can learn more about that, be more confident about that and share that with confidence with coaches and other athletes and physicians and so on, it could be a great step forward.\"  Former Olympic skier Maxime Dufour-Lapointe, who is now a family doctor in residence, was brought in by the institute to be an ambassador for the brochure.  \"It always takes a bit of time for science to catch up to what we've already figured out on the field. So this is actually really major,\" she said.  \"Some coaches were already attuned with this, but not the majority. And the whole goal of this is yes, performances, but it's also about building athletes as a person.\"  The brochure is available for free on the INS website. For now it is only available in French.",
         "https://www.cbc.ca/news/canada/montreal/womens-sports-physiology-brochure-1.7243262",
         "https://www.cbc.ca/news/canada/montreal/womens-sports-physiology-brochure-1.7243262",
         "https://www.cbc.ca",
         "Two hockey players in action on the ice, one in a white jersey with the number 29 and the other in a green jersey with the number 34, both wearing helmets and holding hockey sticks.",
         "Unlikely",
         "Unlikely",
         "CBC.ca",
         "Women's sports are more popular than ever, but study of female physiology is still catching up - CBC.ca",
         "2024-06-22 08:00:00+00:00",
         "{'bytes': None, 'path': '/projects/NMB-Plus/raw-data/whitelist_may_june_2024/images/7536f87654.jpeg'}",
         "When it comes to the study of sports, a man's body has long been considered the default. But a new resource aims to change that.\n\nThe Institut national du sport du Québec has published a new resource that focuses on the physiology, or study of how the body works, of female athletes. It hopes the resource will improve the experience of women in sport.\n\nIt was created in collaboration with sports advocacy group Égale Action. Sylvie Béliveau, the group's director of gender equity, says the document is the first of its kind in the province.\n\nIt's designed to help coaches, parents and athletes better understand the particular physiological challenges women face when competing.\n\n\"All coach education programs that I was attending, it was neutral in terms of the information that was provided but based on men's physiology,\" Béliveau said.\n\nBéliveau says as a coach she spent hours translating data collected about men into something that women can use. It was that struggle that led her to spearhead the publication of this new resource.\n\n\"Growth and maturation is not happening at the same [rate] as boys. Because we often compare [boys and girls] and that's the problem. So if I'm the coach of a girl, I need to understand what happens at 10, 11, 12.\"\n\nThe 30-page brochure covers topics such as puberty, the menstrual cycle, pregnancy and contraception. It also has a section for transgender athletes.\n\nBéliveau says studies by Égale Action have shown that girls quit playing sports around puberty at much higher rate than boys, a phenomenon she calls \"leaving in silence,\" because they don't give a reason.\n\nShe believes part of the reason why is a gap in understanding about women's physiology.\n\nWorking to catch up on women's sport research\n\nFrançois Bieuzen, the director of sports sciences at the institute, says it has been working on creating this resource for about three years.\n\nHe says women-specific sports science research has only started to be taken seriously around the world in the last decade. He points to parts of the United States, Norway and France as leaders on the subject and adds that Canada and Quebec are now on board.\n\n\"There is a lot of things to do, to inform, to educate,\" he said.\n\nBieuzen says the brochure is as much for athletes as it is for coaches.\n\n\"[Many women] don't know exactly how their physiology is,\" said Bieuzen. \"So if they can learn more about that, be more confident about that and share that with confidence with coaches and other athletes and physicians and so on, it could be a great step forward.\"\n\nFormer Olympic skier Maxime Dufour-Lapointe, who is now a family doctor in residence, was brought in by the institute to be an ambassador for the brochure.\n\n\"It always takes a bit of time for science to catch up to what we've already figured out on the field. So this is actually really major,\" she said.\n\n\"Some coaches were already attuned with this, but not the majority. And the whole goal of this is yes, performances, but it's also about building athletes as a person.\"\n\nThe brochure is available for free on the INS website. For now it is only available in French.",
         "https://www.cbc.ca",
         "https://www.cbc.ca/news/canada/montreal/womens-sports-physiology-brochure-1.7243262",
         "['Sports' 'Health']",
         "[0.85 0.75]",
         "Unlikely",
         "Unlikely",
         "Two hockey players in action on the ice, one in a white jersey with the number 29 and the other in a green jersey with the number 34, both wearing helmets and holding hockey sticks.",
         "7536f87654.jpeg",
         "C:\\Users\\ritik\\Downloads\\images\\images\\7536f87654.jpeg"
        ],
        [
         "3",
         "c829d1f9a8",
         "CBC.ca",
         "June 22: Listener Question Show - CBC.ca",
         "2024-06-21 18:20:00+00:00",
         "To wrap up the 48th season of Quirks & Quarks, we've got another edition of our ever-popular Listener Question show, where experts provide answers to your burning science questions.  Christ Kennedy from Moncton, New Brunswick asks: If someone had the means to, how close could we bring the Moon to the Earth while still keeping it in orbit around us? And fast would a month fly by?  Brett Gladman, a professor of astronomy at the University of British Columbia, says bringing the Moon closer to the Earth would result in many fascinating changes. It could circle our planet in 6 hours instead of 27 days; it would rise in the west and set in the east; and the tides would become so drastic that ocean waters would scour the entire land surface of the Earth several times a day. Gladman says we don't have to worry about this, however, as the Moon's orbit has been steadily expanding over the past millions of years.  Matoli Degroot from Manitoba asks: Do animal species in the wild get bigger over time, since the bigger males would end up mating more than the smaller ones?  For the answer, we reached out to Danielle Fraser, who is the head of paleobiology at the Canadian Museum of Nature in Ottawa. She says that while some animals get bigger over time as a result of sexual selection, not all animals compete for mates by fighting, where body size can be an advantage – think of birds and their elaborate plumage and mating dances. Fraser says the environment and food availability also play a role in determining body size.  Bill Sullivan from Hamilton, Ontario asks: Why does the hair on my head turn grey while hair on the rest of my body does not change colour?  To untangle this question, we spoke with Frida Lona-Durazo, a postdoctoral fellow of computational genetics at the University of Montreal who's studied the genetics of hair colour. She said we go grey when our pigment stem cells go defunct as we age and one theory for why that may differ on your scalp versus the rest of your body is due to the speed at which the hair on the scalp grows. How our cells are making proteins from our DNA can differ in various body regions and environmental factors, such as some drugs, HIV or stress can prematurely grey some areas but not others.  Dan from Quebec City asks: We know that the Earth's crust is built of plates that float on the molten centre of the Earth. What is the force that moves those plates?  For the answer, we reached Alexander Peace, an assistant professor in the School of Earth, Environment and Society at McMaster University in Hamilton, Ont. He explained that the movement of tectonic plates on the Earth's mantle is governed by their composition: oceanic plates tend to be denser while continental crust is more buoyant. When two continental plates collide, the force of the collision pushes them up to form mountain ranges, while a meeting of the denser oceanic crust and a more buoyant continental plate forces the heavier oceanic plate under the continent, forming a subduction zone.  Frances Mawson from Heckmans Island in Nova Scotia asks: Prey animals like deer are intermittently forced to flee from various predators. When danger has passed, they pause for a moment and then resume browsing. How can they recover so quickly?  We asked wildlife ecologist and Western University professor Liana Zanette, who studies the ecology of fear, to shed light on this topic. She said that while the animals may appear calm, fear of predators has a great impact on their life: they spend less time grazing and more time on high alert, which causes them to eat less and in the long run, produce fewer offspring. And since humans are the scariest predator for most prey animals, Zanette suggests being mindful of the effects of your presence on the local wildlife during your nature hikes.  Richard Lukes from Winnipeg asks: As a hydro generating station generates energy, what is the effect on the downstream water? Has the temperature of the water been lowered? If so, then could hydropower help to cool the oceans and combat global warming?  We got the answer from Jaime Wong, an Assistant Professor in the Faculty of Mechanical Engineering at the University of Alberta. He says that hydro generating stations get their energy from the gravitational force of the water falling through a turbine, so the temperature hasn't changed, and thermal energy isn't something we could tap to cool the oceans.  Luc in Edmonton asks: With more people planting native grasses and plants around their houses and businesses in cities, will the bird population in these cities change or increase?  For the answer, we turned to Sheila Colla, an Associate Professor in the Faculty of Environmental & Urban Change at York University and York Research Chair in Interdisciplinary Conservation Science. She says that because birds and insects evolved alongside our native plants, they have relationships with these plants to provide food and habitat. Since bird populations have been in decline, planting native plants will help support native wildlife much better than imported or invasive species of flora.  John Ugyan from Kelowna, British Columbia asks: If atoms are 99.99% empty, why do our eyes see matter as if it was 100% solid?  We asked condensed matter physicist, Cissy Suen who's a joint PhD student from University of British Columbia's Quantum Matter Institute and the Max Planck Institute for Solid State Research in Germany, who said the electron space around the nucleus of atoms isn't actually empty. We see matter as solid due to the wave nature of the light that our eyes take in.  Debbie Turner in Fenelon Falls, Ontario asks: How does climate change affect animals that hibernate?  We got the answer from Jeffrey Lane, an associate professor in the department of biology at the University of Saskatchewan. He says the changing climate is affecting all of the critical periods in a hibernating animal's life: warmer seasons may mean they go into hibernation later and emerge from it sooner, while the period of hibernation itself may be getting shorter if the animals' \"natural blanket\" of snow cover melts sooner or doesn't accumulate during higher winter temperatures.  Greg Hollinger from Owen Sound, Ontario asks: Since the planets orbit the sun in a plane, does their combined gravity pull on and distort the shape of the sun?",
         "https://www.cbc.ca/radio/quirks/quirks-quarks-question-show-june-22-1.7238524",
         "https://www.cbc.ca/radio/quirks/quirks-quarks-question-show-june-22-1.7238524",
         "https://www.cbc.ca",
         "A man with a thoughtful expression stands in front of a crowd of raised hands, each with a question mark above them, suggesting a public speaking event or a Q&A session.",
         "Likely",
         "Unlikely",
         "CBC.ca",
         "June 22: Listener Question Show - CBC.ca",
         "2024-06-21 18:20:00+00:00",
         "{'bytes': None, 'path': '/projects/NMB-Plus/raw-data/whitelist_may_june_2024/images/c829d1f9a8.jpeg'}",
         "To wrap up the 48th season of Quirks & Quarks, we've got another edition of our ever-popular Listener Question show, where experts provide answers to your burning science questions.\n\nChrist Kennedy from Moncton, New Brunswick asks: If someone had the means to, how close could we bring the Moon to the Earth while still keeping it in orbit around us? And fast would a month fly by?\n\nBrett Gladman, a professor of astronomy at the University of British Columbia, says bringing the Moon closer to the Earth would result in many fascinating changes. It could circle our planet in 6 hours instead of 27 days; it would rise in the west and set in the east; and the tides would become so drastic that ocean waters would scour the entire land surface of the Earth several times a day. Gladman says we don't have to worry about this, however, as the Moon's orbit has been steadily expanding over the past millions of years.\n\nMatoli Degroot from Manitoba asks: Do animal species in the wild get bigger over time, since the bigger males would end up mating more than the smaller ones?\n\nFor the answer, we reached out to Danielle Fraser, who is the head of paleobiology at the Canadian Museum of Nature in Ottawa. She says that while some animals get bigger over time as a result of sexual selection, not all animals compete for mates by fighting, where body size can be an advantage – think of birds and their elaborate plumage and mating dances. Fraser says the environment and food availability also play a role in determining body size.\n\nBill Sullivan from Hamilton, Ontario asks: Why does the hair on my head turn grey while hair on the rest of my body does not change colour?\n\nTo untangle this question, we spoke with Frida Lona-Durazo, a postdoctoral fellow of computational genetics at the University of Montreal who's studied the genetics of hair colour. She said we go grey when our pigment stem cells go defunct as we age and one theory for why that may differ on your scalp versus the rest of your body is due to the speed at which the hair on the scalp grows. How our cells are making proteins from our DNA can differ in various body regions and environmental factors, such as some drugs, HIV or stress can prematurely grey some areas but not others.\n\nDan from Quebec City asks: We know that the Earth's crust is built of plates that float on the molten centre of the Earth. What is the force that moves those plates?\n\nFor the answer, we reached Alexander Peace, an assistant professor in the School of Earth, Environment and Society at McMaster University in Hamilton, Ont. He explained that the movement of tectonic plates on the Earth's mantle is governed by their composition: oceanic plates tend to be denser while continental crust is more buoyant. When two continental plates collide, the force of the collision pushes them up to form mountain ranges, while a meeting of the denser oceanic crust and a more buoyant continental plate forces the heavier oceanic plate under the continent, forming a subduction zone.\n\nFrances Mawson from Heckmans Island in Nova Scotia asks: Prey animals like deer are intermittently forced to flee from various predators. When danger has passed, they pause for a moment and then resume browsing. How can they recover so quickly?\n\nWe asked wildlife ecologist and Western University professor Liana Zanette, who studies the ecology of fear, to shed light on this topic. She said that while the animals may appear calm, fear of predators has a great impact on their life: they spend less time grazing and more time on high alert, which causes them to eat less and in the long run, produce fewer offspring. And since humans are the scariest predator for most prey animals, Zanette suggests being mindful of the effects of your presence on the local wildlife during your nature hikes.\n\nRichard Lukes from Winnipeg asks: As a hydro generating station generates energy, what is the effect on the downstream water? Has the temperature of the water been lowered? If so, then could hydropower help to cool the oceans and combat global warming?\n\nWe got the answer from Jaime Wong, an Assistant Professor in the Faculty of Mechanical Engineering at the University of Alberta. He says that hydro generating stations get their energy from the gravitational force of the water falling through a turbine, so the temperature hasn't changed, and thermal energy isn't something we could tap to cool the oceans.\n\nLuc in Edmonton asks: With more people planting native grasses and plants around their houses and businesses in cities, will the bird population in these cities change or increase?\n\nFor the answer, we turned to Sheila Colla, an Associate Professor in the Faculty of Environmental & Urban Change at York University and York Research Chair in Interdisciplinary Conservation Science. She says that because birds and insects evolved alongside our native plants, they have relationships with these plants to provide food and habitat. Since bird populations have been in decline, planting native plants will help support native wildlife much better than imported or invasive species of flora.\n\nJohn Ugyan from Kelowna, British Columbia asks: If atoms are 99.99% empty, why do our eyes see matter as if it was 100% solid?\n\nWe asked condensed matter physicist, Cissy Suen who's a joint PhD student from University of British Columbia's Quantum Matter Institute and the Max Planck Institute for Solid State Research in Germany, who said the electron space around the nucleus of atoms isn't actually empty. We see matter as solid due to the wave nature of the light that our eyes take in.\n\nDebbie Turner in Fenelon Falls, Ontario asks: How does climate change affect animals that hibernate?\n\nWe got the answer from Jeffrey Lane, an associate professor in the department of biology at the University of Saskatchewan. He says the changing climate is affecting all of the critical periods in a hibernating animal's life: warmer seasons may mean they go into hibernation later and emerge from it sooner, while the period of hibernation itself may be getting shorter if the animals' \"natural blanket\" of snow cover melts sooner or doesn't accumulate during higher winter temperatures.\n\nGreg Hollinger from Owen Sound, Ontario asks: Since the planets orbit the sun in a plane, does their combined gravity pull on and distort the shape of the sun?",
         "https://www.cbc.ca",
         "https://www.cbc.ca/radio/quirks/quirks-quarks-question-show-june-22-1.7238524",
         "['Science' 'Other']",
         "[0.9 0.7]",
         "Likely",
         "Unlikely",
         "A man with a thoughtful expression stands in front of a crowd of raised hands, each with a question mark above them, suggesting a public speaking event or a Q&A session.",
         "c829d1f9a8.jpeg",
         "C:\\Users\\ritik\\Downloads\\images\\images\\c829d1f9a8.jpeg"
        ],
        [
         "4",
         "a0ba0e377b",
         "CBC.ca",
         "Albertans can't legally gamble with Betway. So why is it advertising at Oilers games? - CBC.ca",
         "2024-06-21 21:18:00+00:00",
         "When following the Edmonton Oilers' playoff run so far, you may have seen ads for Betway on display.  Because during Edmonton-hosted games of the Stanley Cup final, an advertisement for Betway.net has appeared on the boards — and in the ice — of the Rogers Place arena.  Betway is an online betting brand that operates in various countries across the globe. And it's also a brand that is part of Ontario's regulated online gambling market.  But it's not a legal option for Albertans, as the province has only one legal regulated site for sports betting: Play Alberta.  To sports-gambling expert Victor Matheson, he says it seems Betway likely has a play in mind that involves getting its name out there while avoiding the direct promotion of an out-of-market betting service in Alberta.  \"Betway has made a bet on the NHL and the Stanley Cup,\" said Matheson.  A Betway site without betting  Betway has a partnership with the NHL that grants it branding rights during the regular season and through to the Stanley Cup.  But the company told CBC News the advertising seen in Edmonton during the finals is for its \"global website,\" which doesn't feature gambling content.  The Betway.net site provides information about sports, including recent scores from events around the globe — including NHL playoffs.  Matheson said it seems the promotion of this site must provide a legal path for having this advertising in place in this manner.  \"I kind of find that amusingly clever, I guess,\" said Matheson, an economics professor at the College of the Holy Cross in Worcester, Mass.  The province's legal betting site has also had its logo displayed on the boards in Edmonton during the finals.  Karin Campbell, the manager of communications for Alberta Gaming, Liquor and Cannabis (AGLC) said that Play Alberta and Oilers have a partnership of their own.  Campbell reiterated that Play Alberta is the province's only legal site for sports betting.  But will Albertans watching these games understand that Betway is not a brand for them to use?  'A sports information site'  Brandon Aboultaif, the press secretary for Service Alberta minister Dale McNally, said Albertans know that Play Alberta is the site to use and the AGLC works to reinforce that message.  Echoing a point made by Betway, Aboultaif said the company's ads on display in Edmonton point to \"a sports information site,\" rather than a betting site.  Both Aboultaif and AGLC suggested contacting the Canadian Radio-television and Telecommunications Commission (CRTC) about the issue — though the regulator denied having jurisdiction over such advertising.  \"The CRTC does not regulate gambling organizations,\" the regulator told CBC News in an emailed statement.  \"Additionally, the CRTC does not regulate the content of advertisements, except for advertising to children and alcohol ads.\"  Yet Aboultaif further said if there are \"complaints or concerns\" over the CRTC's \"current regulations,\" those should be raised with the regulator and the federal government.  In Ottawa, a senator has put forward a bill to establish a national framework for regulating the advertising of sports betting. But the proposed legislation hasn't reached the House of Commons.  A lot of eyeballs  Betway ads were on display again during Friday's Game 6 of the Stanley Cup final in Edmonton.  Their recurrence of the advertising will presumably get in front of a lot of eyeballs: the NHL said 8.5 million viewers in North America tuned in for Game 5.  Yet whatever the audience exposure, Matheson says he suspects Betway would have preferred to see a different Western Conference team, other than the Oilers, in the Stanley Cup final — like the Colorado Avalanche, a team that plays in a U.S. state where the Betway brand is a legal option.",
         "https://www.cbc.ca/news/canada/betway-edmonton-arena-stanley-cup-1.7241781",
         "https://www.cbc.ca/news/canada/betway-edmonton-arena-stanley-cup-1.7241781",
         "https://www.cbc.ca",
         "A hockey game is in progress with players from the New York Islanders and the Edmonton Oilers in action. The New York Islanders player, number 11, is in the foreground, holding a hockey stick and appears to be in the midst of a play. The Edmonton Oilers player, number 7, is also visible, wearing a white jersey and holding a hockey stick. The background shows a packed arena with spectators, and the ice surface is marked with the logos of sponsors such as Scotiabank and App.",
         "Likely",
         "Unlikely",
         "CBC.ca",
         "Albertans can't legally gamble with Betway. So why is it advertising at Oilers games? - CBC.ca",
         "2024-06-21 21:18:00+00:00",
         "{'bytes': None, 'path': '/projects/NMB-Plus/raw-data/whitelist_may_june_2024/images/a0ba0e377b.jpeg'}",
         "When following the Edmonton Oilers' playoff run so far, you may have seen ads for Betway on display.\n\nBecause during Edmonton-hosted games of the Stanley Cup final, an advertisement for Betway.net has appeared on the boards — and in the ice — of the Rogers Place arena.\n\nBetway is an online betting brand that operates in various countries across the globe. And it's also a brand that is part of Ontario's regulated online gambling market.\n\nBut it's not a legal option for Albertans, as the province has only one legal regulated site for sports betting: Play Alberta.\n\nTo sports-gambling expert Victor Matheson, he says it seems Betway likely has a play in mind that involves getting its name out there while avoiding the direct promotion of an out-of-market betting service in Alberta.\n\n\"Betway has made a bet on the NHL and the Stanley Cup,\" said Matheson.\n\nA Betway site without betting\n\nBetway has a partnership with the NHL that grants it branding rights during the regular season and through to the Stanley Cup.\n\nBut the company told CBC News the advertising seen in Edmonton during the finals is for its \"global website,\" which doesn't feature gambling content.\n\nThe Betway.net site provides information about sports, including recent scores from events around the globe — including NHL playoffs.\n\nMatheson said it seems the promotion of this site must provide a legal path for having this advertising in place in this manner.\n\n\"I kind of find that amusingly clever, I guess,\" said Matheson, an economics professor at the College of the Holy Cross in Worcester, Mass.\n\nThe province's legal betting site has also had its logo displayed on the boards in Edmonton during the finals.\n\nKarin Campbell, the manager of communications for Alberta Gaming, Liquor and Cannabis (AGLC) said that Play Alberta and Oilers have a partnership of their own.\n\nCampbell reiterated that Play Alberta is the province's only legal site for sports betting.\n\nBut will Albertans watching these games understand that Betway is not a brand for them to use?\n\n'A sports information site'\n\nBrandon Aboultaif, the press secretary for Service Alberta minister Dale McNally, said Albertans know that Play Alberta is the site to use and the AGLC works to reinforce that message.\n\nEchoing a point made by Betway, Aboultaif said the company's ads on display in Edmonton point to \"a sports information site,\" rather than a betting site.\n\nBoth Aboultaif and AGLC suggested contacting the Canadian Radio-television and Telecommunications Commission (CRTC) about the issue — though the regulator denied having jurisdiction over such advertising.\n\n\"The CRTC does not regulate gambling organizations,\" the regulator told CBC News in an emailed statement.\n\n\"Additionally, the CRTC does not regulate the content of advertisements, except for advertising to children and alcohol ads.\"\n\nYet Aboultaif further said if there are \"complaints or concerns\" over the CRTC's \"current regulations,\" those should be raised with the regulator and the federal government.\n\nIn Ottawa, a senator has put forward a bill to establish a national framework for regulating the advertising of sports betting. But the proposed legislation hasn't reached the House of Commons.\n\nA lot of eyeballs\n\nBetway ads were on display again during Friday's Game 6 of the Stanley Cup final in Edmonton.\n\nTheir recurrence of the advertising will presumably get in front of a lot of eyeballs: the NHL said 8.5 million viewers in North America tuned in for Game 5.\n\nYet whatever the audience exposure, Matheson says he suspects Betway would have preferred to see a different Western Conference team, other than the Oilers, in the Stanley Cup final — like the Colorado Avalanche, a team that plays in a U.S. state where the Betway brand is a legal option.",
         "https://www.cbc.ca",
         "https://www.cbc.ca/news/canada/betway-edmonton-arena-stanley-cup-1.7241781",
         "['Politics' 'Sports']",
         "[0.85 0.8 ]",
         "Likely",
         "Unlikely",
         "A hockey game is in progress with players from the New York Islanders and the Edmonton Oilers in action. The New York Islanders player, number 11, is in the foreground, holding a hockey stick and appears to be in the midst of a play. The Edmonton Oilers player, number 7, is also visible, wearing a white jersey and holding a hockey stick. The background shows a packed arena with spectators, and the ice surface is marked with the logos of sponsors such as Scotiabank and App.",
         "a0ba0e377b.jpeg",
         "C:\\Users\\ritik\\Downloads\\images\\images\\a0ba0e377b.jpeg"
        ]
       ],
       "shape": {
        "columns": 25,
        "rows": 5
       }
      },
      "text/html": [
       "<div>\n",
       "<style scoped>\n",
       "    .dataframe tbody tr th:only-of-type {\n",
       "        vertical-align: middle;\n",
       "    }\n",
       "\n",
       "    .dataframe tbody tr th {\n",
       "        vertical-align: top;\n",
       "    }\n",
       "\n",
       "    .dataframe thead th {\n",
       "        text-align: right;\n",
       "    }\n",
       "</style>\n",
       "<table border=\"1\" class=\"dataframe\">\n",
       "  <thead>\n",
       "    <tr style=\"text-align: right;\">\n",
       "      <th></th>\n",
       "      <th>unique_id</th>\n",
       "      <th>outlet_x</th>\n",
       "      <th>title</th>\n",
       "      <th>date_published_x</th>\n",
       "      <th>content</th>\n",
       "      <th>article_url</th>\n",
       "      <th>canonical_link_x</th>\n",
       "      <th>source_url_x</th>\n",
       "      <th>image_description_x</th>\n",
       "      <th>text_label_x</th>\n",
       "      <th>...</th>\n",
       "      <th>article_text</th>\n",
       "      <th>source_url_y</th>\n",
       "      <th>canonical_link_y</th>\n",
       "      <th>new_categories</th>\n",
       "      <th>news_categories_confidence_scores</th>\n",
       "      <th>text_label_y</th>\n",
       "      <th>multimodal_label_y</th>\n",
       "      <th>image_description_y</th>\n",
       "      <th>image_filename</th>\n",
       "      <th>image_path</th>\n",
       "    </tr>\n",
       "  </thead>\n",
       "  <tbody>\n",
       "    <tr>\n",
       "      <th>0</th>\n",
       "      <td>39e6104d56</td>\n",
       "      <td>CBC.ca</td>\n",
       "      <td>Tij Iginla embraces family name, eager to foll...</td>\n",
       "      <td>2024-06-24 14:48:00+00:00</td>\n",
       "      <td>Tij Iginla doesn't shy away from his famous la...</td>\n",
       "      <td>https://www.cbc.ca/news/canada/calgary/tij-igi...</td>\n",
       "      <td>https://www.cbc.ca/news/canada/calgary/tij-igi...</td>\n",
       "      <td>https://www.cbc.ca</td>\n",
       "      <td>A man with a bald head and a black suit is smi...</td>\n",
       "      <td>Likely</td>\n",
       "      <td>...</td>\n",
       "      <td>Tij Iginla doesn't shy away from his famous la...</td>\n",
       "      <td>https://www.cbc.ca</td>\n",
       "      <td>https://www.cbc.ca/news/canada/calgary/tij-igi...</td>\n",
       "      <td>['Sports' 'National']</td>\n",
       "      <td>[0.95 0.7 ]</td>\n",
       "      <td>Likely</td>\n",
       "      <td>Unlikely</td>\n",
       "      <td>A man with a bald head and a black suit is smi...</td>\n",
       "      <td>39e6104d56.jpeg</td>\n",
       "      <td>C:\\Users\\ritik\\Downloads\\images\\images\\39e6104...</td>\n",
       "    </tr>\n",
       "    <tr>\n",
       "      <th>1</th>\n",
       "      <td>8b320e107e</td>\n",
       "      <td>CBC News</td>\n",
       "      <td>Conservative MP shares inaccurate, ChatGPT-gen...</td>\n",
       "      <td>2024-06-24 18:01:00+00:00</td>\n",
       "      <td>An Ontario Conservative MP's use of ChatGPT to...</td>\n",
       "      <td>https://www.cbc.ca/news/politics/conservative-...</td>\n",
       "      <td>https://www.cbc.ca/news/politics/conservative-...</td>\n",
       "      <td>https://www.cbc.ca</td>\n",
       "      <td>A man in a blue suit stands in a room with yel...</td>\n",
       "      <td>Likely</td>\n",
       "      <td>...</td>\n",
       "      <td>An Ontario Conservative MP's use of ChatGPT to...</td>\n",
       "      <td>https://www.cbc.ca</td>\n",
       "      <td>https://www.cbc.ca/news/politics/conservative-...</td>\n",
       "      <td>['Politics' 'Business and Finance']</td>\n",
       "      <td>[0.85 0.75]</td>\n",
       "      <td>Likely</td>\n",
       "      <td>Likely</td>\n",
       "      <td>A man in a blue suit stands in a room with yel...</td>\n",
       "      <td>8b320e107e.jpeg</td>\n",
       "      <td>C:\\Users\\ritik\\Downloads\\images\\images\\8b320e1...</td>\n",
       "    </tr>\n",
       "    <tr>\n",
       "      <th>2</th>\n",
       "      <td>7536f87654</td>\n",
       "      <td>CBC.ca</td>\n",
       "      <td>Women's sports are more popular than ever, but...</td>\n",
       "      <td>2024-06-22 08:00:00+00:00</td>\n",
       "      <td>When it comes to the study of sports, a man's ...</td>\n",
       "      <td>https://www.cbc.ca/news/canada/montreal/womens...</td>\n",
       "      <td>https://www.cbc.ca/news/canada/montreal/womens...</td>\n",
       "      <td>https://www.cbc.ca</td>\n",
       "      <td>Two hockey players in action on the ice, one i...</td>\n",
       "      <td>Unlikely</td>\n",
       "      <td>...</td>\n",
       "      <td>When it comes to the study of sports, a man's ...</td>\n",
       "      <td>https://www.cbc.ca</td>\n",
       "      <td>https://www.cbc.ca/news/canada/montreal/womens...</td>\n",
       "      <td>['Sports' 'Health']</td>\n",
       "      <td>[0.85 0.75]</td>\n",
       "      <td>Unlikely</td>\n",
       "      <td>Unlikely</td>\n",
       "      <td>Two hockey players in action on the ice, one i...</td>\n",
       "      <td>7536f87654.jpeg</td>\n",
       "      <td>C:\\Users\\ritik\\Downloads\\images\\images\\7536f87...</td>\n",
       "    </tr>\n",
       "    <tr>\n",
       "      <th>3</th>\n",
       "      <td>c829d1f9a8</td>\n",
       "      <td>CBC.ca</td>\n",
       "      <td>June 22: Listener Question Show - CBC.ca</td>\n",
       "      <td>2024-06-21 18:20:00+00:00</td>\n",
       "      <td>To wrap up the 48th season of Quirks &amp; Quarks,...</td>\n",
       "      <td>https://www.cbc.ca/radio/quirks/quirks-quarks-...</td>\n",
       "      <td>https://www.cbc.ca/radio/quirks/quirks-quarks-...</td>\n",
       "      <td>https://www.cbc.ca</td>\n",
       "      <td>A man with a thoughtful expression stands in f...</td>\n",
       "      <td>Likely</td>\n",
       "      <td>...</td>\n",
       "      <td>To wrap up the 48th season of Quirks &amp; Quarks,...</td>\n",
       "      <td>https://www.cbc.ca</td>\n",
       "      <td>https://www.cbc.ca/radio/quirks/quirks-quarks-...</td>\n",
       "      <td>['Science' 'Other']</td>\n",
       "      <td>[0.9 0.7]</td>\n",
       "      <td>Likely</td>\n",
       "      <td>Unlikely</td>\n",
       "      <td>A man with a thoughtful expression stands in f...</td>\n",
       "      <td>c829d1f9a8.jpeg</td>\n",
       "      <td>C:\\Users\\ritik\\Downloads\\images\\images\\c829d1f...</td>\n",
       "    </tr>\n",
       "    <tr>\n",
       "      <th>4</th>\n",
       "      <td>a0ba0e377b</td>\n",
       "      <td>CBC.ca</td>\n",
       "      <td>Albertans can't legally gamble with Betway. So...</td>\n",
       "      <td>2024-06-21 21:18:00+00:00</td>\n",
       "      <td>When following the Edmonton Oilers' playoff ru...</td>\n",
       "      <td>https://www.cbc.ca/news/canada/betway-edmonton...</td>\n",
       "      <td>https://www.cbc.ca/news/canada/betway-edmonton...</td>\n",
       "      <td>https://www.cbc.ca</td>\n",
       "      <td>A hockey game is in progress with players from...</td>\n",
       "      <td>Likely</td>\n",
       "      <td>...</td>\n",
       "      <td>When following the Edmonton Oilers' playoff ru...</td>\n",
       "      <td>https://www.cbc.ca</td>\n",
       "      <td>https://www.cbc.ca/news/canada/betway-edmonton...</td>\n",
       "      <td>['Politics' 'Sports']</td>\n",
       "      <td>[0.85 0.8 ]</td>\n",
       "      <td>Likely</td>\n",
       "      <td>Unlikely</td>\n",
       "      <td>A hockey game is in progress with players from...</td>\n",
       "      <td>a0ba0e377b.jpeg</td>\n",
       "      <td>C:\\Users\\ritik\\Downloads\\images\\images\\a0ba0e3...</td>\n",
       "    </tr>\n",
       "  </tbody>\n",
       "</table>\n",
       "<p>5 rows × 25 columns</p>\n",
       "</div>"
      ],
      "text/plain": [
       "    unique_id  outlet_x                                              title  \\\n",
       "0  39e6104d56    CBC.ca  Tij Iginla embraces family name, eager to foll...   \n",
       "1  8b320e107e  CBC News  Conservative MP shares inaccurate, ChatGPT-gen...   \n",
       "2  7536f87654    CBC.ca  Women's sports are more popular than ever, but...   \n",
       "3  c829d1f9a8    CBC.ca           June 22: Listener Question Show - CBC.ca   \n",
       "4  a0ba0e377b    CBC.ca  Albertans can't legally gamble with Betway. So...   \n",
       "\n",
       "            date_published_x  \\\n",
       "0  2024-06-24 14:48:00+00:00   \n",
       "1  2024-06-24 18:01:00+00:00   \n",
       "2  2024-06-22 08:00:00+00:00   \n",
       "3  2024-06-21 18:20:00+00:00   \n",
       "4  2024-06-21 21:18:00+00:00   \n",
       "\n",
       "                                             content  \\\n",
       "0  Tij Iginla doesn't shy away from his famous la...   \n",
       "1  An Ontario Conservative MP's use of ChatGPT to...   \n",
       "2  When it comes to the study of sports, a man's ...   \n",
       "3  To wrap up the 48th season of Quirks & Quarks,...   \n",
       "4  When following the Edmonton Oilers' playoff ru...   \n",
       "\n",
       "                                         article_url  \\\n",
       "0  https://www.cbc.ca/news/canada/calgary/tij-igi...   \n",
       "1  https://www.cbc.ca/news/politics/conservative-...   \n",
       "2  https://www.cbc.ca/news/canada/montreal/womens...   \n",
       "3  https://www.cbc.ca/radio/quirks/quirks-quarks-...   \n",
       "4  https://www.cbc.ca/news/canada/betway-edmonton...   \n",
       "\n",
       "                                    canonical_link_x        source_url_x  \\\n",
       "0  https://www.cbc.ca/news/canada/calgary/tij-igi...  https://www.cbc.ca   \n",
       "1  https://www.cbc.ca/news/politics/conservative-...  https://www.cbc.ca   \n",
       "2  https://www.cbc.ca/news/canada/montreal/womens...  https://www.cbc.ca   \n",
       "3  https://www.cbc.ca/radio/quirks/quirks-quarks-...  https://www.cbc.ca   \n",
       "4  https://www.cbc.ca/news/canada/betway-edmonton...  https://www.cbc.ca   \n",
       "\n",
       "                                 image_description_x text_label_x  ...  \\\n",
       "0  A man with a bald head and a black suit is smi...       Likely  ...   \n",
       "1  A man in a blue suit stands in a room with yel...       Likely  ...   \n",
       "2  Two hockey players in action on the ice, one i...     Unlikely  ...   \n",
       "3  A man with a thoughtful expression stands in f...       Likely  ...   \n",
       "4  A hockey game is in progress with players from...       Likely  ...   \n",
       "\n",
       "                                        article_text        source_url_y  \\\n",
       "0  Tij Iginla doesn't shy away from his famous la...  https://www.cbc.ca   \n",
       "1  An Ontario Conservative MP's use of ChatGPT to...  https://www.cbc.ca   \n",
       "2  When it comes to the study of sports, a man's ...  https://www.cbc.ca   \n",
       "3  To wrap up the 48th season of Quirks & Quarks,...  https://www.cbc.ca   \n",
       "4  When following the Edmonton Oilers' playoff ru...  https://www.cbc.ca   \n",
       "\n",
       "                                    canonical_link_y  \\\n",
       "0  https://www.cbc.ca/news/canada/calgary/tij-igi...   \n",
       "1  https://www.cbc.ca/news/politics/conservative-...   \n",
       "2  https://www.cbc.ca/news/canada/montreal/womens...   \n",
       "3  https://www.cbc.ca/radio/quirks/quirks-quarks-...   \n",
       "4  https://www.cbc.ca/news/canada/betway-edmonton...   \n",
       "\n",
       "                        new_categories news_categories_confidence_scores  \\\n",
       "0                ['Sports' 'National']                       [0.95 0.7 ]   \n",
       "1  ['Politics' 'Business and Finance']                       [0.85 0.75]   \n",
       "2                  ['Sports' 'Health']                       [0.85 0.75]   \n",
       "3                  ['Science' 'Other']                         [0.9 0.7]   \n",
       "4                ['Politics' 'Sports']                       [0.85 0.8 ]   \n",
       "\n",
       "  text_label_y multimodal_label_y  \\\n",
       "0       Likely           Unlikely   \n",
       "1       Likely             Likely   \n",
       "2     Unlikely           Unlikely   \n",
       "3       Likely           Unlikely   \n",
       "4       Likely           Unlikely   \n",
       "\n",
       "                                 image_description_y   image_filename  \\\n",
       "0  A man with a bald head and a black suit is smi...  39e6104d56.jpeg   \n",
       "1  A man in a blue suit stands in a room with yel...  8b320e107e.jpeg   \n",
       "2  Two hockey players in action on the ice, one i...  7536f87654.jpeg   \n",
       "3  A man with a thoughtful expression stands in f...  c829d1f9a8.jpeg   \n",
       "4  A hockey game is in progress with players from...  a0ba0e377b.jpeg   \n",
       "\n",
       "                                          image_path  \n",
       "0  C:\\Users\\ritik\\Downloads\\images\\images\\39e6104...  \n",
       "1  C:\\Users\\ritik\\Downloads\\images\\images\\8b320e1...  \n",
       "2  C:\\Users\\ritik\\Downloads\\images\\images\\7536f87...  \n",
       "3  C:\\Users\\ritik\\Downloads\\images\\images\\c829d1f...  \n",
       "4  C:\\Users\\ritik\\Downloads\\images\\images\\a0ba0e3...  \n",
       "\n",
       "[5 rows x 25 columns]"
      ]
     },
     "execution_count": 14,
     "metadata": {},
     "output_type": "execute_result"
    }
   ],
   "source": [
    "nbs.head()"
   ]
  },
  {
   "cell_type": "code",
   "execution_count": 15,
   "id": "e3d83956",
   "metadata": {},
   "outputs": [
    {
     "data": {
      "text/plain": [
       "Index(['unique_id', 'outlet_x', 'title', 'date_published_x', 'content',\n",
       "       'article_url', 'canonical_link_x', 'source_url_x',\n",
       "       'image_description_x', 'text_label_x', 'multimodal_label_x', 'outlet_y',\n",
       "       'headline', 'date_published_y', 'top_image', 'article_text',\n",
       "       'source_url_y', 'canonical_link_y', 'new_categories',\n",
       "       'news_categories_confidence_scores', 'text_label_y',\n",
       "       'multimodal_label_y', 'image_description_y', 'image_filename',\n",
       "       'image_path'],\n",
       "      dtype='object')"
      ]
     },
     "execution_count": 15,
     "metadata": {},
     "output_type": "execute_result"
    }
   ],
   "source": [
    "nbs.columns"
   ]
  },
  {
   "cell_type": "code",
   "execution_count": 16,
   "id": "d7115f11",
   "metadata": {},
   "outputs": [
    {
     "data": {
      "application/vnd.microsoft.datawrangler.viewer.v0+json": {
       "columns": [
        {
         "name": "index",
         "rawType": "object",
         "type": "string"
        },
        {
         "name": "0",
         "rawType": "object",
         "type": "unknown"
        }
       ],
       "ref": "739f44e2-128a-4898-88ed-a5eb8f991bc8",
       "rows": [
        [
         "unique_id",
         "object"
        ],
        [
         "outlet_x",
         "object"
        ],
        [
         "title",
         "object"
        ],
        [
         "date_published_x",
         "object"
        ],
        [
         "content",
         "object"
        ],
        [
         "article_url",
         "object"
        ],
        [
         "canonical_link_x",
         "object"
        ],
        [
         "source_url_x",
         "object"
        ],
        [
         "image_description_x",
         "object"
        ],
        [
         "text_label_x",
         "object"
        ],
        [
         "multimodal_label_x",
         "object"
        ],
        [
         "outlet_y",
         "object"
        ],
        [
         "headline",
         "object"
        ],
        [
         "date_published_y",
         "object"
        ],
        [
         "top_image",
         "object"
        ],
        [
         "article_text",
         "object"
        ],
        [
         "source_url_y",
         "object"
        ],
        [
         "canonical_link_y",
         "object"
        ],
        [
         "new_categories",
         "object"
        ],
        [
         "news_categories_confidence_scores",
         "object"
        ],
        [
         "text_label_y",
         "object"
        ],
        [
         "multimodal_label_y",
         "object"
        ],
        [
         "image_description_y",
         "object"
        ],
        [
         "image_filename",
         "object"
        ],
        [
         "image_path",
         "object"
        ]
       ],
       "shape": {
        "columns": 1,
        "rows": 25
       }
      },
      "text/plain": [
       "unique_id                            object\n",
       "outlet_x                             object\n",
       "title                                object\n",
       "date_published_x                     object\n",
       "content                              object\n",
       "article_url                          object\n",
       "canonical_link_x                     object\n",
       "source_url_x                         object\n",
       "image_description_x                  object\n",
       "text_label_x                         object\n",
       "multimodal_label_x                   object\n",
       "outlet_y                             object\n",
       "headline                             object\n",
       "date_published_y                     object\n",
       "top_image                            object\n",
       "article_text                         object\n",
       "source_url_y                         object\n",
       "canonical_link_y                     object\n",
       "new_categories                       object\n",
       "news_categories_confidence_scores    object\n",
       "text_label_y                         object\n",
       "multimodal_label_y                   object\n",
       "image_description_y                  object\n",
       "image_filename                       object\n",
       "image_path                           object\n",
       "dtype: object"
      ]
     },
     "execution_count": 16,
     "metadata": {},
     "output_type": "execute_result"
    }
   ],
   "source": [
    "nbs.dtypes"
   ]
  },
  {
   "cell_type": "code",
   "execution_count": 17,
   "id": "1e449af3",
   "metadata": {},
   "outputs": [
    {
     "data": {
      "text/plain": [
       "array(['Unlikely', 'Likely'], dtype=object)"
      ]
     },
     "execution_count": 17,
     "metadata": {},
     "output_type": "execute_result"
    }
   ],
   "source": [
    "nbs['multimodal_label_x'].unique()"
   ]
  },
  {
   "cell_type": "code",
   "execution_count": 18,
   "id": "64604f83",
   "metadata": {},
   "outputs": [
    {
     "data": {
      "text/plain": [
       "array(['Likely', 'Unlikely'], dtype=object)"
      ]
     },
     "execution_count": 18,
     "metadata": {},
     "output_type": "execute_result"
    }
   ],
   "source": [
    "nbs['text_label_x'].unique()"
   ]
  },
  {
   "cell_type": "code",
   "execution_count": 19,
   "id": "e8358e1c",
   "metadata": {},
   "outputs": [
    {
     "data": {
      "text/plain": [
       "array(['Likely', 'Unlikely'], dtype=object)"
      ]
     },
     "execution_count": 19,
     "metadata": {},
     "output_type": "execute_result"
    }
   ],
   "source": [
    "nbs['text_label_y'].unique()"
   ]
  },
  {
   "cell_type": "code",
   "execution_count": 20,
   "id": "0d5cfc35",
   "metadata": {},
   "outputs": [
    {
     "data": {
      "application/vnd.microsoft.datawrangler.viewer.v0+json": {
       "columns": [
        {
         "name": "index",
         "rawType": "int64",
         "type": "integer"
        },
        {
         "name": "unique_id",
         "rawType": "object",
         "type": "string"
        },
        {
         "name": "outlet_x",
         "rawType": "object",
         "type": "string"
        },
        {
         "name": "title",
         "rawType": "object",
         "type": "string"
        },
        {
         "name": "date_published_x",
         "rawType": "object",
         "type": "string"
        },
        {
         "name": "content",
         "rawType": "object",
         "type": "string"
        },
        {
         "name": "article_url",
         "rawType": "object",
         "type": "string"
        },
        {
         "name": "canonical_link_x",
         "rawType": "object",
         "type": "string"
        },
        {
         "name": "source_url_x",
         "rawType": "object",
         "type": "string"
        },
        {
         "name": "image_description_x",
         "rawType": "object",
         "type": "string"
        },
        {
         "name": "text_label_x",
         "rawType": "object",
         "type": "string"
        },
        {
         "name": "multimodal_label_x",
         "rawType": "object",
         "type": "string"
        },
        {
         "name": "outlet_y",
         "rawType": "object",
         "type": "string"
        },
        {
         "name": "headline",
         "rawType": "object",
         "type": "string"
        },
        {
         "name": "date_published_y",
         "rawType": "object",
         "type": "string"
        },
        {
         "name": "top_image",
         "rawType": "object",
         "type": "string"
        },
        {
         "name": "article_text",
         "rawType": "object",
         "type": "string"
        },
        {
         "name": "source_url_y",
         "rawType": "object",
         "type": "string"
        },
        {
         "name": "canonical_link_y",
         "rawType": "object",
         "type": "string"
        },
        {
         "name": "new_categories",
         "rawType": "object",
         "type": "string"
        },
        {
         "name": "news_categories_confidence_scores",
         "rawType": "object",
         "type": "string"
        },
        {
         "name": "text_label_y",
         "rawType": "object",
         "type": "string"
        },
        {
         "name": "multimodal_label_y",
         "rawType": "object",
         "type": "string"
        },
        {
         "name": "image_description_y",
         "rawType": "object",
         "type": "string"
        },
        {
         "name": "image_filename",
         "rawType": "object",
         "type": "string"
        },
        {
         "name": "image_path",
         "rawType": "object",
         "type": "string"
        }
       ],
       "ref": "b65b99aa-dc6a-4eab-9f1a-79c376657c33",
       "rows": [
        [
         "0",
         "39e6104d56",
         "CBC.ca",
         "Tij Iginla embraces family name, eager to follow his Hall of Fame dad's footsteps entering NHL draft - CBC.ca",
         "2024-06-24 14:48:00+00:00",
         "Tij Iginla doesn't shy away from his famous last name, instead embracing the expectations that come with being the son of a Hockey Hall of Famer.  The 17-year-old is so comfortable being Jarome Iginla's son, he welcomes the possibility of following his father's footsteps should he be selected by the Calgary Flames in the NHL draft this weekend in Las Vegas.  \"I think there might be a little extra attention and expectations and pressure. But for me, having my dad and having my family, the pros heavily outweigh the cons,\" Iginla said earlier this month.  \"Obviously, if I was to go to Calgary, that would be kind of magnified,\" he added. \"I mean, I'd be thrilled to go anywhere. But I think it would be cool to play in a Canadian market where the fans have as much passion as they do.\"  Jarome Iginla spent 15-plus of his 20 NHL seasons being the face of the Flames after being traded to Calgary by Dallas six months after the Stars selected him with the 11th pick in the 1995 draft.  2023 | Hall of Famer Jarome Iginla returns to Flames as special adviser to GM  2020 | Jarome Iginla inducted into Hockey Hall of Fame  The intrigue of another Iginla landing in Calgary has become a topic of discussion after the 6-foot, 182-pound forward significantly boosted his draft stock. His 47 goals in 64 games for the Kelowna Rockets ranked sixth among Western Hockey League players and he finished 22nd overall with 84 points; it was a 41-goal and 66-point improvement from his rookie season.  The Flames currently hold the ninth pick, and Iginla just happens to be NHL Central Scouting's ninth-ranked North American skater, though his overall ranking drops outside of the top 10 when adding in European skaters.  Jarome Iginla, now a Flames adviser recently told Sportsnet.com he has no input in the team's plans.  More family ties  Tij Iginla heads the list of prospects with direct NHL ties expected to be selected this weekend. Among the notables are Finland's Aatos Koivu, the son of former Canadiens captain Saku Koivu, who also played for Anaheim.  There's also Lukas Fischer, whose father Jiri won a Stanley Cup championship with Detroit, and Noah Lapointe, whose dad Martin won two titles with the Red Wings. Max Plante is the son of former NHL player Derek, and then there's Miroslav Satan Jr., whose father of the same name played more than 1,000 NHL games.  \"Maybe take a couple of advices from him, but just kind of do my own thing,\" the 18-year-old Koivu said, when asked about his father who is an adviser for his son's Finnish League team, TPS. \"Maybe sometimes it might actually motivate me a bit because he played. So I kind of just want to show people that I can play as well, and I can be a good player myself.\"  CBC Archives | When Jarome Iginla led the NHL in scoring  It's all about family for Iginla, who spent his first WHL season in Seattle before being traded last summer to Kelowna, where he got to stay with his younger brother, Joe, at one of his parent's offseason homes. The return to familiar surroundings benefited Iginla after he struggled as a rookie finding a niche on a veteran-laden Seattle team.  \"It was the first time in my life where I was getting healthy-scratched,\" said Iginla of being limited to playing just 48 regular-season and three playoff games for the eventual WHL champions.  \"I just tried to use it as fuel and motivation as much as I could,\" he added. \"Going through that adversity, I think it helped me to build a lot of grit.\"  Answering questions  Rockets coach Kris Mallette was impressed by how Iginla responded to adversity while being open to constructive criticism and improving his game. Mallette said he would often relay to Iginla conversations he had with NHL scouts on what they perceived being the player's deficiencies.  Some said he was too individualistic. Others questioned his lack of physical play. One by one, Iginla checked off lingering questions.  \"That showed the NHL scouts that, OK, here's a player that's very coachable,\" Mallette said. \"Did he like it? Probably not. But he took it upon himself to continue to work on it and trust the process and see the results because of it.\"  Central Scouting chief Dan Marr referred to Iginla as \"a complete package.\"  \"He's an exciting player. He's got speed, quickness and skills. And he can finish,\" Marr said. \"This is not a kid who plays off his name.\"  Iginla draws upon the experiences of growing up around the NHL. He recalled sitting at the \"kiddie table\" when his dad invited Avalanche teammate Nathan MacKinnon for Thanksgiving, and meeting Sidney Crosby, after his father was traded to Pittsburgh in 2013.  \"From an outside perspective, it might seem like there's more pressure, more expectations,\" Tij Iginla said. \"But for me, my motivation comes from within. I want to succeed because it's what I want to do, and my dream.\"",
         "https://www.cbc.ca/news/canada/calgary/tij-iginla-embraces-family-name-eager-to-follow-his-hall-of-fame-dad-s-footsteps-entering-nhl-draft-1.7244491",
         "https://www.cbc.ca/news/canada/calgary/tij-iginla-embraces-family-name-eager-to-follow-his-hall-of-fame-dad-s-footsteps-entering-nhl-draft-1.7244491",
         "https://www.cbc.ca",
         "A man with a bald head and a black suit is smiling, and a young man with curly hair is wearing a black jacket and a gold chain.",
         "Likely",
         "Unlikely",
         "CBC.ca",
         "Tij Iginla embraces family name, eager to follow his Hall of Fame dad's footsteps entering NHL draft - CBC.ca",
         "2024-06-24 14:48:00+00:00",
         "{'bytes': None, 'path': '/projects/NMB-Plus/raw-data/whitelist_may_june_2024/images/39e6104d56.jpeg'}",
         "Tij Iginla doesn't shy away from his famous last name, instead embracing the expectations that come with being the son of a Hockey Hall of Famer.\n\nThe 17-year-old is so comfortable being Jarome Iginla's son, he welcomes the possibility of following his father's footsteps should he be selected by the Calgary Flames in the NHL draft this weekend in Las Vegas.\n\n\"I think there might be a little extra attention and expectations and pressure. But for me, having my dad and having my family, the pros heavily outweigh the cons,\" Iginla said earlier this month.\n\n\"Obviously, if I was to go to Calgary, that would be kind of magnified,\" he added. \"I mean, I'd be thrilled to go anywhere. But I think it would be cool to play in a Canadian market where the fans have as much passion as they do.\"\n\nJarome Iginla spent 15-plus of his 20 NHL seasons being the face of the Flames after being traded to Calgary by Dallas six months after the Stars selected him with the 11th pick in the 1995 draft.\n\n2023 | Hall of Famer Jarome Iginla returns to Flames as special adviser to GM\n\n2020 | Jarome Iginla inducted into Hockey Hall of Fame\n\nThe intrigue of another Iginla landing in Calgary has become a topic of discussion after the 6-foot, 182-pound forward significantly boosted his draft stock. His 47 goals in 64 games for the Kelowna Rockets ranked sixth among Western Hockey League players and he finished 22nd overall with 84 points; it was a 41-goal and 66-point improvement from his rookie season.\n\nThe Flames currently hold the ninth pick, and Iginla just happens to be NHL Central Scouting's ninth-ranked North American skater, though his overall ranking drops outside of the top 10 when adding in European skaters.\n\nJarome Iginla, now a Flames adviser recently told Sportsnet.com he has no input in the team's plans.\n\nMore family ties\n\nTij Iginla heads the list of prospects with direct NHL ties expected to be selected this weekend. Among the notables are Finland's Aatos Koivu, the son of former Canadiens captain Saku Koivu, who also played for Anaheim.\n\nThere's also Lukas Fischer, whose father Jiri won a Stanley Cup championship with Detroit, and Noah Lapointe, whose dad Martin won two titles with the Red Wings. Max Plante is the son of former NHL player Derek, and then there's Miroslav Satan Jr., whose father of the same name played more than 1,000 NHL games.\n\n\"Maybe take a couple of advices from him, but just kind of do my own thing,\" the 18-year-old Koivu said, when asked about his father who is an adviser for his son's Finnish League team, TPS. \"Maybe sometimes it might actually motivate me a bit because he played. So I kind of just want to show people that I can play as well, and I can be a good player myself.\"\n\nCBC Archives | When Jarome Iginla led the NHL in scoring\n\nIt's all about family for Iginla, who spent his first WHL season in Seattle before being traded last summer to Kelowna, where he got to stay with his younger brother, Joe, at one of his parent's offseason homes. The return to familiar surroundings benefited Iginla after he struggled as a rookie finding a niche on a veteran-laden Seattle team.\n\n\"It was the first time in my life where I was getting healthy-scratched,\" said Iginla of being limited to playing just 48 regular-season and three playoff games for the eventual WHL champions.\n\n\"I just tried to use it as fuel and motivation as much as I could,\" he added. \"Going through that adversity, I think it helped me to build a lot of grit.\"\n\nAnswering questions\n\nRockets coach Kris Mallette was impressed by how Iginla responded to adversity while being open to constructive criticism and improving his game. Mallette said he would often relay to Iginla conversations he had with NHL scouts on what they perceived being the player's deficiencies.\n\nSome said he was too individualistic. Others questioned his lack of physical play. One by one, Iginla checked off lingering questions.\n\n\"That showed the NHL scouts that, OK, here's a player that's very coachable,\" Mallette said. \"Did he like it? Probably not. But he took it upon himself to continue to work on it and trust the process and see the results because of it.\"\n\nCentral Scouting chief Dan Marr referred to Iginla as \"a complete package.\"\n\n\"He's an exciting player. He's got speed, quickness and skills. And he can finish,\" Marr said. \"This is not a kid who plays off his name.\"\n\nIginla draws upon the experiences of growing up around the NHL. He recalled sitting at the \"kiddie table\" when his dad invited Avalanche teammate Nathan MacKinnon for Thanksgiving, and meeting Sidney Crosby, after his father was traded to Pittsburgh in 2013.\n\n\"From an outside perspective, it might seem like there's more pressure, more expectations,\" Tij Iginla said. \"But for me, my motivation comes from within. I want to succeed because it's what I want to do, and my dream.\"",
         "https://www.cbc.ca",
         "https://www.cbc.ca/news/canada/calgary/tij-iginla-embraces-family-name-eager-to-follow-his-hall-of-fame-dad-s-footsteps-entering-nhl-draft-1.7244491",
         "['Sports' 'National']",
         "[0.95 0.7 ]",
         "Likely",
         "Unlikely",
         "A man with a bald head and a black suit is smiling, and a young man with curly hair is wearing a black jacket and a gold chain.",
         "39e6104d56.jpeg",
         "C:\\Users\\ritik\\Downloads\\images\\images\\39e6104d56.jpeg"
        ],
        [
         "1",
         "8b320e107e",
         "CBC News",
         "Conservative MP shares inaccurate, ChatGPT-generated stats on capital gains tax rate - CBC News",
         "2024-06-24 18:01:00+00:00",
         "An Ontario Conservative MP's use of ChatGPT to share incorrect information online about Canada's capital gains tax rate offers a cautionary tale to politicians looking to use AI to generate messages, one expert says.  MP Ryan Williams posted last week on X (formerly known as Twitter) an AI-generated ranking of G7 countries and their capital gains tax rates.  The list appeared to have been generated by ChatGPT — an artificial intelligence-based virtual assistant — and falsely listed Canada's capital gains tax rate as 66.7 per cent. The ChatGPT logo was shown in the screenshot Williams posted. The post has since been deleted.  The Liberal government's increase to the capital gains inclusion rate — the amount of capital gains that are considered taxable income — has become a new point of attack for the Conservatives since the party voted against the change earlier this month. Conservative Leader Pierre Poilievre posted a nearly 16-minute online video about the change.  But the capital gains inclusion rate and tax rate are two different things. The inclusion rate is the portion of the capital gain subject to tax; capital gains tax rates themselves vary depending on income.  A capital gain is the difference between an asset's cost and its total sale price. That asset could be a cottage, an investment property, a stock or a mutual fund. In Canada, primary residences are not included under the capital gains tax.  The changes that take effect Tuesday will raise the inclusion rate for individuals from 50 per cent to 66.7 per cent for capital gains above $250,000. For the first $250,000 in capital gains, only $125,000 is taxable. Two-thirds of every dollar beyond $250,000 will be taxable. Federal income tax rates are then applied to those amounts.  For corporations, there will be no $250,000 threshold. Two-thirds of all capital gains earned by corporations and trusts will be taxable.  ChatGPT, a powerful chatbot that can generate information instantly and carry on human-like conversations, has revolutionized the way people use AI.  Users also have found that it makes factual mistakes and even struggles with simple math problems.  The capital gains tax rates for other G7 countries also appear to be slightly off in William's post.  It lists France's rate as 34 per cent. That country's rate is 30 per cent, with an additional four per cent for higher income earners, according to PricewaterhouseCoopers. William's post also lists the U.S. rate as 23.8 per cent, but it's actually 20 per cent federally.  CBC News reached out to the Conservative MP for comment but did not receive a response.  Fenwick McKelvey, a professor of information and communication technology at Concordia University, said William's post shows the pressure politicians are under to put out content that promotes their message.  \"You turn to ChatGPT to speed up some of your content production. The problem with ChatGPT, as we all know, is that you don't know the results, they don't know how accurate it is and there's no fact-checking,\" he told CBC News.  The impact of AI on politics and election campaigns is becoming a pressing topic of discussion in Canada and the U.S.  Caroline Xavier, head of the Communications Security Establishment (CSE) — Canada's cyber intelligence agency — has told CBC News that she's concerned the use of AI could amplify the spread of misinformation.  Earlier this year, a group of researchers at Columbia University tested how five large language models — including ChatGPT — responded to a set of prompts about primary contests in the U.S.  All five failed to varying degrees when asked to respond to basic questions about the American democratic process — such as where a voter could find the nearest polling place.  McKelvey said that while AI technology like ChatGPT could have some uses for politicians crafting messages, it needs to be better regulated.  \"We've really left all AI regulation to private companies like OpenAI, who are making up rules on the fly,\" he said.  OpenAI, the company that created ChatGPT, provides AI technology to tech companies like Apple and Microsoft. But in January, the company updated its policies and suggested it would restrict the use of its technology by political campaigns and lobbyists.  \"We're still working to understand how effective our tools might be for personalized persuasion. Until we know more, we don't allow people to build applications for political campaigning and lobbying,\" the company said in a media statement.  OpenAI said in May that it's updating ChatGPT to direct users to official sources for voter information.  Last year, federal and provincial privacy commissioners announced a joint investigation into whether ChatGPT was collecting and disclosing Canadians' personal information without consent.  McKelvey said discussions about AI technology need also to focus on its impact on the \"information ecosystem.\"  \"What it really is doing is contributing to a more systemic issue where Canada's had relatively high levels of trust comparatively in media systems and AI could be contributing to a decline in that trust,\" he said.  Without further regulation, McKelvey said, gaffes like Williams's post might be the only way to police AI-generated misinformation.  \"Politicians might think twice if their use of this technology gets them in hot water,\" he said.",
         "https://www.cbc.ca/news/politics/conservative-tweet-capital-gains-chatgpt-1.7244186",
         "https://www.cbc.ca/news/politics/conservative-tweet-capital-gains-chatgpt-1.7244186",
         "https://www.cbc.ca",
         "A man in a blue suit stands in a room with yellow curtains, gesturing with his right hand.",
         "Likely",
         "Likely",
         "CBC News",
         "Conservative MP shares inaccurate, ChatGPT-generated stats on capital gains tax rate - CBC News",
         "2024-06-24 18:01:00+00:00",
         "{'bytes': None, 'path': '/projects/NMB-Plus/raw-data/whitelist_may_june_2024/images/8b320e107e.jpeg'}",
         "An Ontario Conservative MP's use of ChatGPT to share incorrect information online about Canada's capital gains tax rate offers a cautionary tale to politicians looking to use AI to generate messages, one expert says.\n\nMP Ryan Williams posted last week on X (formerly known as Twitter) an AI-generated ranking of G7 countries and their capital gains tax rates.\n\nThe list appeared to have been generated by ChatGPT — an artificial intelligence-based virtual assistant — and falsely listed Canada's capital gains tax rate as 66.7 per cent. The ChatGPT logo was shown in the screenshot Williams posted. The post has since been deleted.\n\nThe Liberal government's increase to the capital gains inclusion rate — the amount of capital gains that are considered taxable income — has become a new point of attack for the Conservatives since the party voted against the change earlier this month. Conservative Leader Pierre Poilievre posted a nearly 16-minute online video about the change.\n\nBut the capital gains inclusion rate and tax rate are two different things. The inclusion rate is the portion of the capital gain subject to tax; capital gains tax rates themselves vary depending on income.\n\nA capital gain is the difference between an asset's cost and its total sale price. That asset could be a cottage, an investment property, a stock or a mutual fund. In Canada, primary residences are not included under the capital gains tax.\n\nThe changes that take effect Tuesday will raise the inclusion rate for individuals from 50 per cent to 66.7 per cent for capital gains above $250,000. For the first $250,000 in capital gains, only $125,000 is taxable. Two-thirds of every dollar beyond $250,000 will be taxable. Federal income tax rates are then applied to those amounts.\n\nFor corporations, there will be no $250,000 threshold. Two-thirds of all capital gains earned by corporations and trusts will be taxable.\n\nChatGPT, a powerful chatbot that can generate information instantly and carry on human-like conversations, has revolutionized the way people use AI.\n\nUsers also have found that it makes factual mistakes and even struggles with simple math problems.\n\nThe capital gains tax rates for other G7 countries also appear to be slightly off in William's post.\n\nIt lists France's rate as 34 per cent. That country's rate is 30 per cent, with an additional four per cent for higher income earners, according to PricewaterhouseCoopers. William's post also lists the U.S. rate as 23.8 per cent, but it's actually 20 per cent federally.\n\nCBC News reached out to the Conservative MP for comment but did not receive a response.\n\nFenwick McKelvey, a professor of information and communication technology at Concordia University, said William's post shows the pressure politicians are under to put out content that promotes their message.\n\n\"You turn to ChatGPT to speed up some of your content production. The problem with ChatGPT, as we all know, is that you don't know the results, they don't know how accurate it is and there's no fact-checking,\" he told CBC News.\n\nThe impact of AI on politics and election campaigns is becoming a pressing topic of discussion in Canada and the U.S.\n\nCaroline Xavier, head of the Communications Security Establishment (CSE) — Canada's cyber intelligence agency — has told CBC News that she's concerned the use of AI could amplify the spread of misinformation.\n\nEarlier this year, a group of researchers at Columbia University tested how five large language models — including ChatGPT — responded to a set of prompts about primary contests in the U.S.\n\nAll five failed to varying degrees when asked to respond to basic questions about the American democratic process — such as where a voter could find the nearest polling place.\n\nMcKelvey said that while AI technology like ChatGPT could have some uses for politicians crafting messages, it needs to be better regulated.\n\n\"We've really left all AI regulation to private companies like OpenAI, who are making up rules on the fly,\" he said.\n\nOpenAI, the company that created ChatGPT, provides AI technology to tech companies like Apple and Microsoft. But in January, the company updated its policies and suggested it would restrict the use of its technology by political campaigns and lobbyists.\n\n\"We're still working to understand how effective our tools might be for personalized persuasion. Until we know more, we don't allow people to build applications for political campaigning and lobbying,\" the company said in a media statement.\n\nOpenAI said in May that it's updating ChatGPT to direct users to official sources for voter information.\n\nLast year, federal and provincial privacy commissioners announced a joint investigation into whether ChatGPT was collecting and disclosing Canadians' personal information without consent.\n\nMcKelvey said discussions about AI technology need also to focus on its impact on the \"information ecosystem.\"\n\n\"What it really is doing is contributing to a more systemic issue where Canada's had relatively high levels of trust comparatively in media systems and AI could be contributing to a decline in that trust,\" he said.\n\nWithout further regulation, McKelvey said, gaffes like Williams's post might be the only way to police AI-generated misinformation.\n\n\"Politicians might think twice if their use of this technology gets them in hot water,\" he said.",
         "https://www.cbc.ca",
         "https://www.cbc.ca/news/politics/conservative-tweet-capital-gains-chatgpt-1.7244186",
         "['Politics' 'Business and Finance']",
         "[0.85 0.75]",
         "Likely",
         "Likely",
         "A man in a blue suit stands in a room with yellow curtains, gesturing with his right hand.",
         "8b320e107e.jpeg",
         "C:\\Users\\ritik\\Downloads\\images\\images\\8b320e107e.jpeg"
        ],
        [
         "2",
         "7536f87654",
         "CBC.ca",
         "Women's sports are more popular than ever, but study of female physiology is still catching up - CBC.ca",
         "2024-06-22 08:00:00+00:00",
         "When it comes to the study of sports, a man's body has long been considered the default. But a new resource aims to change that.  The Institut national du sport du Québec has published a new resource that focuses on the physiology, or study of how the body works, of female athletes. It hopes the resource will improve the experience of women in sport.  It was created in collaboration with sports advocacy group Égale Action. Sylvie Béliveau, the group's director of gender equity, says the document is the first of its kind in the province.  It's designed to help coaches, parents and athletes better understand the particular physiological challenges women face when competing.  \"All coach education programs that I was attending, it was neutral in terms of the information that was provided but based on men's physiology,\" Béliveau said.  Béliveau says as a coach she spent hours translating data collected about men into something that women can use. It was that struggle that led her to spearhead the publication of this new resource.  \"Growth and maturation is not happening at the same [rate] as boys. Because we often compare [boys and girls] and that's the problem. So if I'm the coach of a girl, I need to understand what happens at 10, 11, 12.\"  The 30-page brochure covers topics such as puberty, the menstrual cycle, pregnancy and contraception. It also has a section for transgender athletes.  Béliveau says studies by Égale Action have shown that girls quit playing sports around puberty at much higher rate than boys, a phenomenon she calls \"leaving in silence,\" because they don't give a reason.  She believes part of the reason why is a gap in understanding about women's physiology.  Working to catch up on women's sport research  François Bieuzen, the director of sports sciences at the institute, says it has been working on creating this resource for about three years.  He says women-specific sports science research has only started to be taken seriously around the world in the last decade. He points to parts of the United States, Norway and France as leaders on the subject and adds that Canada and Quebec are now on board.  \"There is a lot of things to do, to inform, to educate,\" he said.  Bieuzen says the brochure is as much for athletes as it is for coaches.  \"[Many women] don't know exactly how their physiology is,\" said Bieuzen. \"So if they can learn more about that, be more confident about that and share that with confidence with coaches and other athletes and physicians and so on, it could be a great step forward.\"  Former Olympic skier Maxime Dufour-Lapointe, who is now a family doctor in residence, was brought in by the institute to be an ambassador for the brochure.  \"It always takes a bit of time for science to catch up to what we've already figured out on the field. So this is actually really major,\" she said.  \"Some coaches were already attuned with this, but not the majority. And the whole goal of this is yes, performances, but it's also about building athletes as a person.\"  The brochure is available for free on the INS website. For now it is only available in French.",
         "https://www.cbc.ca/news/canada/montreal/womens-sports-physiology-brochure-1.7243262",
         "https://www.cbc.ca/news/canada/montreal/womens-sports-physiology-brochure-1.7243262",
         "https://www.cbc.ca",
         "Two hockey players in action on the ice, one in a white jersey with the number 29 and the other in a green jersey with the number 34, both wearing helmets and holding hockey sticks.",
         "Unlikely",
         "Unlikely",
         "CBC.ca",
         "Women's sports are more popular than ever, but study of female physiology is still catching up - CBC.ca",
         "2024-06-22 08:00:00+00:00",
         "{'bytes': None, 'path': '/projects/NMB-Plus/raw-data/whitelist_may_june_2024/images/7536f87654.jpeg'}",
         "When it comes to the study of sports, a man's body has long been considered the default. But a new resource aims to change that.\n\nThe Institut national du sport du Québec has published a new resource that focuses on the physiology, or study of how the body works, of female athletes. It hopes the resource will improve the experience of women in sport.\n\nIt was created in collaboration with sports advocacy group Égale Action. Sylvie Béliveau, the group's director of gender equity, says the document is the first of its kind in the province.\n\nIt's designed to help coaches, parents and athletes better understand the particular physiological challenges women face when competing.\n\n\"All coach education programs that I was attending, it was neutral in terms of the information that was provided but based on men's physiology,\" Béliveau said.\n\nBéliveau says as a coach she spent hours translating data collected about men into something that women can use. It was that struggle that led her to spearhead the publication of this new resource.\n\n\"Growth and maturation is not happening at the same [rate] as boys. Because we often compare [boys and girls] and that's the problem. So if I'm the coach of a girl, I need to understand what happens at 10, 11, 12.\"\n\nThe 30-page brochure covers topics such as puberty, the menstrual cycle, pregnancy and contraception. It also has a section for transgender athletes.\n\nBéliveau says studies by Égale Action have shown that girls quit playing sports around puberty at much higher rate than boys, a phenomenon she calls \"leaving in silence,\" because they don't give a reason.\n\nShe believes part of the reason why is a gap in understanding about women's physiology.\n\nWorking to catch up on women's sport research\n\nFrançois Bieuzen, the director of sports sciences at the institute, says it has been working on creating this resource for about three years.\n\nHe says women-specific sports science research has only started to be taken seriously around the world in the last decade. He points to parts of the United States, Norway and France as leaders on the subject and adds that Canada and Quebec are now on board.\n\n\"There is a lot of things to do, to inform, to educate,\" he said.\n\nBieuzen says the brochure is as much for athletes as it is for coaches.\n\n\"[Many women] don't know exactly how their physiology is,\" said Bieuzen. \"So if they can learn more about that, be more confident about that and share that with confidence with coaches and other athletes and physicians and so on, it could be a great step forward.\"\n\nFormer Olympic skier Maxime Dufour-Lapointe, who is now a family doctor in residence, was brought in by the institute to be an ambassador for the brochure.\n\n\"It always takes a bit of time for science to catch up to what we've already figured out on the field. So this is actually really major,\" she said.\n\n\"Some coaches were already attuned with this, but not the majority. And the whole goal of this is yes, performances, but it's also about building athletes as a person.\"\n\nThe brochure is available for free on the INS website. For now it is only available in French.",
         "https://www.cbc.ca",
         "https://www.cbc.ca/news/canada/montreal/womens-sports-physiology-brochure-1.7243262",
         "['Sports' 'Health']",
         "[0.85 0.75]",
         "Unlikely",
         "Unlikely",
         "Two hockey players in action on the ice, one in a white jersey with the number 29 and the other in a green jersey with the number 34, both wearing helmets and holding hockey sticks.",
         "7536f87654.jpeg",
         "C:\\Users\\ritik\\Downloads\\images\\images\\7536f87654.jpeg"
        ],
        [
         "3",
         "c829d1f9a8",
         "CBC.ca",
         "June 22: Listener Question Show - CBC.ca",
         "2024-06-21 18:20:00+00:00",
         "To wrap up the 48th season of Quirks & Quarks, we've got another edition of our ever-popular Listener Question show, where experts provide answers to your burning science questions.  Christ Kennedy from Moncton, New Brunswick asks: If someone had the means to, how close could we bring the Moon to the Earth while still keeping it in orbit around us? And fast would a month fly by?  Brett Gladman, a professor of astronomy at the University of British Columbia, says bringing the Moon closer to the Earth would result in many fascinating changes. It could circle our planet in 6 hours instead of 27 days; it would rise in the west and set in the east; and the tides would become so drastic that ocean waters would scour the entire land surface of the Earth several times a day. Gladman says we don't have to worry about this, however, as the Moon's orbit has been steadily expanding over the past millions of years.  Matoli Degroot from Manitoba asks: Do animal species in the wild get bigger over time, since the bigger males would end up mating more than the smaller ones?  For the answer, we reached out to Danielle Fraser, who is the head of paleobiology at the Canadian Museum of Nature in Ottawa. She says that while some animals get bigger over time as a result of sexual selection, not all animals compete for mates by fighting, where body size can be an advantage – think of birds and their elaborate plumage and mating dances. Fraser says the environment and food availability also play a role in determining body size.  Bill Sullivan from Hamilton, Ontario asks: Why does the hair on my head turn grey while hair on the rest of my body does not change colour?  To untangle this question, we spoke with Frida Lona-Durazo, a postdoctoral fellow of computational genetics at the University of Montreal who's studied the genetics of hair colour. She said we go grey when our pigment stem cells go defunct as we age and one theory for why that may differ on your scalp versus the rest of your body is due to the speed at which the hair on the scalp grows. How our cells are making proteins from our DNA can differ in various body regions and environmental factors, such as some drugs, HIV or stress can prematurely grey some areas but not others.  Dan from Quebec City asks: We know that the Earth's crust is built of plates that float on the molten centre of the Earth. What is the force that moves those plates?  For the answer, we reached Alexander Peace, an assistant professor in the School of Earth, Environment and Society at McMaster University in Hamilton, Ont. He explained that the movement of tectonic plates on the Earth's mantle is governed by their composition: oceanic plates tend to be denser while continental crust is more buoyant. When two continental plates collide, the force of the collision pushes them up to form mountain ranges, while a meeting of the denser oceanic crust and a more buoyant continental plate forces the heavier oceanic plate under the continent, forming a subduction zone.  Frances Mawson from Heckmans Island in Nova Scotia asks: Prey animals like deer are intermittently forced to flee from various predators. When danger has passed, they pause for a moment and then resume browsing. How can they recover so quickly?  We asked wildlife ecologist and Western University professor Liana Zanette, who studies the ecology of fear, to shed light on this topic. She said that while the animals may appear calm, fear of predators has a great impact on their life: they spend less time grazing and more time on high alert, which causes them to eat less and in the long run, produce fewer offspring. And since humans are the scariest predator for most prey animals, Zanette suggests being mindful of the effects of your presence on the local wildlife during your nature hikes.  Richard Lukes from Winnipeg asks: As a hydro generating station generates energy, what is the effect on the downstream water? Has the temperature of the water been lowered? If so, then could hydropower help to cool the oceans and combat global warming?  We got the answer from Jaime Wong, an Assistant Professor in the Faculty of Mechanical Engineering at the University of Alberta. He says that hydro generating stations get their energy from the gravitational force of the water falling through a turbine, so the temperature hasn't changed, and thermal energy isn't something we could tap to cool the oceans.  Luc in Edmonton asks: With more people planting native grasses and plants around their houses and businesses in cities, will the bird population in these cities change or increase?  For the answer, we turned to Sheila Colla, an Associate Professor in the Faculty of Environmental & Urban Change at York University and York Research Chair in Interdisciplinary Conservation Science. She says that because birds and insects evolved alongside our native plants, they have relationships with these plants to provide food and habitat. Since bird populations have been in decline, planting native plants will help support native wildlife much better than imported or invasive species of flora.  John Ugyan from Kelowna, British Columbia asks: If atoms are 99.99% empty, why do our eyes see matter as if it was 100% solid?  We asked condensed matter physicist, Cissy Suen who's a joint PhD student from University of British Columbia's Quantum Matter Institute and the Max Planck Institute for Solid State Research in Germany, who said the electron space around the nucleus of atoms isn't actually empty. We see matter as solid due to the wave nature of the light that our eyes take in.  Debbie Turner in Fenelon Falls, Ontario asks: How does climate change affect animals that hibernate?  We got the answer from Jeffrey Lane, an associate professor in the department of biology at the University of Saskatchewan. He says the changing climate is affecting all of the critical periods in a hibernating animal's life: warmer seasons may mean they go into hibernation later and emerge from it sooner, while the period of hibernation itself may be getting shorter if the animals' \"natural blanket\" of snow cover melts sooner or doesn't accumulate during higher winter temperatures.  Greg Hollinger from Owen Sound, Ontario asks: Since the planets orbit the sun in a plane, does their combined gravity pull on and distort the shape of the sun?",
         "https://www.cbc.ca/radio/quirks/quirks-quarks-question-show-june-22-1.7238524",
         "https://www.cbc.ca/radio/quirks/quirks-quarks-question-show-june-22-1.7238524",
         "https://www.cbc.ca",
         "A man with a thoughtful expression stands in front of a crowd of raised hands, each with a question mark above them, suggesting a public speaking event or a Q&A session.",
         "Likely",
         "Unlikely",
         "CBC.ca",
         "June 22: Listener Question Show - CBC.ca",
         "2024-06-21 18:20:00+00:00",
         "{'bytes': None, 'path': '/projects/NMB-Plus/raw-data/whitelist_may_june_2024/images/c829d1f9a8.jpeg'}",
         "To wrap up the 48th season of Quirks & Quarks, we've got another edition of our ever-popular Listener Question show, where experts provide answers to your burning science questions.\n\nChrist Kennedy from Moncton, New Brunswick asks: If someone had the means to, how close could we bring the Moon to the Earth while still keeping it in orbit around us? And fast would a month fly by?\n\nBrett Gladman, a professor of astronomy at the University of British Columbia, says bringing the Moon closer to the Earth would result in many fascinating changes. It could circle our planet in 6 hours instead of 27 days; it would rise in the west and set in the east; and the tides would become so drastic that ocean waters would scour the entire land surface of the Earth several times a day. Gladman says we don't have to worry about this, however, as the Moon's orbit has been steadily expanding over the past millions of years.\n\nMatoli Degroot from Manitoba asks: Do animal species in the wild get bigger over time, since the bigger males would end up mating more than the smaller ones?\n\nFor the answer, we reached out to Danielle Fraser, who is the head of paleobiology at the Canadian Museum of Nature in Ottawa. She says that while some animals get bigger over time as a result of sexual selection, not all animals compete for mates by fighting, where body size can be an advantage – think of birds and their elaborate plumage and mating dances. Fraser says the environment and food availability also play a role in determining body size.\n\nBill Sullivan from Hamilton, Ontario asks: Why does the hair on my head turn grey while hair on the rest of my body does not change colour?\n\nTo untangle this question, we spoke with Frida Lona-Durazo, a postdoctoral fellow of computational genetics at the University of Montreal who's studied the genetics of hair colour. She said we go grey when our pigment stem cells go defunct as we age and one theory for why that may differ on your scalp versus the rest of your body is due to the speed at which the hair on the scalp grows. How our cells are making proteins from our DNA can differ in various body regions and environmental factors, such as some drugs, HIV or stress can prematurely grey some areas but not others.\n\nDan from Quebec City asks: We know that the Earth's crust is built of plates that float on the molten centre of the Earth. What is the force that moves those plates?\n\nFor the answer, we reached Alexander Peace, an assistant professor in the School of Earth, Environment and Society at McMaster University in Hamilton, Ont. He explained that the movement of tectonic plates on the Earth's mantle is governed by their composition: oceanic plates tend to be denser while continental crust is more buoyant. When two continental plates collide, the force of the collision pushes them up to form mountain ranges, while a meeting of the denser oceanic crust and a more buoyant continental plate forces the heavier oceanic plate under the continent, forming a subduction zone.\n\nFrances Mawson from Heckmans Island in Nova Scotia asks: Prey animals like deer are intermittently forced to flee from various predators. When danger has passed, they pause for a moment and then resume browsing. How can they recover so quickly?\n\nWe asked wildlife ecologist and Western University professor Liana Zanette, who studies the ecology of fear, to shed light on this topic. She said that while the animals may appear calm, fear of predators has a great impact on their life: they spend less time grazing and more time on high alert, which causes them to eat less and in the long run, produce fewer offspring. And since humans are the scariest predator for most prey animals, Zanette suggests being mindful of the effects of your presence on the local wildlife during your nature hikes.\n\nRichard Lukes from Winnipeg asks: As a hydro generating station generates energy, what is the effect on the downstream water? Has the temperature of the water been lowered? If so, then could hydropower help to cool the oceans and combat global warming?\n\nWe got the answer from Jaime Wong, an Assistant Professor in the Faculty of Mechanical Engineering at the University of Alberta. He says that hydro generating stations get their energy from the gravitational force of the water falling through a turbine, so the temperature hasn't changed, and thermal energy isn't something we could tap to cool the oceans.\n\nLuc in Edmonton asks: With more people planting native grasses and plants around their houses and businesses in cities, will the bird population in these cities change or increase?\n\nFor the answer, we turned to Sheila Colla, an Associate Professor in the Faculty of Environmental & Urban Change at York University and York Research Chair in Interdisciplinary Conservation Science. She says that because birds and insects evolved alongside our native plants, they have relationships with these plants to provide food and habitat. Since bird populations have been in decline, planting native plants will help support native wildlife much better than imported or invasive species of flora.\n\nJohn Ugyan from Kelowna, British Columbia asks: If atoms are 99.99% empty, why do our eyes see matter as if it was 100% solid?\n\nWe asked condensed matter physicist, Cissy Suen who's a joint PhD student from University of British Columbia's Quantum Matter Institute and the Max Planck Institute for Solid State Research in Germany, who said the electron space around the nucleus of atoms isn't actually empty. We see matter as solid due to the wave nature of the light that our eyes take in.\n\nDebbie Turner in Fenelon Falls, Ontario asks: How does climate change affect animals that hibernate?\n\nWe got the answer from Jeffrey Lane, an associate professor in the department of biology at the University of Saskatchewan. He says the changing climate is affecting all of the critical periods in a hibernating animal's life: warmer seasons may mean they go into hibernation later and emerge from it sooner, while the period of hibernation itself may be getting shorter if the animals' \"natural blanket\" of snow cover melts sooner or doesn't accumulate during higher winter temperatures.\n\nGreg Hollinger from Owen Sound, Ontario asks: Since the planets orbit the sun in a plane, does their combined gravity pull on and distort the shape of the sun?",
         "https://www.cbc.ca",
         "https://www.cbc.ca/radio/quirks/quirks-quarks-question-show-june-22-1.7238524",
         "['Science' 'Other']",
         "[0.9 0.7]",
         "Likely",
         "Unlikely",
         "A man with a thoughtful expression stands in front of a crowd of raised hands, each with a question mark above them, suggesting a public speaking event or a Q&A session.",
         "c829d1f9a8.jpeg",
         "C:\\Users\\ritik\\Downloads\\images\\images\\c829d1f9a8.jpeg"
        ],
        [
         "4",
         "a0ba0e377b",
         "CBC.ca",
         "Albertans can't legally gamble with Betway. So why is it advertising at Oilers games? - CBC.ca",
         "2024-06-21 21:18:00+00:00",
         "When following the Edmonton Oilers' playoff run so far, you may have seen ads for Betway on display.  Because during Edmonton-hosted games of the Stanley Cup final, an advertisement for Betway.net has appeared on the boards — and in the ice — of the Rogers Place arena.  Betway is an online betting brand that operates in various countries across the globe. And it's also a brand that is part of Ontario's regulated online gambling market.  But it's not a legal option for Albertans, as the province has only one legal regulated site for sports betting: Play Alberta.  To sports-gambling expert Victor Matheson, he says it seems Betway likely has a play in mind that involves getting its name out there while avoiding the direct promotion of an out-of-market betting service in Alberta.  \"Betway has made a bet on the NHL and the Stanley Cup,\" said Matheson.  A Betway site without betting  Betway has a partnership with the NHL that grants it branding rights during the regular season and through to the Stanley Cup.  But the company told CBC News the advertising seen in Edmonton during the finals is for its \"global website,\" which doesn't feature gambling content.  The Betway.net site provides information about sports, including recent scores from events around the globe — including NHL playoffs.  Matheson said it seems the promotion of this site must provide a legal path for having this advertising in place in this manner.  \"I kind of find that amusingly clever, I guess,\" said Matheson, an economics professor at the College of the Holy Cross in Worcester, Mass.  The province's legal betting site has also had its logo displayed on the boards in Edmonton during the finals.  Karin Campbell, the manager of communications for Alberta Gaming, Liquor and Cannabis (AGLC) said that Play Alberta and Oilers have a partnership of their own.  Campbell reiterated that Play Alberta is the province's only legal site for sports betting.  But will Albertans watching these games understand that Betway is not a brand for them to use?  'A sports information site'  Brandon Aboultaif, the press secretary for Service Alberta minister Dale McNally, said Albertans know that Play Alberta is the site to use and the AGLC works to reinforce that message.  Echoing a point made by Betway, Aboultaif said the company's ads on display in Edmonton point to \"a sports information site,\" rather than a betting site.  Both Aboultaif and AGLC suggested contacting the Canadian Radio-television and Telecommunications Commission (CRTC) about the issue — though the regulator denied having jurisdiction over such advertising.  \"The CRTC does not regulate gambling organizations,\" the regulator told CBC News in an emailed statement.  \"Additionally, the CRTC does not regulate the content of advertisements, except for advertising to children and alcohol ads.\"  Yet Aboultaif further said if there are \"complaints or concerns\" over the CRTC's \"current regulations,\" those should be raised with the regulator and the federal government.  In Ottawa, a senator has put forward a bill to establish a national framework for regulating the advertising of sports betting. But the proposed legislation hasn't reached the House of Commons.  A lot of eyeballs  Betway ads were on display again during Friday's Game 6 of the Stanley Cup final in Edmonton.  Their recurrence of the advertising will presumably get in front of a lot of eyeballs: the NHL said 8.5 million viewers in North America tuned in for Game 5.  Yet whatever the audience exposure, Matheson says he suspects Betway would have preferred to see a different Western Conference team, other than the Oilers, in the Stanley Cup final — like the Colorado Avalanche, a team that plays in a U.S. state where the Betway brand is a legal option.",
         "https://www.cbc.ca/news/canada/betway-edmonton-arena-stanley-cup-1.7241781",
         "https://www.cbc.ca/news/canada/betway-edmonton-arena-stanley-cup-1.7241781",
         "https://www.cbc.ca",
         "A hockey game is in progress with players from the New York Islanders and the Edmonton Oilers in action. The New York Islanders player, number 11, is in the foreground, holding a hockey stick and appears to be in the midst of a play. The Edmonton Oilers player, number 7, is also visible, wearing a white jersey and holding a hockey stick. The background shows a packed arena with spectators, and the ice surface is marked with the logos of sponsors such as Scotiabank and App.",
         "Likely",
         "Unlikely",
         "CBC.ca",
         "Albertans can't legally gamble with Betway. So why is it advertising at Oilers games? - CBC.ca",
         "2024-06-21 21:18:00+00:00",
         "{'bytes': None, 'path': '/projects/NMB-Plus/raw-data/whitelist_may_june_2024/images/a0ba0e377b.jpeg'}",
         "When following the Edmonton Oilers' playoff run so far, you may have seen ads for Betway on display.\n\nBecause during Edmonton-hosted games of the Stanley Cup final, an advertisement for Betway.net has appeared on the boards — and in the ice — of the Rogers Place arena.\n\nBetway is an online betting brand that operates in various countries across the globe. And it's also a brand that is part of Ontario's regulated online gambling market.\n\nBut it's not a legal option for Albertans, as the province has only one legal regulated site for sports betting: Play Alberta.\n\nTo sports-gambling expert Victor Matheson, he says it seems Betway likely has a play in mind that involves getting its name out there while avoiding the direct promotion of an out-of-market betting service in Alberta.\n\n\"Betway has made a bet on the NHL and the Stanley Cup,\" said Matheson.\n\nA Betway site without betting\n\nBetway has a partnership with the NHL that grants it branding rights during the regular season and through to the Stanley Cup.\n\nBut the company told CBC News the advertising seen in Edmonton during the finals is for its \"global website,\" which doesn't feature gambling content.\n\nThe Betway.net site provides information about sports, including recent scores from events around the globe — including NHL playoffs.\n\nMatheson said it seems the promotion of this site must provide a legal path for having this advertising in place in this manner.\n\n\"I kind of find that amusingly clever, I guess,\" said Matheson, an economics professor at the College of the Holy Cross in Worcester, Mass.\n\nThe province's legal betting site has also had its logo displayed on the boards in Edmonton during the finals.\n\nKarin Campbell, the manager of communications for Alberta Gaming, Liquor and Cannabis (AGLC) said that Play Alberta and Oilers have a partnership of their own.\n\nCampbell reiterated that Play Alberta is the province's only legal site for sports betting.\n\nBut will Albertans watching these games understand that Betway is not a brand for them to use?\n\n'A sports information site'\n\nBrandon Aboultaif, the press secretary for Service Alberta minister Dale McNally, said Albertans know that Play Alberta is the site to use and the AGLC works to reinforce that message.\n\nEchoing a point made by Betway, Aboultaif said the company's ads on display in Edmonton point to \"a sports information site,\" rather than a betting site.\n\nBoth Aboultaif and AGLC suggested contacting the Canadian Radio-television and Telecommunications Commission (CRTC) about the issue — though the regulator denied having jurisdiction over such advertising.\n\n\"The CRTC does not regulate gambling organizations,\" the regulator told CBC News in an emailed statement.\n\n\"Additionally, the CRTC does not regulate the content of advertisements, except for advertising to children and alcohol ads.\"\n\nYet Aboultaif further said if there are \"complaints or concerns\" over the CRTC's \"current regulations,\" those should be raised with the regulator and the federal government.\n\nIn Ottawa, a senator has put forward a bill to establish a national framework for regulating the advertising of sports betting. But the proposed legislation hasn't reached the House of Commons.\n\nA lot of eyeballs\n\nBetway ads were on display again during Friday's Game 6 of the Stanley Cup final in Edmonton.\n\nTheir recurrence of the advertising will presumably get in front of a lot of eyeballs: the NHL said 8.5 million viewers in North America tuned in for Game 5.\n\nYet whatever the audience exposure, Matheson says he suspects Betway would have preferred to see a different Western Conference team, other than the Oilers, in the Stanley Cup final — like the Colorado Avalanche, a team that plays in a U.S. state where the Betway brand is a legal option.",
         "https://www.cbc.ca",
         "https://www.cbc.ca/news/canada/betway-edmonton-arena-stanley-cup-1.7241781",
         "['Politics' 'Sports']",
         "[0.85 0.8 ]",
         "Likely",
         "Unlikely",
         "A hockey game is in progress with players from the New York Islanders and the Edmonton Oilers in action. The New York Islanders player, number 11, is in the foreground, holding a hockey stick and appears to be in the midst of a play. The Edmonton Oilers player, number 7, is also visible, wearing a white jersey and holding a hockey stick. The background shows a packed arena with spectators, and the ice surface is marked with the logos of sponsors such as Scotiabank and App.",
         "a0ba0e377b.jpeg",
         "C:\\Users\\ritik\\Downloads\\images\\images\\a0ba0e377b.jpeg"
        ]
       ],
       "shape": {
        "columns": 25,
        "rows": 5
       }
      },
      "text/html": [
       "<div>\n",
       "<style scoped>\n",
       "    .dataframe tbody tr th:only-of-type {\n",
       "        vertical-align: middle;\n",
       "    }\n",
       "\n",
       "    .dataframe tbody tr th {\n",
       "        vertical-align: top;\n",
       "    }\n",
       "\n",
       "    .dataframe thead th {\n",
       "        text-align: right;\n",
       "    }\n",
       "</style>\n",
       "<table border=\"1\" class=\"dataframe\">\n",
       "  <thead>\n",
       "    <tr style=\"text-align: right;\">\n",
       "      <th></th>\n",
       "      <th>unique_id</th>\n",
       "      <th>outlet_x</th>\n",
       "      <th>title</th>\n",
       "      <th>date_published_x</th>\n",
       "      <th>content</th>\n",
       "      <th>article_url</th>\n",
       "      <th>canonical_link_x</th>\n",
       "      <th>source_url_x</th>\n",
       "      <th>image_description_x</th>\n",
       "      <th>text_label_x</th>\n",
       "      <th>...</th>\n",
       "      <th>article_text</th>\n",
       "      <th>source_url_y</th>\n",
       "      <th>canonical_link_y</th>\n",
       "      <th>new_categories</th>\n",
       "      <th>news_categories_confidence_scores</th>\n",
       "      <th>text_label_y</th>\n",
       "      <th>multimodal_label_y</th>\n",
       "      <th>image_description_y</th>\n",
       "      <th>image_filename</th>\n",
       "      <th>image_path</th>\n",
       "    </tr>\n",
       "  </thead>\n",
       "  <tbody>\n",
       "    <tr>\n",
       "      <th>0</th>\n",
       "      <td>39e6104d56</td>\n",
       "      <td>CBC.ca</td>\n",
       "      <td>Tij Iginla embraces family name, eager to foll...</td>\n",
       "      <td>2024-06-24 14:48:00+00:00</td>\n",
       "      <td>Tij Iginla doesn't shy away from his famous la...</td>\n",
       "      <td>https://www.cbc.ca/news/canada/calgary/tij-igi...</td>\n",
       "      <td>https://www.cbc.ca/news/canada/calgary/tij-igi...</td>\n",
       "      <td>https://www.cbc.ca</td>\n",
       "      <td>A man with a bald head and a black suit is smi...</td>\n",
       "      <td>Likely</td>\n",
       "      <td>...</td>\n",
       "      <td>Tij Iginla doesn't shy away from his famous la...</td>\n",
       "      <td>https://www.cbc.ca</td>\n",
       "      <td>https://www.cbc.ca/news/canada/calgary/tij-igi...</td>\n",
       "      <td>['Sports' 'National']</td>\n",
       "      <td>[0.95 0.7 ]</td>\n",
       "      <td>Likely</td>\n",
       "      <td>Unlikely</td>\n",
       "      <td>A man with a bald head and a black suit is smi...</td>\n",
       "      <td>39e6104d56.jpeg</td>\n",
       "      <td>C:\\Users\\ritik\\Downloads\\images\\images\\39e6104...</td>\n",
       "    </tr>\n",
       "    <tr>\n",
       "      <th>1</th>\n",
       "      <td>8b320e107e</td>\n",
       "      <td>CBC News</td>\n",
       "      <td>Conservative MP shares inaccurate, ChatGPT-gen...</td>\n",
       "      <td>2024-06-24 18:01:00+00:00</td>\n",
       "      <td>An Ontario Conservative MP's use of ChatGPT to...</td>\n",
       "      <td>https://www.cbc.ca/news/politics/conservative-...</td>\n",
       "      <td>https://www.cbc.ca/news/politics/conservative-...</td>\n",
       "      <td>https://www.cbc.ca</td>\n",
       "      <td>A man in a blue suit stands in a room with yel...</td>\n",
       "      <td>Likely</td>\n",
       "      <td>...</td>\n",
       "      <td>An Ontario Conservative MP's use of ChatGPT to...</td>\n",
       "      <td>https://www.cbc.ca</td>\n",
       "      <td>https://www.cbc.ca/news/politics/conservative-...</td>\n",
       "      <td>['Politics' 'Business and Finance']</td>\n",
       "      <td>[0.85 0.75]</td>\n",
       "      <td>Likely</td>\n",
       "      <td>Likely</td>\n",
       "      <td>A man in a blue suit stands in a room with yel...</td>\n",
       "      <td>8b320e107e.jpeg</td>\n",
       "      <td>C:\\Users\\ritik\\Downloads\\images\\images\\8b320e1...</td>\n",
       "    </tr>\n",
       "    <tr>\n",
       "      <th>2</th>\n",
       "      <td>7536f87654</td>\n",
       "      <td>CBC.ca</td>\n",
       "      <td>Women's sports are more popular than ever, but...</td>\n",
       "      <td>2024-06-22 08:00:00+00:00</td>\n",
       "      <td>When it comes to the study of sports, a man's ...</td>\n",
       "      <td>https://www.cbc.ca/news/canada/montreal/womens...</td>\n",
       "      <td>https://www.cbc.ca/news/canada/montreal/womens...</td>\n",
       "      <td>https://www.cbc.ca</td>\n",
       "      <td>Two hockey players in action on the ice, one i...</td>\n",
       "      <td>Unlikely</td>\n",
       "      <td>...</td>\n",
       "      <td>When it comes to the study of sports, a man's ...</td>\n",
       "      <td>https://www.cbc.ca</td>\n",
       "      <td>https://www.cbc.ca/news/canada/montreal/womens...</td>\n",
       "      <td>['Sports' 'Health']</td>\n",
       "      <td>[0.85 0.75]</td>\n",
       "      <td>Unlikely</td>\n",
       "      <td>Unlikely</td>\n",
       "      <td>Two hockey players in action on the ice, one i...</td>\n",
       "      <td>7536f87654.jpeg</td>\n",
       "      <td>C:\\Users\\ritik\\Downloads\\images\\images\\7536f87...</td>\n",
       "    </tr>\n",
       "    <tr>\n",
       "      <th>3</th>\n",
       "      <td>c829d1f9a8</td>\n",
       "      <td>CBC.ca</td>\n",
       "      <td>June 22: Listener Question Show - CBC.ca</td>\n",
       "      <td>2024-06-21 18:20:00+00:00</td>\n",
       "      <td>To wrap up the 48th season of Quirks &amp; Quarks,...</td>\n",
       "      <td>https://www.cbc.ca/radio/quirks/quirks-quarks-...</td>\n",
       "      <td>https://www.cbc.ca/radio/quirks/quirks-quarks-...</td>\n",
       "      <td>https://www.cbc.ca</td>\n",
       "      <td>A man with a thoughtful expression stands in f...</td>\n",
       "      <td>Likely</td>\n",
       "      <td>...</td>\n",
       "      <td>To wrap up the 48th season of Quirks &amp; Quarks,...</td>\n",
       "      <td>https://www.cbc.ca</td>\n",
       "      <td>https://www.cbc.ca/radio/quirks/quirks-quarks-...</td>\n",
       "      <td>['Science' 'Other']</td>\n",
       "      <td>[0.9 0.7]</td>\n",
       "      <td>Likely</td>\n",
       "      <td>Unlikely</td>\n",
       "      <td>A man with a thoughtful expression stands in f...</td>\n",
       "      <td>c829d1f9a8.jpeg</td>\n",
       "      <td>C:\\Users\\ritik\\Downloads\\images\\images\\c829d1f...</td>\n",
       "    </tr>\n",
       "    <tr>\n",
       "      <th>4</th>\n",
       "      <td>a0ba0e377b</td>\n",
       "      <td>CBC.ca</td>\n",
       "      <td>Albertans can't legally gamble with Betway. So...</td>\n",
       "      <td>2024-06-21 21:18:00+00:00</td>\n",
       "      <td>When following the Edmonton Oilers' playoff ru...</td>\n",
       "      <td>https://www.cbc.ca/news/canada/betway-edmonton...</td>\n",
       "      <td>https://www.cbc.ca/news/canada/betway-edmonton...</td>\n",
       "      <td>https://www.cbc.ca</td>\n",
       "      <td>A hockey game is in progress with players from...</td>\n",
       "      <td>Likely</td>\n",
       "      <td>...</td>\n",
       "      <td>When following the Edmonton Oilers' playoff ru...</td>\n",
       "      <td>https://www.cbc.ca</td>\n",
       "      <td>https://www.cbc.ca/news/canada/betway-edmonton...</td>\n",
       "      <td>['Politics' 'Sports']</td>\n",
       "      <td>[0.85 0.8 ]</td>\n",
       "      <td>Likely</td>\n",
       "      <td>Unlikely</td>\n",
       "      <td>A hockey game is in progress with players from...</td>\n",
       "      <td>a0ba0e377b.jpeg</td>\n",
       "      <td>C:\\Users\\ritik\\Downloads\\images\\images\\a0ba0e3...</td>\n",
       "    </tr>\n",
       "  </tbody>\n",
       "</table>\n",
       "<p>5 rows × 25 columns</p>\n",
       "</div>"
      ],
      "text/plain": [
       "    unique_id  outlet_x                                              title  \\\n",
       "0  39e6104d56    CBC.ca  Tij Iginla embraces family name, eager to foll...   \n",
       "1  8b320e107e  CBC News  Conservative MP shares inaccurate, ChatGPT-gen...   \n",
       "2  7536f87654    CBC.ca  Women's sports are more popular than ever, but...   \n",
       "3  c829d1f9a8    CBC.ca           June 22: Listener Question Show - CBC.ca   \n",
       "4  a0ba0e377b    CBC.ca  Albertans can't legally gamble with Betway. So...   \n",
       "\n",
       "            date_published_x  \\\n",
       "0  2024-06-24 14:48:00+00:00   \n",
       "1  2024-06-24 18:01:00+00:00   \n",
       "2  2024-06-22 08:00:00+00:00   \n",
       "3  2024-06-21 18:20:00+00:00   \n",
       "4  2024-06-21 21:18:00+00:00   \n",
       "\n",
       "                                             content  \\\n",
       "0  Tij Iginla doesn't shy away from his famous la...   \n",
       "1  An Ontario Conservative MP's use of ChatGPT to...   \n",
       "2  When it comes to the study of sports, a man's ...   \n",
       "3  To wrap up the 48th season of Quirks & Quarks,...   \n",
       "4  When following the Edmonton Oilers' playoff ru...   \n",
       "\n",
       "                                         article_url  \\\n",
       "0  https://www.cbc.ca/news/canada/calgary/tij-igi...   \n",
       "1  https://www.cbc.ca/news/politics/conservative-...   \n",
       "2  https://www.cbc.ca/news/canada/montreal/womens...   \n",
       "3  https://www.cbc.ca/radio/quirks/quirks-quarks-...   \n",
       "4  https://www.cbc.ca/news/canada/betway-edmonton...   \n",
       "\n",
       "                                    canonical_link_x        source_url_x  \\\n",
       "0  https://www.cbc.ca/news/canada/calgary/tij-igi...  https://www.cbc.ca   \n",
       "1  https://www.cbc.ca/news/politics/conservative-...  https://www.cbc.ca   \n",
       "2  https://www.cbc.ca/news/canada/montreal/womens...  https://www.cbc.ca   \n",
       "3  https://www.cbc.ca/radio/quirks/quirks-quarks-...  https://www.cbc.ca   \n",
       "4  https://www.cbc.ca/news/canada/betway-edmonton...  https://www.cbc.ca   \n",
       "\n",
       "                                 image_description_x text_label_x  ...  \\\n",
       "0  A man with a bald head and a black suit is smi...       Likely  ...   \n",
       "1  A man in a blue suit stands in a room with yel...       Likely  ...   \n",
       "2  Two hockey players in action on the ice, one i...     Unlikely  ...   \n",
       "3  A man with a thoughtful expression stands in f...       Likely  ...   \n",
       "4  A hockey game is in progress with players from...       Likely  ...   \n",
       "\n",
       "                                        article_text        source_url_y  \\\n",
       "0  Tij Iginla doesn't shy away from his famous la...  https://www.cbc.ca   \n",
       "1  An Ontario Conservative MP's use of ChatGPT to...  https://www.cbc.ca   \n",
       "2  When it comes to the study of sports, a man's ...  https://www.cbc.ca   \n",
       "3  To wrap up the 48th season of Quirks & Quarks,...  https://www.cbc.ca   \n",
       "4  When following the Edmonton Oilers' playoff ru...  https://www.cbc.ca   \n",
       "\n",
       "                                    canonical_link_y  \\\n",
       "0  https://www.cbc.ca/news/canada/calgary/tij-igi...   \n",
       "1  https://www.cbc.ca/news/politics/conservative-...   \n",
       "2  https://www.cbc.ca/news/canada/montreal/womens...   \n",
       "3  https://www.cbc.ca/radio/quirks/quirks-quarks-...   \n",
       "4  https://www.cbc.ca/news/canada/betway-edmonton...   \n",
       "\n",
       "                        new_categories news_categories_confidence_scores  \\\n",
       "0                ['Sports' 'National']                       [0.95 0.7 ]   \n",
       "1  ['Politics' 'Business and Finance']                       [0.85 0.75]   \n",
       "2                  ['Sports' 'Health']                       [0.85 0.75]   \n",
       "3                  ['Science' 'Other']                         [0.9 0.7]   \n",
       "4                ['Politics' 'Sports']                       [0.85 0.8 ]   \n",
       "\n",
       "  text_label_y multimodal_label_y  \\\n",
       "0       Likely           Unlikely   \n",
       "1       Likely             Likely   \n",
       "2     Unlikely           Unlikely   \n",
       "3       Likely           Unlikely   \n",
       "4       Likely           Unlikely   \n",
       "\n",
       "                                 image_description_y   image_filename  \\\n",
       "0  A man with a bald head and a black suit is smi...  39e6104d56.jpeg   \n",
       "1  A man in a blue suit stands in a room with yel...  8b320e107e.jpeg   \n",
       "2  Two hockey players in action on the ice, one i...  7536f87654.jpeg   \n",
       "3  A man with a thoughtful expression stands in f...  c829d1f9a8.jpeg   \n",
       "4  A hockey game is in progress with players from...  a0ba0e377b.jpeg   \n",
       "\n",
       "                                          image_path  \n",
       "0  C:\\Users\\ritik\\Downloads\\images\\images\\39e6104...  \n",
       "1  C:\\Users\\ritik\\Downloads\\images\\images\\8b320e1...  \n",
       "2  C:\\Users\\ritik\\Downloads\\images\\images\\7536f87...  \n",
       "3  C:\\Users\\ritik\\Downloads\\images\\images\\c829d1f...  \n",
       "4  C:\\Users\\ritik\\Downloads\\images\\images\\a0ba0e3...  \n",
       "\n",
       "[5 rows x 25 columns]"
      ]
     },
     "execution_count": 20,
     "metadata": {},
     "output_type": "execute_result"
    }
   ],
   "source": [
    "nbs.head()"
   ]
  },
  {
   "cell_type": "markdown",
   "id": "1711e0ea",
   "metadata": {},
   "source": [
    "Removing the columns containing url and date"
   ]
  },
  {
   "cell_type": "code",
   "execution_count": 23,
   "id": "e8fbd3c0",
   "metadata": {},
   "outputs": [],
   "source": [
    "col = ['date_published_x','article_url','canonical_link_x','source_url_x','date_published_y','canonical_link_y','source_url_y']\n",
    "nbs = nbs.drop(columns=col,axis=1)"
   ]
  },
  {
   "cell_type": "code",
   "execution_count": 26,
   "id": "8a9aa113",
   "metadata": {},
   "outputs": [
    {
     "data": {
      "text/plain": [
       "Index(['unique_id', 'outlet_x', 'title', 'content', 'image_description_x',\n",
       "       'text_label_x', 'multimodal_label_x', 'outlet_y', 'headline',\n",
       "       'top_image', 'article_text', 'new_categories',\n",
       "       'news_categories_confidence_scores', 'text_label_y',\n",
       "       'multimodal_label_y', 'image_description_y', 'image_filename',\n",
       "       'image_path'],\n",
       "      dtype='object')"
      ]
     },
     "execution_count": 26,
     "metadata": {},
     "output_type": "execute_result"
    }
   ],
   "source": [
    "nbs.columns"
   ]
  },
  {
   "cell_type": "code",
   "execution_count": null,
   "id": "fd9b442f",
   "metadata": {},
   "outputs": [],
   "source": []
  }
 ],
 "metadata": {
  "kernelspec": {
   "display_name": "base",
   "language": "python",
   "name": "python3"
  },
  "language_info": {
   "codemirror_mode": {
    "name": "ipython",
    "version": 3
   },
   "file_extension": ".py",
   "mimetype": "text/x-python",
   "name": "python",
   "nbconvert_exporter": "python",
   "pygments_lexer": "ipython3",
   "version": "3.12.3"
  }
 },
 "nbformat": 4,
 "nbformat_minor": 5
}
