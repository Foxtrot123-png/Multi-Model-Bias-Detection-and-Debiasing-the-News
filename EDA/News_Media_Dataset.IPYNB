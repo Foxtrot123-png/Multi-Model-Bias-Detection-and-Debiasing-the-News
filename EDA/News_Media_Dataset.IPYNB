{
 "cells": [
  {
   "cell_type": "code",
   "execution_count": null,
   "id": "be12f452",
   "metadata": {},
   "outputs": [
    {
     "ename": "",
     "evalue": "",
     "output_type": "error",
     "traceback": [
      "\u001b[1;31mFailed to start the Kernel. \n",
      "\u001b[1;31mUnexpected end of JSON input. \n",
      "\u001b[1;31mView Jupyter <a href='command:jupyter.viewOutput'>log</a> for further details."
     ]
    }
   ],
   "source": [
    "import pandas as pd\n",
    "import numpy as np\n"
   ]
  },
  {
   "cell_type": "code",
   "execution_count": null,
   "id": "02f946f2",
   "metadata": {},
   "outputs": [],
   "source": [
    "nbs = pd.read_csv('C:\\\\Users\\\\ritik\\\\OneDrive\\\\Documents\\\\GitHub\\\\Multi-Model-Bias-Detection-and-Debiasing-the-News\\\\NewBiasDataset\\\\newsmediabias_plus_combined.csv')"
   ]
  },
  {
   "cell_type": "code",
   "execution_count": null,
   "id": "4f069f8d",
   "metadata": {},
   "outputs": [],
   "source": [
    "nbs.head()"
   ]
  },
  {
   "cell_type": "code",
   "execution_count": null,
   "id": "e3d83956",
   "metadata": {},
   "outputs": [],
   "source": [
    "nbs.columns"
   ]
  },
  {
   "cell_type": "code",
   "execution_count": null,
   "id": "d7115f11",
   "metadata": {},
   "outputs": [],
   "source": [
    "nbs.dtypes"
   ]
  },
  {
   "cell_type": "code",
   "execution_count": null,
   "id": "1e449af3",
   "metadata": {},
   "outputs": [],
   "source": [
    "nbs['multimodal_label_x'].unique()"
   ]
  },
  {
   "cell_type": "code",
   "execution_count": null,
   "id": "64604f83",
   "metadata": {},
   "outputs": [],
   "source": [
    "nbs['text_label_x'].unique()"
   ]
  },
  {
   "cell_type": "code",
   "execution_count": null,
   "id": "e8358e1c",
   "metadata": {},
   "outputs": [],
   "source": [
    "nbs['text_label_y'].unique()"
   ]
  },
  {
   "cell_type": "code",
   "execution_count": null,
   "id": "0d5cfc35",
   "metadata": {},
   "outputs": [],
   "source": [
    "nbs.head()"
   ]
  },
  {
   "cell_type": "markdown",
   "id": "1711e0ea",
   "metadata": {},
   "source": [
    "Removing the columns containing url and date"
   ]
  },
  {
   "cell_type": "code",
   "execution_count": null,
   "id": "e8fbd3c0",
   "metadata": {},
   "outputs": [],
   "source": [
    "col = ['date_published_x','article_url','canonical_link_x','source_url_x','date_published_y','canonical_link_y','source_url_y']\n",
    "nbs = nbs.drop(columns=col,axis=1)"
   ]
  },
  {
   "cell_type": "code",
   "execution_count": null,
   "id": "8a9aa113",
   "metadata": {},
   "outputs": [],
   "source": [
    "nbs.columns"
   ]
  },
  {
   "cell_type": "code",
   "execution_count": null,
   "id": "fd9b442f",
   "metadata": {},
   "outputs": [],
   "source": [
    "nbs['multimodal_label_x']"
   ]
  },
  {
   "cell_type": "code",
   "execution_count": null,
   "id": "fc432dc9",
   "metadata": {},
   "outputs": [],
   "source": [
    "nbs['multimodal_label_y']"
   ]
  },
  {
   "cell_type": "code",
   "execution_count": null,
   "id": "2ebe564b",
   "metadata": {},
   "outputs": [],
   "source": [
    "nbs[nbs['multimodal_label_x']!=nbs['multimodal_label_y']].value_counts().sum()"
   ]
  },
  {
   "cell_type": "code",
   "execution_count": null,
   "id": "4e904c83",
   "metadata": {},
   "outputs": [],
   "source": [
    "nbs['MultiModal_Label'] =nbs['multimodal_label_x']\n"
   ]
  },
  {
   "cell_type": "code",
   "execution_count": null,
   "id": "e0f2827a",
   "metadata": {},
   "outputs": [],
   "source": [
    "nbs=nbs.drop(columns=['multimodal_label_x','multimodal_label_y'])"
   ]
  },
  {
   "cell_type": "code",
   "execution_count": null,
   "id": "af5d6c5d",
   "metadata": {},
   "outputs": [],
   "source": [
    "nbs.columns"
   ]
  },
  {
   "cell_type": "code",
   "execution_count": null,
   "id": "403f54f2",
   "metadata": {},
   "outputs": [],
   "source": [
    "#Renaming the columns "
   ]
  },
  {
   "cell_type": "code",
   "execution_count": null,
   "id": "d396ef71",
   "metadata": {},
   "outputs": [],
   "source": [
    "nbs['caption']=nbs['image_description_x']"
   ]
  },
  {
   "cell_type": "code",
   "execution_count": null,
   "id": "fbf7cd72",
   "metadata": {},
   "outputs": [],
   "source": [
    "nbs=nbs.drop(columns=['image_description_x','image_description_y'])"
   ]
  },
  {
   "cell_type": "code",
   "execution_count": null,
   "id": "408d0da3",
   "metadata": {},
   "outputs": [],
   "source": [
    "nbs.columns"
   ]
  },
  {
   "cell_type": "code",
   "execution_count": null,
   "id": "8c992919",
   "metadata": {},
   "outputs": [],
   "source": [
    "nbs['text_label_x']"
   ]
  },
  {
   "cell_type": "code",
   "execution_count": null,
   "id": "3decf0bc",
   "metadata": {},
   "outputs": [],
   "source": [
    "nbs['text_label_y']"
   ]
  },
  {
   "cell_type": "code",
   "execution_count": null,
   "id": "79e4ea89",
   "metadata": {},
   "outputs": [],
   "source": [
    "nbs['text_labels']=nbs['text_label_x'].apply(lambda x : 'biased' if x=='Likely' else 'non-biased')"
   ]
  },
  {
   "cell_type": "code",
   "execution_count": null,
   "id": "a7a4fb03",
   "metadata": {},
   "outputs": [],
   "source": [
    "nbs['text_labels']"
   ]
  },
  {
   "cell_type": "code",
   "execution_count": null,
   "id": "28cc3ec3",
   "metadata": {},
   "outputs": [],
   "source": [
    "nbs=nbs.drop(columns=['text_label_x','text_label_y'])"
   ]
  },
  {
   "cell_type": "code",
   "execution_count": null,
   "id": "25fe1d29",
   "metadata": {},
   "outputs": [],
   "source": [
    "nbs['Outlet'] = nbs['outlet_x']\n",
    "nbs=nbs.drop(columns=['outlet_x','outlet_y'])"
   ]
  },
  {
   "cell_type": "code",
   "execution_count": null,
   "id": "9e9003dd",
   "metadata": {},
   "outputs": [],
   "source": [
    "nbs.columns"
   ]
  },
  {
   "cell_type": "code",
   "execution_count": null,
   "id": "b4c2e542",
   "metadata": {},
   "outputs": [],
   "source": [
    "nbs['new_categories'].unique()"
   ]
  },
  {
   "cell_type": "code",
   "execution_count": null,
   "id": "d115178a",
   "metadata": {},
   "outputs": [],
   "source": [
    "plt.hist(nbs['text_labels'])\n",
    "plt.xlabel('Label')\n",
    "plt.ylabel('Frequency')\n",
    "plt.plot()"
   ]
  },
  {
   "cell_type": "code",
   "execution_count": null,
   "id": "f0242324",
   "metadata": {},
   "outputs": [],
   "source": []
  }
 ],
 "metadata": {
  "kernelspec": {
   "display_name": "base",
   "language": "python",
   "name": "python3"
  },
  "language_info": {
   "codemirror_mode": {
    "name": "ipython",
    "version": 3
   },
   "file_extension": ".py",
   "mimetype": "text/x-python",
   "name": "python",
   "nbconvert_exporter": "python",
   "pygments_lexer": "ipython3",
   "version": "3.12.3"
  }
 },
 "nbformat": 4,
 "nbformat_minor": 5
}
