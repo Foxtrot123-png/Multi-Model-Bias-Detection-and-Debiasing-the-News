{
 "cells": [
  {
   "cell_type": "code",
   "execution_count": 15,
   "id": "be12f452",
   "metadata": {},
   "outputs": [],
   "source": [
    "import pandas as pd \n",
    "import numpy as np"
   ]
  },
  {
   "cell_type": "code",
   "execution_count": 20,
   "id": "bf21d087",
   "metadata": {},
   "outputs": [],
   "source": [
    "df1 = pd.read_csv('C:\\\\Users\\\\ritik\\\\OneDrive\\\\Documents\\\\GitHub\\\\Multi-Model-Bias-Detection-and-Debiasing-the-News\\\\BABE Dataset\\\\DifferentFiles\\\\final_labels_MBIC.csv',delimiter=';')\n",
    "df2 = pd.read_csv('C:\\\\Users\\\\ritik\\\\OneDrive\\\\Documents\\\\GitHub\\\\Multi-Model-Bias-Detection-and-Debiasing-the-News\\\\BABE Dataset\\\\DifferentFiles\\\\final_labels_SG1.csv',delimiter=';')\n",
    "df3 = pd.read_csv('C:\\\\Users\\\\ritik\\\\OneDrive\\\\Documents\\\\GitHub\\\\Multi-Model-Bias-Detection-and-Debiasing-the-News\\\\BABE Dataset\\\\DifferentFiles\\\\final_labels_SG2.csv',delimiter=';')\n",
    "\n",
    "babe = pd.concat([df1, df2, df3], ignore_index=True)\n"
   ]
  },
  {
   "cell_type": "code",
   "execution_count": 21,
   "id": "02f946f2",
   "metadata": {},
   "outputs": [
    {
     "data": {
      "application/vnd.microsoft.datawrangler.viewer.v0+json": {
       "columns": [
        {
         "name": "index",
         "rawType": "int64",
         "type": "integer"
        },
        {
         "name": "text",
         "rawType": "object",
         "type": "string"
        },
        {
         "name": "news_link",
         "rawType": "object",
         "type": "string"
        },
        {
         "name": "outlet",
         "rawType": "object",
         "type": "string"
        },
        {
         "name": "topic",
         "rawType": "object",
         "type": "string"
        },
        {
         "name": "type",
         "rawType": "object",
         "type": "string"
        },
        {
         "name": "group_id",
         "rawType": "float64",
         "type": "float"
        },
        {
         "name": "num_sent",
         "rawType": "float64",
         "type": "float"
        },
        {
         "name": "label_bias",
         "rawType": "object",
         "type": "string"
        },
        {
         "name": "label_opinion",
         "rawType": "object",
         "type": "string"
        },
        {
         "name": "article",
         "rawType": "object",
         "type": "string"
        },
        {
         "name": "biased_words",
         "rawType": "object",
         "type": "string"
        }
       ],
       "ref": "f9a5f1a5-ddfa-4c97-a630-2b47a3c8b8bf",
       "rows": [
        [
         "0",
         "YouTube is making clear there will be no “birtherism” on its platform during this year’s U.S. presidential election – a belated response to a type of conspiracy theory more prevalent in the 2012 race.",
         "https://eu.usatoday.com/story/tech/2020/02/03/youtube-google-wont-allow-deepfake-videos-2020-election-census/4648312002/",
         "usa-today",
         "elections-2020",
         "center",
         "1.0",
         "1.0",
         "Biased",
         "Somewhat factual but also opinionated",
         "YouTube says no ‘deepfakes’ or ‘birther’ videos with toughened 2020 election stance\nYouTube is making clear there will be no “birtherism” on its platform during this year’s U.S. presidential election – a belated response to a type of conspiracy theory more prevalent in the 2012 race.\nThe Google-owned video service is also reiterating that it won’t allow election-related “deepfake” videos and anything that aims to mislead viewers about voting procedures and how to participate in the 2020 census.\nYouTube clarified its rules ahead of the Iowa caucuses Monday. The company is mostly reiterating content guidelines that it has been putting in place since the last presidential election in 2016.\nIts ban on technically manipulated videos of political figures was made apparent last year when YouTube became the first major platform to remove a doctored video of House Speaker Nancy Pelosi. But the announcement Monday further clarifies that it will take down any election-related videos that are technically altered to mislead people in a way that goes beyond simply taking clips of speech out of context. The company also said it would remove doctored videos that could cause “serious risk of egregious harm” – such as to make it appear that a government official is dead.\n'Hey Google, show me photos': Google presents emotional 'Loretta' Super Bowl commercial\nFacebook: Sheryl Sandberg updates her relationship status with engagement announcement\nFacebook, which last year had resisted early calls to yank the Pelosi video, said in January that it was banning “deepfake” videos, the false but realistic clips created with artificial intelligence and sophisticated tools. Such videos are still fairly rare compared to simpler “cheap fake” manipulations such as were used in the video that altered Pelosi’s speech to make it seem like she was slurring her words.\nGoogle also said Monday that it will remove any videos that advance false claims about whether political candidates and elected officials are eligible to serve in office. That had been policy before, but wasn’t made explicit.\nThe company’s announcement comes about nine years after celebrity businessman Donald Trump began to get notice for claiming that Barack Obama, the nation’s first African American president, was not born in the United States.\nTrump repeatedly voiced citizenship doubts even after Obama produced his long-form birth certificate. Trump only fully backed off from the idea in the final stages of his 2016 presidential campaign.\nYouTube said it will also crack down on any attempts to artificially increase the number of views, likes and comments on videos. It changed its systems for recommending what videos users watch last year in a push to curb harmful misinformation. Twitter and Pinterest also last week outlined their efforts to reduce election misinformation on their platforms.\nMisinformation: Facebook, Google, YouTube and Twitter scramble to contain cororavirus misinformation\nDeepfakes: How to spot them on Facebook and YouTube ahead of the presidential election",
         "['belated', 'birtherism']"
        ],
        [
         "1",
         "So while there may be a humanitarian crisis driving more vulnerable people to seek asylum in the United States, there is no security crisis.",
         "https://www.alternet.org/2019/01/here-are-5-of-trumps-lies-from-his-oval-office-speech-about-his-ridiculous-border-wall-demands/",
         "alternet",
         "immigration",
         "left",
         "1.0",
         "1.0",
         "Biased",
         "Expresses writer’s opinion",
         "Speaking to the country for the first time from the Oval Office Tuesday night, President Donald Trump doubled down on his demands for a border wall in a brief speech amid his self-induced government shutdown\nDemocrats remain completely opposed to the president’s proposal for a wall and arranged to respond to Trump’s remarks shortly after he made them. Ahead of the speech, there was widespread debate about the TV network’s decision to broadcast the speech at all, given Trump’s propensity to lie and mislead about this subject in particular.\nHere are five of the lies or misleading statements he made in the address:\n1. Trump claimed there is a “security” crisis on the border.\nWhile there has been an increase in children and families crossing the border seeking asylum in recent months, the rate of apprehensions of undocumented immigrants at the U.S.-Mexico border is actually much lower than it has been in recent history, as Vox’s Dara Lind explained. The Trump administration’s claims that there is some sort of terrorism risk from the border have been debunked. So while there may be a humanitarian crisis driving more vulnerable people to seek asylum in the United States, there is no security crisis.\n2. Trump said illegal immigration drives down wages.\nOne of the most common canards against immigration is the idea that illegal immigrants drive down the wages for native workers. While some economists argue this to be the case for some lower-income workers, many others disagree. But even if it’s true, the impact of immigrants on wages is marginal, and it could be completely wiped out by pro-labor policies that Trump and other Republicans oppose, like raising the minimum wage and protecting unions.\n3. Trump lied and said that the Democrats requested a “steel barrier.”\nDemocrats have not requested a steel barrier. House Speaker Nancy Pelosi has said that she wants to spend exactly $0 on the wall — no matter what it’s made out of.\n4. Trump said the border wall will pay for itself.\nTrump used to say that Mexico will pay for the wall, but since that is impossible, he has endorsed the bizarre claim that the wall will pay for itself. There’s no reason to believe this is the case — especially when it’s considered that the government will not only have to pay for the construction of the wall, but for any land seized to build the wall through eminent domain.\n5. Trump said the new version of NAFTA will also pay for the wall.\nThe new version of NAFTA, which Trump calls USMCA, has some minor modifications from the original version. However, there’s no plausible argument that it will somehow pay for the wall. And even if it did, it hasn’t even been passed by Congress yet.",
         "['crisis']"
        ],
        [
         "2",
         "Looking around the United States, there is never enough welfare for the left to stop killing developing humans in utero—solidly Democratic states lead the nation in abortion rates. ",
         "https://thefederalist.com/2020/03/11/woman-who-killed-baby-over-maternity-leave-proves-welfare-wont-fix-abortion/?fbclid=IwAR2SBE3O9KtpsqJvMCIeSlk4Zeqn3oexJevVoXUhDpKszW_VHrTEMBiewaw",
         "federalist",
         "abortion",
         "right",
         "1.0",
         "1.0",
         "Biased",
         "Somewhat factual but also opinionated",
         "The left has a thing for taking babies hostage. A perfect example of the “give us socialism or we’ll kill the kids” genre was recently published in The Guardian titled “The hardest decision of my life: to end a pregnancy because I had no paid leave.”\nThis sort of story is irresistible to left-wing Christians such as Elizabeth Bruenig of The New York Times, whose tweet about the article is now deleted. It allows them to declare that the real way to end abortion is to make abortion unnecessary, and the only way to do that is by establishing a generous cradle-to-grave welfare state.\nThis argument salves their consciences for their support of radically pro-abortion politicians like Sen. Bernie Sanders. It is also an extension of the dishonest taunt that conservative Christians only care about babies before they’re born.\nThe Guardian article was designed to illustrate that argument, but on examination it demonstrates its failure. The author knew the child in her womb was a unique human life (“Looking at our wedding photos, I realized there were not just two lives present but three”), yet she chose an abortion anyway.\nHer ostensible reason is that, having just begun her job, she was not yet eligible for its paid leave policy, although management might have made an exception if she had asked (she thought about asking, but didn’t). She would certainly have been able to use sick days, if she had them, or ask for an unpaid leave of absence. This means she aborted her child because she was at risk of losing a few weeks’ pay.\nThe author does not provide details, but it is revealing that she described her decision in terms of anxiety and planning preferences—“Was having the baby with extremely limited funds, in a small apartment, actually a romantic way to start a family?”—rather than directly stating that having the baby would be financially ruinous. She concludes her self-justification by declaring that “our situation did not embody the climate of confidence we agreed was necessary for us to be parents.”\nThis shift from paid leave to a general “climate of confidence” gives the game away. If this was just about a few weeks of pay, it raises the question of whether there was some way for the author to raise that money in lieu of having her child killed. Notably, she does not report asking anyone for help. Her initial framing forces her to put a dollar amount on the life of her child, and confronts whether she could have done anything to ransom her baby. In contrast, demanding a “climate of confidence” makes her subjective sense of things a justification for what she did, regardless of the actual details of her case.\nThis is not to say that her situation was not sympathetic. Having a baby is hard. Caring for a baby is hard. Going back to work after a few weeks, or even a few months, of leave is hard, made harder still if that leave has been at least partly unpaid. But a few weeks of salary is not worth killing your baby for.\nI am open to arguments that the United States should have more substantial pro-natalist policies, and conservatives have been promoting and debating various proposals that would add to existing policies such as the child tax credit and, yes, paid family leave, which President Trump promoted in his latest State of the Union address. But the left wants more than generous family leave policies, and will still champion abortion even if it gets its entire wish list.\nLooking around the world, there is never enough socialism for socialists to agree to abolish abortion. Looking around the United States, there is never enough welfare for the left to agree to end abortion—solidly Democratic states lead the nation in abortion rates. Even if the left gets everything else it wants, it will still insist on a right to kill developing humans in utero.\nIn contrast, I and many others would happily compromise to end the legal killing of developing human persons in utero. Tax us more, cut the military, regulate businesses more, and expand the welfare state—we could tolerate America becoming more like 1970s Scandinavia if it meant that the left would agree let the babies live. But the left won’t, and the Guardian article shows why.\nBearing and raising children requires sacrifices even in the most generous of welfare states. Rather than make those sacrifices, this mother sacrificed her child, and the left will defend her absolute right to do so even in their socialist utopia. Their vision of liberation from material necessity includes liberation not only from poverty, but also from the consequences of our sexual embodiment. Hence the unwavering socialist support for unrestricted legal abortion.\nOf course, many people refuse to admit the monstrous reality of the abortion regime that they and their political leaders support. Hence the pretense that some invisible hand of socialist plenty will end abortion, and the efforts to deflect blame for our nation’s abortion culture onto those who are working to abolish it. But it is just not so.\nIt was not stingy family leave policies that had this baby killed, it was the child’s mother, encouraged and enabled by a culture and legal regime that regard babies as a capstone consumer commodity to be ordered up when convenient, and violently disposed of when inconvenient. She didn’t get an abortion because it was impossible for her to afford her baby; she got an abortion because she didn’t want her baby.",
         "['killing', 'never', 'developing', 'humans', 'enough']"
        ],
        [
         "3",
         "The Republican president assumed he was helping the industry at the expense of the environment – a trade-off Trump was happy to make since he rejects climate science anyway. ",
         "http://www.msnbc.com/rachel-maddow-show/auto-industry-trump-youre-going-the-wrong-way-emissions",
         "msnbc",
         "environment",
         "left",
         "1.0",
         "1.0",
         "Biased",
         "Expresses writer’s opinion",
         "In Barack Obama’s first term, the administration came to a fairly obvious conclusion: to address the climate crisis, we’re going to need to reduce emissions, and in the United States, the #1 source of carbon pollution is transportation. With that in mind, the Democratic White House created tough fuel-efficiency standards for the auto industry, to be phased in gradually.\nManufacturers, not surprisingly, weren’t thrilled, but there was a broad realization that the policy, in conjunction with a series of related efforts, would make a positive difference.\nThen Donald Trump got elected. Last summer, the Republican White House announced plans to roll back the tougher standards, making it easier for the automotive industry to sell less efficient vehicles that pollute more.\nBy way of a defense, the Trump administration said the new policy would improve auto safety – which as we discussed at the time, makes about as much sense as it sounds.\nNevertheless, the Republican president assumed he was helping the industry at the expense of the environment – a trade-off Trump was happy to make since he rejects climate science anyway. But the New York Times reports today on an unexpected twist: auto manufacturers believe the White House’s anti-climate plans have gone too far.\nThe world’s largest automakers warned President Trump on Thursday that one of his most sweeping deregulatory efforts – his plan to weaken tailpipe pollution standards – threatens to cut their profits and produce “untenable” instability in a crucial manufacturing sector. In a letter signed by 17 companies including Ford, General Motors, Toyota and Volvo, the automakers asked Mr. Trump to go back to the negotiating table on the planned rollback of one of President Barack Obama’s signature policies to fight climate change.\nThe problem for the industry has become a practical one: Trump intends to go so far in gutting pollution safeguards that many states intend to enforce stricter emissions standards on their own.\nThat includes, naturally, California – home to the nation’s largest consumer base.\nThe result is an exceedingly messy economic dynamic, in which car manufacturers in the United States – which had already begun taking steps to comply with the Obama-era policy – will have to make different vehicles to sell in different parts of the country.\nNot surprisingly, no one sees that as a sustainable business model.\nThe industry seems to realize this is a mess it helped create: companies wanted Trump to roll back Obama-era standards, so he did. What manufacturers didn’t realize is (a) how far the Republican would go; and (b) what would happen if they got what they wanted.\nComplicating matters, of course, there’s a decent chance a Democrat will win the presidency next year, at which point he or she will likely abandon Trump’s pro-pollution posture and go back to the auto industry with some thoughts about even more stringent emissions rules.\nThe industry wants the White House to negotiate some kind of deal with California, with the intention of creating a national standard that everyone can live with. That seems unlikely: Team Trump broke off talks with the Golden State months ago, and California Gov. Gavin Newsom (D) has rejected the idea of halfway measures.\nWatch this space.",
         "['rejects', 'happy', 'assumed']"
        ],
        [
         "4",
         "The explosion of the Hispanic population has long-term job prospect consequences as well: Both legal and illegal aliens will occupy 75 percent of new American jobs in as little as five years.",
         "https://www.breitbart.com/politics/2015/02/26/obama-to-amnesty-beneficiaries-theres-going-to-be-a-president-rodriguez-someday/",
         "breitbart",
         "student-debt",
         "right",
         "1.0",
         "1.0",
         "Biased",
         "No agreement",
         "Republicans should stop fighting amnesty, President Obama said on Thursday, because one day a Hispanic will become president.\n“Over the long term, this is going to get solved, because at some point there’s going to be a President Rodriguez or there’s going to be a President Chen,” Obama told a Florida International University town hall audience, hosted by Telemundo and MSNBC.\n“The country is a nation of immigrants, and ultimately it will reflect who we are and its politics are going to reflect who we are,” Obama continued, implying that neither native-born Americans or legal immigrants have moral standing to determine who enters and stays in the country.\nHispanic foreigners attending the town hall — Fox News Latino did not say whether they were legal or illegal aliens — told Obama they feared that federal Judge Andrew Hansen’s stay on Obama’s executive order will force them to return to their home countries. (Fox News Latino incorrectly identifies Hansen as a Texas judge.)\nThe five million illegal aliens covered by Obama’s executive order could also cash in on as much as $35,000 in taxpayer handouts. That’s a minimum $175 million cost to American taxpayers for the first year alone, not counting the massive strain the low-income, poorly-educated, gang-prone aliens with high rates of illegitimacy and untreated diseases will place on the country’s medical and social institutions.\nObama’s claim that “history” was on his side is arguably false. The massive, historically unprecedented wave of immigrants crashing across the U.S. southern border is a political phenomenon, set in motion by the 1965 Immigration and Nationality Act and accelerated by the Obama administration’s disastrous Deferred Action for Childhood Arrivals (DACA).\nThe explosion of the Hispanic population has long-term job prospect consequences as well: Both legal and illegal aliens will occupy 75 percent of new American jobs in as little as five years.\nEach year, four million Americans seeking jobs turn 18. In 2012, almost six million Americans graduated from college, saddled with an average $27,000 in student loan debt — $8,000 less than the handouts available for illegals presently in the country.\nEmail Katie at kmchugh@breitbart.com.",
         "['explosion']"
        ]
       ],
       "shape": {
        "columns": 11,
        "rows": 5
       }
      },
      "text/html": [
       "<div>\n",
       "<style scoped>\n",
       "    .dataframe tbody tr th:only-of-type {\n",
       "        vertical-align: middle;\n",
       "    }\n",
       "\n",
       "    .dataframe tbody tr th {\n",
       "        vertical-align: top;\n",
       "    }\n",
       "\n",
       "    .dataframe thead th {\n",
       "        text-align: right;\n",
       "    }\n",
       "</style>\n",
       "<table border=\"1\" class=\"dataframe\">\n",
       "  <thead>\n",
       "    <tr style=\"text-align: right;\">\n",
       "      <th></th>\n",
       "      <th>text</th>\n",
       "      <th>news_link</th>\n",
       "      <th>outlet</th>\n",
       "      <th>topic</th>\n",
       "      <th>type</th>\n",
       "      <th>group_id</th>\n",
       "      <th>num_sent</th>\n",
       "      <th>label_bias</th>\n",
       "      <th>label_opinion</th>\n",
       "      <th>article</th>\n",
       "      <th>biased_words</th>\n",
       "    </tr>\n",
       "  </thead>\n",
       "  <tbody>\n",
       "    <tr>\n",
       "      <th>0</th>\n",
       "      <td>YouTube is making clear there will be no “birt...</td>\n",
       "      <td>https://eu.usatoday.com/story/tech/2020/02/03/...</td>\n",
       "      <td>usa-today</td>\n",
       "      <td>elections-2020</td>\n",
       "      <td>center</td>\n",
       "      <td>1.0</td>\n",
       "      <td>1.0</td>\n",
       "      <td>Biased</td>\n",
       "      <td>Somewhat factual but also opinionated</td>\n",
       "      <td>YouTube says no ‘deepfakes’ or ‘birther’ video...</td>\n",
       "      <td>['belated', 'birtherism']</td>\n",
       "    </tr>\n",
       "    <tr>\n",
       "      <th>1</th>\n",
       "      <td>So while there may be a humanitarian crisis dr...</td>\n",
       "      <td>https://www.alternet.org/2019/01/here-are-5-of...</td>\n",
       "      <td>alternet</td>\n",
       "      <td>immigration</td>\n",
       "      <td>left</td>\n",
       "      <td>1.0</td>\n",
       "      <td>1.0</td>\n",
       "      <td>Biased</td>\n",
       "      <td>Expresses writer’s opinion</td>\n",
       "      <td>Speaking to the country for the first time fro...</td>\n",
       "      <td>['crisis']</td>\n",
       "    </tr>\n",
       "    <tr>\n",
       "      <th>2</th>\n",
       "      <td>Looking around the United States, there is nev...</td>\n",
       "      <td>https://thefederalist.com/2020/03/11/woman-who...</td>\n",
       "      <td>federalist</td>\n",
       "      <td>abortion</td>\n",
       "      <td>right</td>\n",
       "      <td>1.0</td>\n",
       "      <td>1.0</td>\n",
       "      <td>Biased</td>\n",
       "      <td>Somewhat factual but also opinionated</td>\n",
       "      <td>The left has a thing for taking babies hostage...</td>\n",
       "      <td>['killing', 'never', 'developing', 'humans', '...</td>\n",
       "    </tr>\n",
       "    <tr>\n",
       "      <th>3</th>\n",
       "      <td>The Republican president assumed he was helpin...</td>\n",
       "      <td>http://www.msnbc.com/rachel-maddow-show/auto-i...</td>\n",
       "      <td>msnbc</td>\n",
       "      <td>environment</td>\n",
       "      <td>left</td>\n",
       "      <td>1.0</td>\n",
       "      <td>1.0</td>\n",
       "      <td>Biased</td>\n",
       "      <td>Expresses writer’s opinion</td>\n",
       "      <td>In Barack Obama’s first term, the administrati...</td>\n",
       "      <td>['rejects', 'happy', 'assumed']</td>\n",
       "    </tr>\n",
       "    <tr>\n",
       "      <th>4</th>\n",
       "      <td>The explosion of the Hispanic population has l...</td>\n",
       "      <td>https://www.breitbart.com/politics/2015/02/26/...</td>\n",
       "      <td>breitbart</td>\n",
       "      <td>student-debt</td>\n",
       "      <td>right</td>\n",
       "      <td>1.0</td>\n",
       "      <td>1.0</td>\n",
       "      <td>Biased</td>\n",
       "      <td>No agreement</td>\n",
       "      <td>Republicans should stop fighting amnesty, Pres...</td>\n",
       "      <td>['explosion']</td>\n",
       "    </tr>\n",
       "  </tbody>\n",
       "</table>\n",
       "</div>"
      ],
      "text/plain": [
       "                                                text  \\\n",
       "0  YouTube is making clear there will be no “birt...   \n",
       "1  So while there may be a humanitarian crisis dr...   \n",
       "2  Looking around the United States, there is nev...   \n",
       "3  The Republican president assumed he was helpin...   \n",
       "4  The explosion of the Hispanic population has l...   \n",
       "\n",
       "                                           news_link      outlet  \\\n",
       "0  https://eu.usatoday.com/story/tech/2020/02/03/...   usa-today   \n",
       "1  https://www.alternet.org/2019/01/here-are-5-of...    alternet   \n",
       "2  https://thefederalist.com/2020/03/11/woman-who...  federalist   \n",
       "3  http://www.msnbc.com/rachel-maddow-show/auto-i...       msnbc   \n",
       "4  https://www.breitbart.com/politics/2015/02/26/...   breitbart   \n",
       "\n",
       "            topic    type  group_id  num_sent label_bias  \\\n",
       "0  elections-2020  center       1.0       1.0     Biased   \n",
       "1     immigration    left       1.0       1.0     Biased   \n",
       "2        abortion   right       1.0       1.0     Biased   \n",
       "3     environment    left       1.0       1.0     Biased   \n",
       "4    student-debt   right       1.0       1.0     Biased   \n",
       "\n",
       "                           label_opinion  \\\n",
       "0  Somewhat factual but also opinionated   \n",
       "1             Expresses writer’s opinion   \n",
       "2  Somewhat factual but also opinionated   \n",
       "3             Expresses writer’s opinion   \n",
       "4                           No agreement   \n",
       "\n",
       "                                             article  \\\n",
       "0  YouTube says no ‘deepfakes’ or ‘birther’ video...   \n",
       "1  Speaking to the country for the first time fro...   \n",
       "2  The left has a thing for taking babies hostage...   \n",
       "3  In Barack Obama’s first term, the administrati...   \n",
       "4  Republicans should stop fighting amnesty, Pres...   \n",
       "\n",
       "                                        biased_words  \n",
       "0                          ['belated', 'birtherism']  \n",
       "1                                         ['crisis']  \n",
       "2  ['killing', 'never', 'developing', 'humans', '...  \n",
       "3                    ['rejects', 'happy', 'assumed']  \n",
       "4                                      ['explosion']  "
      ]
     },
     "execution_count": 21,
     "metadata": {},
     "output_type": "execute_result"
    }
   ],
   "source": [
    "babe.head()"
   ]
  },
  {
   "cell_type": "code",
   "execution_count": null,
   "id": "00cdf688",
   "metadata": {},
   "outputs": [
    {
     "data": {
      "text/plain": [
       "array(['center', 'left', 'right', nan], dtype=object)"
      ]
     },
     "execution_count": 23,
     "metadata": {},
     "output_type": "execute_result"
    }
   ],
   "source": [
    "babe['type']"
   ]
  },
  {
   "cell_type": "code",
   "execution_count": null,
   "id": "59d7b1a7",
   "metadata": {},
   "outputs": [],
   "source": []
  }
 ],
 "metadata": {
  "kernelspec": {
   "display_name": "base",
   "language": "python",
   "name": "python3"
  },
  "language_info": {
   "name": "python",
   "version": "3.12.7"
  }
 },
 "nbformat": 4,
 "nbformat_minor": 5
}
